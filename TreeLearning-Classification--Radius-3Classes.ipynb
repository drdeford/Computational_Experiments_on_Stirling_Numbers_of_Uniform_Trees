{
 "cells": [
  {
   "cell_type": "code",
   "execution_count": 1,
   "metadata": {},
   "outputs": [],
   "source": [
    "# importing libraries needed for this code\n",
    "import networkx as nx\n",
    "import numpy as np\n",
    "import random\n",
    "from random import sample\n",
    "import matplotlib.pyplot as plt\n",
    "import seaborn as sns\n",
    "import pandas as pd"
   ]
  },
  {
   "cell_type": "code",
   "execution_count": 2,
   "metadata": {},
   "outputs": [],
   "source": [
    "# change figure configurations\n",
    "%matplotlib inline\n",
    "import matplotlib\n",
    "font = {'size':16}\n",
    "matplotlib.rc('font', **font)\n",
    "matplotlib.rc('figure', figsize=(5.0, 5.0))"
   ]
  },
  {
   "cell_type": "code",
   "execution_count": 3,
   "metadata": {},
   "outputs": [],
   "source": [
    "# number of vertices and number of trees\n",
    "n = 20\n",
    "N = 200"
   ]
  },
  {
   "cell_type": "code",
   "execution_count": 4,
   "metadata": {},
   "outputs": [],
   "source": [
    "# path, star graph and complete graph on n vertices\n",
    "P_n = nx.path_graph(n)\n",
    "K_n = nx.complete_graph(n)\n",
    "S_n = nx.star_graph(n-1)"
   ]
  },
  {
   "cell_type": "code",
   "execution_count": 5,
   "metadata": {},
   "outputs": [],
   "source": [
    "# classes for trees\n",
    "classes = ['path-like','in-between','star-like']"
   ]
  },
  {
   "cell_type": "code",
   "execution_count": 6,
   "metadata": {},
   "outputs": [],
   "source": [
    "# needs comments\n",
    "def get_spanning_tree_u_w(G):\n",
    "    node_set=set(G.nodes())\n",
    "    x0=random.choice(tuple(node_set))\n",
    "    x1=x0\n",
    "    while x1==x0:\n",
    "        x1=random.choice(tuple(node_set))\n",
    "    node_set.remove(x1)\n",
    "    tnodes ={x1}\n",
    "    tedges=[]\n",
    "    current=x0\n",
    "    current_path=[x0]\n",
    "    current_edges=[]\n",
    "    while node_set != set():\n",
    "        next=random.choice(list(G.neighbors(current)))\n",
    "        current_edges.append((current,next))\n",
    "        current = next\n",
    "        current_path.append(next)\n",
    "\n",
    "        if next in tnodes:\n",
    "            for x in current_path[:-1]:\n",
    "                node_set.remove(x)\n",
    "                tnodes.add(x)\n",
    "            for ed in current_edges:\n",
    "                tedges.append(ed)\n",
    "            current_edges = []\n",
    "            if node_set != set():\n",
    "                current=random.choice(tuple(node_set))\n",
    "            current_path=[current]\n",
    "\n",
    "\n",
    "        if next in current_path[:-1]:\n",
    "            current_path.pop()\n",
    "            current_edges.pop()\n",
    "            for i in range(len(current_path)):\n",
    "                if current_edges !=[]:\n",
    "                    current_edges.pop()\n",
    "                if current_path.pop() == next:\n",
    "                    break\n",
    "            if len(current_path)>0:\n",
    "                current=current_path[-1]\n",
    "            else:\n",
    "                current=random.choice(tuple(node_set))\n",
    "                current_path=[current]\n",
    "\n",
    "\n",
    "    return tedges\n",
    "\n",
    "\n",
    "def get_spanning_tree_u_ab(G):\n",
    "    node_set=set(G.nodes())\n",
    "    x0=random.choice(tuple(node_set))\n",
    "\n",
    "    node_set.remove(x0)\n",
    "\n",
    "    current=x0\n",
    "    tedges=[]\n",
    "\n",
    "    while node_set != set():\n",
    "        next=random.choice(list(G.neighbors(current)))\n",
    "        if next in node_set:\n",
    "            node_set.remove(next)\n",
    "            tedges.append((current, next))\n",
    "        current=next\n",
    "\n",
    "\n",
    "    return tedges\n",
    "\n",
    "\n",
    "def tree_cycle_walk_cut(T):\n",
    "\n",
    "    tempo=0\n",
    "    tedges=set(T.edges())\n",
    "    while tempo==0:\n",
    "        edge = (random.choice(tuple(T.nodes())),random.choice(tuple(T.nodes())))\n",
    "        if (edge[0],edge[1]) not in tedges and (edge[1],edge[0]) not in tedges:\n",
    "            tempo=1\n",
    "            T.add_edge(edge[0],edge[1])\n",
    "            ncycle=nx.find_cycle(T,edge[0])\n",
    "            cutedge=random.choice(tuple(ncycle))\n",
    "            T.remove_edge(cutedge[0],cutedge[1])\n",
    "    return T"
   ]
  },
  {
   "cell_type": "raw",
   "metadata": {},
   "source": [
    "# train and test sets\n",
    "TreeList_train = [S_n,P_n]\n",
    "for i in range(N-2):\n",
    "    t= get_spanning_tree_u_w(K_n)\n",
    "    tgraph=nx.Graph()\n",
    "    tgraph.add_edges_from(t)\n",
    "    TreeList_train.append(tgraph)   \n",
    "   \n",
    " \n",
    "TreeList_test = []\n",
    "for i in range(N):\n",
    "    t= get_spanning_tree_u_w(K_n)\n",
    "    tgraph=nx.Graph()\n",
    "    tgraph.add_edges_from(t)\n",
    "    TreeList_test.append(tgraph)"
   ]
  },
  {
   "cell_type": "raw",
   "metadata": {},
   "source": [
    "# cross-validation set\n",
    "TreeList_cv = []\n",
    "for i in range(N):\n",
    "    t= get_spanning_tree_u_w(K_n)\n",
    "    tgraph=nx.Graph()\n",
    "    tgraph.add_edges_from(t)\n",
    "    TreeList_cv.append(tgraph) "
   ]
  },
  {
   "cell_type": "raw",
   "metadata": {},
   "source": [
    "# pickling train and test sets\n",
    "import pickle\n",
    "dic_train = TreeList_train\n",
    "filename_train = 'TreeList_train_{}_{}.pkl'.format(n,N)\n",
    "f_train = open(filename_train,'wb')\n",
    "pickle.dump(dic_train,f_train)\n",
    "f_train.close()\n",
    "\n",
    "dic_test = TreeList_test\n",
    "filename_test = 'TreeList_test_{}_{}.pkl'.format(n,N)\n",
    "f_test = open(filename_test,'wb')\n",
    "pickle.dump(dic_test,f_test)\n",
    "f_test.close()"
   ]
  },
  {
   "cell_type": "code",
   "execution_count": 7,
   "metadata": {},
   "outputs": [],
   "source": [
    "# unpickling train and test sets\n",
    "import pickle\n",
    "filename_train = 'TreeList_train_{}_{}.pkl'.format(n,N)\n",
    "f_train = open(filename_train, 'rb')\n",
    "TreeList_train = pickle.load(f_train)\n",
    "f_train.close()\n",
    "\n",
    "filename_test = 'TreeList_test_{}_{}.pkl'.format(n,N)\n",
    "f_test = open(filename_test, 'rb')\n",
    "TreeList_test = pickle.load(f_test)\n",
    "f_test.close()"
   ]
  },
  {
   "cell_type": "code",
   "execution_count": 8,
   "metadata": {},
   "outputs": [],
   "source": [
    "# deletion-inclusion of a single edge in a tree\n",
    "def deletion_inclusion_trees(G):\n",
    "    H = G.copy()\n",
    "    K = G.copy()\n",
    "    E = G.edges()\n",
    "    e = sample(E, 1)\n",
    "    u,v = tuple(*e)\n",
    "    H.remove_edge(u,v)\n",
    "    incident_edges = list(nx.edge_boundary(K,*e))\n",
    "    K.remove_edges_from(incident_edges)\n",
    "    K = nx.contracted_edge(K, *e, self_loops=False)\n",
    "    return H, K\n",
    "\n",
    "# deletion-inclusion algorithm for a tree\n",
    "def deletion_inclusion_alg_trees(G):\n",
    "    Added = [G]\n",
    "    Removed = []\n",
    "    while len(Added) != 0:\n",
    "        for A in Added:\n",
    "            P,Q = deletion_inclusion_trees(A)\n",
    "            Added.remove(A)\n",
    "            if P.size() == 0:\n",
    "                Removed.append(P)\n",
    "            else:\n",
    "                Added.append(P)\n",
    "            if Q.size() == 0:\n",
    "                Removed.append(Q)\n",
    "            else:\n",
    "                Added.append(Q)\n",
    "    \n",
    "    return Removed\n",
    "\n",
    "# returns the list of Stirling numbers for a tree \n",
    "def get_stirling_trees(T): \n",
    "    m = int(np.ceil((n+1)/2))\n",
    "    L = deletion_inclusion_alg_trees(T)\n",
    "    C = [L[i].order() for i in range(len(L)) ]\n",
    "    unique, counts = np.unique(C, return_counts=True)\n",
    "    truecounts =np.zeros(m, dtype=int)\n",
    "    for index, i in enumerate(unique):\n",
    "        if i in unique:\n",
    "            if n%2 != 0:\n",
    "                truecounts[i-m] = counts[index]\n",
    "            else:\n",
    "                truecounts[i-m+1] = counts[index]\n",
    "    \n",
    "    return list(truecounts)\n",
    "\n",
    "# returns the degree sequence of a graph as a list\n",
    "def degree_seq(G):\n",
    "    return sorted([G.degree(v) for v in G.nodes()])"
   ]
  },
  {
   "cell_type": "code",
   "execution_count": 9,
   "metadata": {},
   "outputs": [],
   "source": [
    "path = get_stirling_trees(P_n)\n",
    "path_c = nx.radius(P_n)\n",
    "star_c = nx.radius(S_n)\n",
    "l_c = path_c - star_c\n",
    "\n",
    "# returns Stirling list, class and diameter of a tree\n",
    "def get_stirling_class(T):\n",
    "    counts = get_stirling_trees(T)\n",
    "    T_c = nx.radius(T)       \n",
    "    \n",
    "    if T_c <= star_c + .43*l_c:\n",
    "        cls = \"star-like\"\n",
    "    elif star_c + .43*l_c < T_c and T_c <= star_c + .57*l_c:\n",
    "        cls = \"in-between\"\n",
    "    elif star_c + .57*l_c < T_c:\n",
    "        cls = \"path-like\"\n",
    "                       \n",
    "    return counts, cls, T_c"
   ]
  },
  {
   "cell_type": "code",
   "execution_count": 10,
   "metadata": {},
   "outputs": [],
   "source": [
    "# predictors and observed values for training\n",
    "X_train = []\n",
    "y_train = []\n",
    "z_train = []\n",
    "m = int(np.ceil((n+1)/2))\n",
    "for i in range(len(TreeList_train)):\n",
    "    G = TreeList_train[i]\n",
    "    counts, GC, T_c = get_stirling_class(G)\n",
    "\n",
    "    X_train.append(list(counts))\n",
    "    y_train.append(GC)\n",
    "    z_train.append(T_c)\n",
    "    \n",
    "X_train = np.array(X_train)\n",
    "y_train = np.array(y_train)\n",
    "z_train = np.array(z_train)"
   ]
  },
  {
   "cell_type": "code",
   "execution_count": 11,
   "metadata": {},
   "outputs": [],
   "source": [
    "# predictors and observed values for testing\n",
    "X_test = []\n",
    "y_test = []\n",
    "z_test = []\n",
    "for i in range(len(TreeList_test)):\n",
    "    G = TreeList_test[i]\n",
    "    counts, GC, T_c = get_stirling_class(G)\n",
    "\n",
    "    X_test.append(list(counts))\n",
    "    y_test.append(GC)\n",
    "    z_test.append(T_c)\n",
    "    \n",
    "X_test = np.array(X_test)\n",
    "y_test = np.array(y_test)\n",
    "z_test = np.array(z_test)"
   ]
  },
  {
   "cell_type": "code",
   "execution_count": 12,
   "metadata": {},
   "outputs": [
    {
     "data": {
      "image/png": "[encoded data removed]",
      "text/plain": [
       "<Figure size 360x360 with 1 Axes>"
      ]
     },
     "metadata": {
      "needs_background": "light"
     },
     "output_type": "display_data"
    },
    {
     "name": "stdout",
     "output_type": "stream",
     "text": [
      "-----\n"
     ]
    },
    {
     "data": {
      "image/png": "[encoded data removed]",
      "text/plain": [
       "<Figure size 360x360 with 1 Axes>"
      ]
     },
     "metadata": {
      "needs_background": "light"
     },
     "output_type": "display_data"
    },
    {
     "name": "stdout",
     "output_type": "stream",
     "text": [
      "-----\n"
     ]
    },
    {
     "data": {
      "image/png": "[encoded data removed]",
      "text/plain": [
       "<Figure size 360x360 with 1 Axes>"
      ]
     },
     "metadata": {
      "needs_background": "light"
     },
     "output_type": "display_data"
    },
    {
     "name": "stdout",
     "output_type": "stream",
     "text": [
      "-----\n"
     ]
    },
    {
     "data": {
      "image/png": "[encoded data removed]",
      "text/plain": [
       "<Figure size 360x360 with 1 Axes>"
      ]
     },
     "metadata": {
      "needs_background": "light"
     },
     "output_type": "display_data"
    },
    {
     "name": "stdout",
     "output_type": "stream",
     "text": [
      "-----\n"
     ]
    },
    {
     "data": {
      "image/png": "[encoded data removed]",
      "text/plain": [
       "<Figure size 360x360 with 1 Axes>"
      ]
     },
     "metadata": {
      "needs_background": "light"
     },
     "output_type": "display_data"
    },
    {
     "name": "stdout",
     "output_type": "stream",
     "text": [
      "-----\n"
     ]
    },
    {
     "data": {
      "image/png": "[encoded data removed]",
      "text/plain": [
       "<Figure size 360x360 with 1 Axes>"
      ]
     },
     "metadata": {
      "needs_background": "light"
     },
     "output_type": "display_data"
    },
    {
     "name": "stdout",
     "output_type": "stream",
     "text": [
      "-----\n"
     ]
    },
    {
     "data": {
      "image/png": "[encoded data removed]",
      "text/plain": [
       "<Figure size 360x360 with 1 Axes>"
      ]
     },
     "metadata": {
      "needs_background": "light"
     },
     "output_type": "display_data"
    },
    {
     "name": "stdout",
     "output_type": "stream",
     "text": [
      "-----\n"
     ]
    },
    {
     "data": {
      "image/png": "[encoded data removed]",
      "text/plain": [
       "<Figure size 360x360 with 1 Axes>"
      ]
     },
     "metadata": {
      "needs_background": "light"
     },
     "output_type": "display_data"
    },
    {
     "name": "stdout",
     "output_type": "stream",
     "text": [
      "-----\n"
     ]
    }
   ],
   "source": [
    "# boxplots for s(T,k) for different values of k based on radius for the train set\n",
    "df_train = pd.DataFrame(X_train)\n",
    "df_tr = pd.concat([df_train,pd.DataFrame(z_train)],axis=1)\n",
    "df_tr.columns = ['x_{}'.format(j) for j in range(X_train.shape[1])] + ['radius']\n",
    "\n",
    "for i in range(1,9):\n",
    "    sns.boxplot(y=df_tr['x_{}'.format(i)],x=df_tr['radius'])\n",
    "    plt.show()\n",
    "    print('-----')"
   ]
  },
  {
   "cell_type": "code",
   "execution_count": 13,
   "metadata": {},
   "outputs": [
    {
     "data": {
      "image/png": "[encoded data removed]",
      "text/plain": [
       "<Figure size 360x360 with 1 Axes>"
      ]
     },
     "metadata": {
      "needs_background": "light"
     },
     "output_type": "display_data"
    },
    {
     "name": "stdout",
     "output_type": "stream",
     "text": [
      "-----\n"
     ]
    },
    {
     "data": {
      "image/png": "[encoded data removed]",
      "text/plain": [
       "<Figure size 360x360 with 1 Axes>"
      ]
     },
     "metadata": {
      "needs_background": "light"
     },
     "output_type": "display_data"
    },
    {
     "name": "stdout",
     "output_type": "stream",
     "text": [
      "-----\n"
     ]
    },
    {
     "data": {
      "image/png": "[encoded data removed]",
      "text/plain": [
       "<Figure size 360x360 with 1 Axes>"
      ]
     },
     "metadata": {
      "needs_background": "light"
     },
     "output_type": "display_data"
    },
    {
     "name": "stdout",
     "output_type": "stream",
     "text": [
      "-----\n"
     ]
    },
    {
     "data": {
      "image/png": "[encoded data removed]",
      "text/plain": [
       "<Figure size 360x360 with 1 Axes>"
      ]
     },
     "metadata": {
      "needs_background": "light"
     },
     "output_type": "display_data"
    },
    {
     "name": "stdout",
     "output_type": "stream",
     "text": [
      "-----\n"
     ]
    },
    {
     "data": {
      "image/png": "[encoded data removed]",
      "text/plain": [
       "<Figure size 360x360 with 1 Axes>"
      ]
     },
     "metadata": {
      "needs_background": "light"
     },
     "output_type": "display_data"
    },
    {
     "name": "stdout",
     "output_type": "stream",
     "text": [
      "-----\n"
     ]
    },
    {
     "data": {
      "image/png": "[encoded data removed]",
      "text/plain": [
       "<Figure size 360x360 with 1 Axes>"
      ]
     },
     "metadata": {
      "needs_background": "light"
     },
     "output_type": "display_data"
    },
    {
     "name": "stdout",
     "output_type": "stream",
     "text": [
      "-----\n"
     ]
    },
    {
     "data": {
      "image/png": "[encoded data removed]",
      "text/plain": [
       "<Figure size 360x360 with 1 Axes>"
      ]
     },
     "metadata": {
      "needs_background": "light"
     },
     "output_type": "display_data"
    },
    {
     "name": "stdout",
     "output_type": "stream",
     "text": [
      "-----\n"
     ]
    },
    {
     "data": {
      "image/png": "[encoded data removed]",
      "text/plain": [
       "<Figure size 360x360 with 1 Axes>"
      ]
     },
     "metadata": {
      "needs_background": "light"
     },
     "output_type": "display_data"
    },
    {
     "name": "stdout",
     "output_type": "stream",
     "text": [
      "-----\n"
     ]
    }
   ],
   "source": [
    "# boxplots for s(T,k) for different values of k based on radius for the test set\n",
    "df_test = pd.DataFrame(X_test)\n",
    "df_tr = pd.concat([df_test,pd.DataFrame(z_test)],axis=1)\n",
    "df_tr.columns = ['x_{}'.format(j) for j in range(X_test.shape[1])] + ['radius']\n",
    "\n",
    "for i in range(1,9):\n",
    "    sns.boxplot(y=df_tr['x_{}'.format(i)],x=df_tr['radius'])\n",
    "    plt.show()\n",
    "    print('-----')"
   ]
  },
  {
   "cell_type": "raw",
   "metadata": {},
   "source": [
    "# predictors and observed values for cross-validation\n",
    "X_cv = []\n",
    "y_cv = []\n",
    "z_cv = []\n",
    "for i in range(len(TreeList_cv)):\n",
    "    G = TreeList_cv[i]\n",
    "    counts, GC, T_c = get_stirling_class(G)\n",
    "\n",
    "    X_cv.append(list(counts))\n",
    "    y_cv.append(GC)\n",
    "    z_cv.append(T_c)\n",
    "    \n",
    "X_cv = np.array(X_cv)\n",
    "y_cv = np.array(y_cv)\n",
    "z_cv = np.array(z_cv)"
   ]
  },
  {
   "cell_type": "code",
   "execution_count": 14,
   "metadata": {},
   "outputs": [],
   "source": [
    "Range_1 = np.arange(.1,.9,.001)\n",
    "random_state =  np.random.RandomState(seed=42)\n",
    "#random_state = np.random.randint(1,1000)"
   ]
  },
  {
   "cell_type": "code",
   "execution_count": 15,
   "metadata": {},
   "outputs": [],
   "source": [
    "# calling the appropriate tools for classification\n",
    "from sklearn.ensemble import RandomForestClassifier, ExtraTreesClassifier, BaggingClassifier\n",
    "from sklearn.tree import DecisionTreeClassifier\n",
    "from sklearn.model_selection import cross_validate, GridSearchCV\n",
    "from sklearn.metrics import accuracy_score, confusion_matrix, matthews_corrcoef, hamming_loss, precision_score\n",
    "from sklearn.metrics import mean_squared_error, mean_absolute_error, explained_variance_score, classification_report\n",
    "from sklearn.pipeline import make_pipeline, Pipeline\n",
    "from sklearn.svm import SVC\n",
    "from sklearn.naive_bayes import BernoulliNB, MultinomialNB\n",
    "from sklearn.svm import LinearSVC\n",
    "from sklearn.linear_model import SGDClassifier"
   ]
  },
  {
   "cell_type": "code",
   "execution_count": 16,
   "metadata": {},
   "outputs": [],
   "source": [
    "# to save figures or not\n",
    "savefig = False"
   ]
  },
  {
   "cell_type": "code",
   "execution_count": 17,
   "metadata": {},
   "outputs": [
    {
     "name": "stdout",
     "output_type": "stream",
     "text": [
      "Train Score: 1.0\n",
      "Test Score: 0.64\n",
      "Train Matthews Corr: 1.0\n",
      "Test Matthews Corr: 0.21405784668098715\n",
      "Train Hamming Loss: 0.0\n",
      "Test Hamming Loss: 0.36\n",
      "Train Confusion Matrix:\n"
     ]
    },
    {
     "data": {
      "image/png": "[encoded data removed]",
      "text/plain": [
       "<Figure size 360x360 with 2 Axes>"
      ]
     },
     "metadata": {
      "needs_background": "light"
     },
     "output_type": "display_data"
    },
    {
     "name": "stdout",
     "output_type": "stream",
     "text": [
      "Test Confusion Matrix:\n"
     ]
    },
    {
     "data": {
      "image/png": "[encoded data removed]",
      "text/plain": [
       "<Figure size 360x360 with 2 Axes>"
      ]
     },
     "metadata": {
      "needs_background": "light"
     },
     "output_type": "display_data"
    },
    {
     "name": "stdout",
     "output_type": "stream",
     "text": [
      "Test Classification Report:\n",
      "              precision    recall  f1-score   support\n",
      "\n",
      "  in-between       0.77      0.73      0.75       145\n",
      "   path-like       0.41      0.39      0.40        31\n",
      "   star-like       0.30      0.42      0.35        24\n",
      "\n",
      "   micro avg       0.64      0.64      0.64       200\n",
      "   macro avg       0.49      0.51      0.50       200\n",
      "weighted avg       0.66      0.64      0.65       200\n",
      "\n"
     ]
    },
    {
     "data": {
      "text/html": [
       "<div>\n",
       "<style scoped>\n",
       "    .dataframe tbody tr th:only-of-type {\n",
       "        vertical-align: middle;\n",
       "    }\n",
       "\n",
       "    .dataframe tbody tr th {\n",
       "        vertical-align: top;\n",
       "    }\n",
       "\n",
       "    .dataframe thead th {\n",
       "        text-align: right;\n",
       "    }\n",
       "</style>\n",
       "<table border=\"1\" class=\"dataframe\">\n",
       "  <thead>\n",
       "    <tr style=\"text-align: right;\">\n",
       "      <th></th>\n",
       "      <th>f1-score</th>\n",
       "      <th>precision</th>\n",
       "      <th>recall</th>\n",
       "      <th>support</th>\n",
       "    </tr>\n",
       "  </thead>\n",
       "  <tbody>\n",
       "    <tr>\n",
       "      <th>in-between</th>\n",
       "      <td>0.749117</td>\n",
       "      <td>0.768116</td>\n",
       "      <td>0.731034</td>\n",
       "      <td>145.0</td>\n",
       "    </tr>\n",
       "    <tr>\n",
       "      <th>path-like</th>\n",
       "      <td>0.400000</td>\n",
       "      <td>0.413793</td>\n",
       "      <td>0.387097</td>\n",
       "      <td>31.0</td>\n",
       "    </tr>\n",
       "    <tr>\n",
       "      <th>star-like</th>\n",
       "      <td>0.350877</td>\n",
       "      <td>0.303030</td>\n",
       "      <td>0.416667</td>\n",
       "      <td>24.0</td>\n",
       "    </tr>\n",
       "    <tr>\n",
       "      <th>micro avg</th>\n",
       "      <td>0.640000</td>\n",
       "      <td>0.640000</td>\n",
       "      <td>0.640000</td>\n",
       "      <td>200.0</td>\n",
       "    </tr>\n",
       "    <tr>\n",
       "      <th>macro avg</th>\n",
       "      <td>0.499998</td>\n",
       "      <td>0.494980</td>\n",
       "      <td>0.511599</td>\n",
       "      <td>200.0</td>\n",
       "    </tr>\n",
       "    <tr>\n",
       "      <th>weighted avg</th>\n",
       "      <td>0.647215</td>\n",
       "      <td>0.657386</td>\n",
       "      <td>0.640000</td>\n",
       "      <td>200.0</td>\n",
       "    </tr>\n",
       "  </tbody>\n",
       "</table>\n",
       "</div>"
      ],
      "text/plain": [
       "              f1-score  precision    recall  support\n",
       "in-between    0.749117   0.768116  0.731034    145.0\n",
       "path-like     0.400000   0.413793  0.387097     31.0\n",
       "star-like     0.350877   0.303030  0.416667     24.0\n",
       "micro avg     0.640000   0.640000  0.640000    200.0\n",
       "macro avg     0.499998   0.494980  0.511599    200.0\n",
       "weighted avg  0.647215   0.657386  0.640000    200.0"
      ]
     },
     "execution_count": 17,
     "metadata": {},
     "output_type": "execute_result"
    }
   ],
   "source": [
    "# Decision Trees\n",
    "dtc = DecisionTreeClassifier(random_state=random_state, presort=True)\n",
    "\n",
    "#DecisionTreeClassifier(criterion='gini', splitter='best', max_depth=None, \n",
    "#                       min_samples_split=2, min_samples_leaf=1, min_weight_fraction_leaf=0.0, \n",
    "#                       max_features=None, random_state=None, max_leaf_nodes=None, min_impurity_decrease=0.0, \n",
    "#                       min_impurity_split=None, class_weight=None, presort=False)\n",
    "\n",
    "dtc.fit(X_train,y_train)\n",
    "y_train_dtc_pred = dtc.predict(X_train)\n",
    "y_test_dtc_pred = dtc.predict(X_test)\n",
    "print('Train Score:', dtc.score(X_train,y_train))\n",
    "print('Test Score:', dtc.score(X_test,y_test))\n",
    "print('Train Matthews Corr:', matthews_corrcoef(y_train,y_train_dtc_pred))\n",
    "print('Test Matthews Corr:', matthews_corrcoef(y_test,y_test_dtc_pred))\n",
    "print('Train Hamming Loss:', hamming_loss(y_train,y_train_dtc_pred))\n",
    "print('Test Hamming Loss:', hamming_loss(y_test,y_test_dtc_pred))\n",
    "\n",
    "print('Train Confusion Matrix:')\n",
    "cm_train_dtc = confusion_matrix(y_train,y_train_dtc_pred, labels=classes)\n",
    "fig = sns.heatmap(cm_train_dtc,annot=True, fmt=\"d\")\n",
    "plt.xlabel('Pedicted')\n",
    "plt.ylabel('True')\n",
    "plt.show()\n",
    "if savefig == True:\n",
    "    fig.figure.savefig('Tree-Train-Class-3-Rad.png')\n",
    "print('Test Confusion Matrix:')\n",
    "cm_test_dtc = confusion_matrix(y_test,y_test_dtc_pred, labels=classes)\n",
    "fig = sns.heatmap(cm_test_dtc,annot=True, fmt=\"d\")\n",
    "plt.xlabel('Pedicted')\n",
    "plt.ylabel('True')\n",
    "plt.show()\n",
    "if savefig == True:\n",
    "    fig.figure.savefig('Tree-Test-Class-3-Rad.png')\n",
    "\n",
    "print('Test Classification Report:')\n",
    "print(classification_report(y_test,y_test_dtc_pred))\n",
    "report = classification_report(y_test,y_test_dtc_pred, output_dict = True)\n",
    "df = pd.DataFrame(report).transpose()\n",
    "df"
   ]
  },
  {
   "cell_type": "code",
   "execution_count": 18,
   "metadata": {},
   "outputs": [
    {
     "name": "stdout",
     "output_type": "stream",
     "text": [
      "Train Score: 0.97\n",
      "Test Score: 0.715\n",
      "Train Matthews Corr: 0.9306871916346666\n",
      "Test Matthews Corr: 0.2191406569872027\n",
      "Test Hamming Loss: 0.285\n",
      "Train Hamming Loss: 0.03\n",
      "Out-of-bag Score: 0.715\n",
      "Train Confusion Matrix:\n"
     ]
    },
    {
     "name": "stderr",
     "output_type": "stream",
     "text": [
      "/home/amir/anaconda3/lib/python3.6/site-packages/sklearn/ensemble/bagging.py:610: UserWarning: Some inputs do not have OOB scores. This probably means too few estimators were used to compute any reliable oob estimates.\n",
      "  warn(\"Some inputs do not have OOB scores. \"\n",
      "/home/amir/anaconda3/lib/python3.6/site-packages/sklearn/ensemble/bagging.py:615: RuntimeWarning: invalid value encountered in true_divide\n",
      "  predictions.sum(axis=1)[:, np.newaxis])\n"
     ]
    },
    {
     "data": {
      "image/png": "[encoded data removed]",
      "text/plain": [
       "<Figure size 360x360 with 2 Axes>"
      ]
     },
     "metadata": {
      "needs_background": "light"
     },
     "output_type": "display_data"
    },
    {
     "name": "stdout",
     "output_type": "stream",
     "text": [
      "Test Confusion Matrix:\n"
     ]
    },
    {
     "data": {
      "image/png": "[encoded data removed]",
      "text/plain": [
       "<Figure size 360x360 with 2 Axes>"
      ]
     },
     "metadata": {
      "needs_background": "light"
     },
     "output_type": "display_data"
    },
    {
     "name": "stdout",
     "output_type": "stream",
     "text": [
      "Test Classification Report:\n",
      "              precision    recall  f1-score   support\n",
      "\n",
      "  in-between       0.76      0.90      0.82       145\n",
      "   path-like       0.69      0.29      0.41        31\n",
      "   star-like       0.27      0.17      0.21        24\n",
      "\n",
      "   micro avg       0.71      0.71      0.71       200\n",
      "   macro avg       0.57      0.45      0.48       200\n",
      "weighted avg       0.69      0.71      0.68       200\n",
      "\n"
     ]
    },
    {
     "data": {
      "text/html": [
       "<div>\n",
       "<style scoped>\n",
       "    .dataframe tbody tr th:only-of-type {\n",
       "        vertical-align: middle;\n",
       "    }\n",
       "\n",
       "    .dataframe tbody tr th {\n",
       "        vertical-align: top;\n",
       "    }\n",
       "\n",
       "    .dataframe thead th {\n",
       "        text-align: right;\n",
       "    }\n",
       "</style>\n",
       "<table border=\"1\" class=\"dataframe\">\n",
       "  <thead>\n",
       "    <tr style=\"text-align: right;\">\n",
       "      <th></th>\n",
       "      <th>f1-score</th>\n",
       "      <th>precision</th>\n",
       "      <th>recall</th>\n",
       "      <th>support</th>\n",
       "    </tr>\n",
       "  </thead>\n",
       "  <tbody>\n",
       "    <tr>\n",
       "      <th>in-between</th>\n",
       "      <td>0.820189</td>\n",
       "      <td>0.755814</td>\n",
       "      <td>0.896552</td>\n",
       "      <td>145.0</td>\n",
       "    </tr>\n",
       "    <tr>\n",
       "      <th>path-like</th>\n",
       "      <td>0.409091</td>\n",
       "      <td>0.692308</td>\n",
       "      <td>0.290323</td>\n",
       "      <td>31.0</td>\n",
       "    </tr>\n",
       "    <tr>\n",
       "      <th>star-like</th>\n",
       "      <td>0.205128</td>\n",
       "      <td>0.266667</td>\n",
       "      <td>0.166667</td>\n",
       "      <td>24.0</td>\n",
       "    </tr>\n",
       "    <tr>\n",
       "      <th>micro avg</th>\n",
       "      <td>0.715000</td>\n",
       "      <td>0.715000</td>\n",
       "      <td>0.715000</td>\n",
       "      <td>200.0</td>\n",
       "    </tr>\n",
       "    <tr>\n",
       "      <th>macro avg</th>\n",
       "      <td>0.478136</td>\n",
       "      <td>0.571596</td>\n",
       "      <td>0.451180</td>\n",
       "      <td>200.0</td>\n",
       "    </tr>\n",
       "    <tr>\n",
       "      <th>weighted avg</th>\n",
       "      <td>0.682662</td>\n",
       "      <td>0.687273</td>\n",
       "      <td>0.715000</td>\n",
       "      <td>200.0</td>\n",
       "    </tr>\n",
       "  </tbody>\n",
       "</table>\n",
       "</div>"
      ],
      "text/plain": [
       "              f1-score  precision    recall  support\n",
       "in-between    0.820189   0.755814  0.896552    145.0\n",
       "path-like     0.409091   0.692308  0.290323     31.0\n",
       "star-like     0.205128   0.266667  0.166667     24.0\n",
       "micro avg     0.715000   0.715000  0.715000    200.0\n",
       "macro avg     0.478136   0.571596  0.451180    200.0\n",
       "weighted avg  0.682662   0.687273  0.715000    200.0"
      ]
     },
     "execution_count": 18,
     "metadata": {},
     "output_type": "execute_result"
    }
   ],
   "source": [
    "# Bagging\n",
    "bc = BaggingClassifier(random_state=random_state,oob_score=True)\n",
    "\n",
    "# BaggingClassifier(base_estimator=None, n_estimators=10, max_samples=1.0, max_features=1.0, \n",
    "#                  bootstrap=True, bootstrap_features=False, oob_score=False, warm_start=False, \n",
    "#                 n_jobs=None, random_state=None, verbose=0)\n",
    "\n",
    "\n",
    "bc.fit(X_train,y_train)\n",
    "y_train_bc_pred = bc.predict(X_train)\n",
    "y_test_bc_pred = bc.predict(X_test)\n",
    "print('Train Score:', bc.score(X_train,y_train))\n",
    "print('Test Score:', bc.score(X_test,y_test))\n",
    "print('Train Matthews Corr:', matthews_corrcoef(y_train,y_train_bc_pred))\n",
    "print('Test Matthews Corr:', matthews_corrcoef(y_test,y_test_bc_pred))\n",
    "print('Test Hamming Loss:', hamming_loss(y_test,y_test_bc_pred))\n",
    "print('Train Hamming Loss:', hamming_loss(y_train,y_train_bc_pred))\n",
    "print('Out-of-bag Score:', bc.oob_score_)\n",
    "\n",
    "print('Train Confusion Matrix:')\n",
    "cm_train_bc = confusion_matrix(y_train,y_train_bc_pred, labels=classes)\n",
    "fig = sns.heatmap(cm_train_bc,annot=True, fmt=\"d\")\n",
    "plt.xlabel('Pedicted')\n",
    "plt.ylabel('True')\n",
    "plt.show()\n",
    "if savefig == True:\n",
    "    fig.figure.savefig('Bagging-Train-Class-3-Rad.png')\n",
    "print('Test Confusion Matrix:')\n",
    "cm_test_bc = confusion_matrix(y_test,y_test_bc_pred, labels=classes)\n",
    "fig = sns.heatmap(cm_test_bc,annot=True, fmt=\"d\")\n",
    "plt.xlabel('Pedicted')\n",
    "plt.ylabel('True')\n",
    "plt.show()\n",
    "if savefig == True:\n",
    "    fig.figure.savefig('Bagging-Test-Class-3-Rad.png')\n",
    "\n",
    "print('Test Classification Report:')\n",
    "print(classification_report(y_test,y_test_bc_pred))\n",
    "report = classification_report(y_test,y_test_bc_pred, output_dict = True)\n",
    "df = pd.DataFrame(report).transpose()\n",
    "df"
   ]
  },
  {
   "cell_type": "code",
   "execution_count": 19,
   "metadata": {},
   "outputs": [
    {
     "name": "stdout",
     "output_type": "stream",
     "text": [
      "Train Score: 1.0\n",
      "Test Score: 0.72\n",
      "Train Matthews Corr: 1.0\n",
      "Test Matthews Corr: 0.2603154378614886\n",
      "Train Hamming Loss: 0.0\n",
      "Test Hamming Loss: 0.28\n",
      "Out-of-bag Score: 0.78\n",
      "Train Confusion Matrix:\n"
     ]
    },
    {
     "data": {
      "image/png": "[encoded data removed]",
      "text/plain": [
       "<Figure size 360x360 with 2 Axes>"
      ]
     },
     "metadata": {
      "needs_background": "light"
     },
     "output_type": "display_data"
    },
    {
     "name": "stdout",
     "output_type": "stream",
     "text": [
      "Test Confusion Matrix:\n"
     ]
    },
    {
     "data": {
      "image/png": "[encoded data removed]",
      "text/plain": [
       "<Figure size 360x360 with 2 Axes>"
      ]
     },
     "metadata": {
      "needs_background": "light"
     },
     "output_type": "display_data"
    },
    {
     "name": "stdout",
     "output_type": "stream",
     "text": [
      "Test Classification Report:\n",
      "              precision    recall  f1-score   support\n",
      "\n",
      "  in-between       0.77      0.88      0.82       145\n",
      "   path-like       0.71      0.32      0.44        31\n",
      "   star-like       0.32      0.25      0.28        24\n",
      "\n",
      "   micro avg       0.72      0.72      0.72       200\n",
      "   macro avg       0.60      0.49      0.51       200\n",
      "weighted avg       0.70      0.72      0.70       200\n",
      "\n"
     ]
    },
    {
     "data": {
      "text/html": [
       "<div>\n",
       "<style scoped>\n",
       "    .dataframe tbody tr th:only-of-type {\n",
       "        vertical-align: middle;\n",
       "    }\n",
       "\n",
       "    .dataframe tbody tr th {\n",
       "        vertical-align: top;\n",
       "    }\n",
       "\n",
       "    .dataframe thead th {\n",
       "        text-align: right;\n",
       "    }\n",
       "</style>\n",
       "<table border=\"1\" class=\"dataframe\">\n",
       "  <thead>\n",
       "    <tr style=\"text-align: right;\">\n",
       "      <th></th>\n",
       "      <th>f1-score</th>\n",
       "      <th>precision</th>\n",
       "      <th>recall</th>\n",
       "      <th>support</th>\n",
       "    </tr>\n",
       "  </thead>\n",
       "  <tbody>\n",
       "    <tr>\n",
       "      <th>in-between</th>\n",
       "      <td>0.820513</td>\n",
       "      <td>0.766467</td>\n",
       "      <td>0.882759</td>\n",
       "      <td>145.0</td>\n",
       "    </tr>\n",
       "    <tr>\n",
       "      <th>path-like</th>\n",
       "      <td>0.444444</td>\n",
       "      <td>0.714286</td>\n",
       "      <td>0.322581</td>\n",
       "      <td>31.0</td>\n",
       "    </tr>\n",
       "    <tr>\n",
       "      <th>star-like</th>\n",
       "      <td>0.279070</td>\n",
       "      <td>0.315789</td>\n",
       "      <td>0.250000</td>\n",
       "      <td>24.0</td>\n",
       "    </tr>\n",
       "    <tr>\n",
       "      <th>micro avg</th>\n",
       "      <td>0.720000</td>\n",
       "      <td>0.720000</td>\n",
       "      <td>0.720000</td>\n",
       "      <td>200.0</td>\n",
       "    </tr>\n",
       "    <tr>\n",
       "      <th>macro avg</th>\n",
       "      <td>0.514676</td>\n",
       "      <td>0.598847</td>\n",
       "      <td>0.485113</td>\n",
       "      <td>200.0</td>\n",
       "    </tr>\n",
       "    <tr>\n",
       "      <th>weighted avg</th>\n",
       "      <td>0.697249</td>\n",
       "      <td>0.704298</td>\n",
       "      <td>0.720000</td>\n",
       "      <td>200.0</td>\n",
       "    </tr>\n",
       "  </tbody>\n",
       "</table>\n",
       "</div>"
      ],
      "text/plain": [
       "              f1-score  precision    recall  support\n",
       "in-between    0.820513   0.766467  0.882759    145.0\n",
       "path-like     0.444444   0.714286  0.322581     31.0\n",
       "star-like     0.279070   0.315789  0.250000     24.0\n",
       "micro avg     0.720000   0.720000  0.720000    200.0\n",
       "macro avg     0.514676   0.598847  0.485113    200.0\n",
       "weighted avg  0.697249   0.704298  0.720000    200.0"
      ]
     },
     "execution_count": 19,
     "metadata": {},
     "output_type": "execute_result"
    }
   ],
   "source": [
    "# Random Forest\n",
    "rfc = RandomForestClassifier(n_estimators=50,random_state=random_state,oob_score=True)\n",
    "\n",
    "#RandomForestClassifier(n_estimators='warn', criterion='gini', max_depth=None, min_samples_split=2, \n",
    "#                       min_samples_leaf=1, min_weight_fraction_leaf=0.0, max_features='auto', \n",
    "#                       max_leaf_nodes=None, min_impurity_decrease=0.0, min_impurity_split=None, \n",
    "#                       bootstrap=True, oob_score=False, n_jobs=None, random_state=None, \n",
    "#                       verbose=0, warm_start=False, class_weight=None)\n",
    "\n",
    "rfc.fit(X_train,y_train)\n",
    "y_train_rfc_pred = rfc.predict(X_train)\n",
    "y_test_rfc_pred = rfc.predict(X_test)\n",
    "print('Train Score:', rfc.score(X_train,y_train))\n",
    "print('Test Score:', rfc.score(X_test,y_test))\n",
    "print('Train Matthews Corr:', matthews_corrcoef(y_train,y_train_rfc_pred))\n",
    "print('Test Matthews Corr:', matthews_corrcoef(y_test,y_test_rfc_pred))\n",
    "print('Train Hamming Loss:', hamming_loss(y_train,y_train_rfc_pred))\n",
    "print('Test Hamming Loss:', hamming_loss(y_test,y_test_rfc_pred))\n",
    "print('Out-of-bag Score:', rfc.oob_score_)\n",
    "\n",
    "print('Train Confusion Matrix:')\n",
    "cm_train_rfc = confusion_matrix(y_train,y_train_rfc_pred, labels=classes)\n",
    "fig = sns.heatmap(cm_train_rfc,annot=True, fmt=\"d\")\n",
    "plt.xlabel('Pedicted')\n",
    "plt.ylabel('True')\n",
    "plt.show()\n",
    "if savefig == True:\n",
    "    fig.figure.savefig('Random-Train-Class-3-Rad.png')\n",
    "print('Test Confusion Matrix:')\n",
    "cm_test_rfc = confusion_matrix(y_test,y_test_rfc_pred, labels=classes)\n",
    "fig = sns.heatmap(cm_test_rfc,annot=True, fmt=\"d\")\n",
    "plt.xlabel('Pedicted')\n",
    "plt.ylabel('True')\n",
    "plt.show()\n",
    "if savefig == True:\n",
    "    fig.figure.savefig('Random-Test-Class-3-Rad.png')\n",
    "\n",
    "print('Test Classification Report:')\n",
    "print(classification_report(y_test,y_test_rfc_pred))\n",
    "report = classification_report(y_test,y_test_rfc_pred, output_dict = True)\n",
    "df = pd.DataFrame(report).transpose()\n",
    "df"
   ]
  },
  {
   "cell_type": "code",
   "execution_count": 20,
   "metadata": {
    "scrolled": true
   },
   "outputs": [
    {
     "name": "stdout",
     "output_type": "stream",
     "text": [
      "Train Score: 1.0\n",
      "Test Score: 0.715\n",
      "Train Matthews Corr: 1.0\n",
      "Test Matthews Corr: 0.26963319316939083\n",
      "Train Hamming Loss: 0.0\n",
      "Test Hamming Loss: 0.285\n",
      "Train Confusion Matrix:\n"
     ]
    },
    {
     "data": {
      "image/png": "[encoded data removed]",
      "text/plain": [
       "<Figure size 360x360 with 2 Axes>"
      ]
     },
     "metadata": {
      "needs_background": "light"
     },
     "output_type": "display_data"
    },
    {
     "name": "stdout",
     "output_type": "stream",
     "text": [
      "Test Confusion Matrix:\n"
     ]
    },
    {
     "data": {
      "image/png": "[encoded data removed]",
      "text/plain": [
       "<Figure size 360x360 with 2 Axes>"
      ]
     },
     "metadata": {
      "needs_background": "light"
     },
     "output_type": "display_data"
    },
    {
     "name": "stdout",
     "output_type": "stream",
     "text": [
      "Test Classification Report:\n",
      "              precision    recall  f1-score   support\n",
      "\n",
      "  in-between       0.77      0.86      0.81       145\n",
      "   path-like       0.68      0.42      0.52        31\n",
      "   star-like       0.26      0.21      0.23        24\n",
      "\n",
      "   micro avg       0.71      0.71      0.71       200\n",
      "   macro avg       0.57      0.50      0.52       200\n",
      "weighted avg       0.70      0.71      0.70       200\n",
      "\n"
     ]
    },
    {
     "data": {
      "text/html": [
       "<div>\n",
       "<style scoped>\n",
       "    .dataframe tbody tr th:only-of-type {\n",
       "        vertical-align: middle;\n",
       "    }\n",
       "\n",
       "    .dataframe tbody tr th {\n",
       "        vertical-align: top;\n",
       "    }\n",
       "\n",
       "    .dataframe thead th {\n",
       "        text-align: right;\n",
       "    }\n",
       "</style>\n",
       "<table border=\"1\" class=\"dataframe\">\n",
       "  <thead>\n",
       "    <tr style=\"text-align: right;\">\n",
       "      <th></th>\n",
       "      <th>f1-score</th>\n",
       "      <th>precision</th>\n",
       "      <th>recall</th>\n",
       "      <th>support</th>\n",
       "    </tr>\n",
       "  </thead>\n",
       "  <tbody>\n",
       "    <tr>\n",
       "      <th>in-between</th>\n",
       "      <td>0.814332</td>\n",
       "      <td>0.771605</td>\n",
       "      <td>0.862069</td>\n",
       "      <td>145.0</td>\n",
       "    </tr>\n",
       "    <tr>\n",
       "      <th>path-like</th>\n",
       "      <td>0.520000</td>\n",
       "      <td>0.684211</td>\n",
       "      <td>0.419355</td>\n",
       "      <td>31.0</td>\n",
       "    </tr>\n",
       "    <tr>\n",
       "      <th>star-like</th>\n",
       "      <td>0.232558</td>\n",
       "      <td>0.263158</td>\n",
       "      <td>0.208333</td>\n",
       "      <td>24.0</td>\n",
       "    </tr>\n",
       "    <tr>\n",
       "      <th>micro avg</th>\n",
       "      <td>0.715000</td>\n",
       "      <td>0.715000</td>\n",
       "      <td>0.715000</td>\n",
       "      <td>200.0</td>\n",
       "    </tr>\n",
       "    <tr>\n",
       "      <th>macro avg</th>\n",
       "      <td>0.522297</td>\n",
       "      <td>0.572991</td>\n",
       "      <td>0.496586</td>\n",
       "      <td>200.0</td>\n",
       "    </tr>\n",
       "    <tr>\n",
       "      <th>weighted avg</th>\n",
       "      <td>0.698898</td>\n",
       "      <td>0.697045</td>\n",
       "      <td>0.715000</td>\n",
       "      <td>200.0</td>\n",
       "    </tr>\n",
       "  </tbody>\n",
       "</table>\n",
       "</div>"
      ],
      "text/plain": [
       "              f1-score  precision    recall  support\n",
       "in-between    0.814332   0.771605  0.862069    145.0\n",
       "path-like     0.520000   0.684211  0.419355     31.0\n",
       "star-like     0.232558   0.263158  0.208333     24.0\n",
       "micro avg     0.715000   0.715000  0.715000    200.0\n",
       "macro avg     0.522297   0.572991  0.496586    200.0\n",
       "weighted avg  0.698898   0.697045  0.715000    200.0"
      ]
     },
     "execution_count": 20,
     "metadata": {},
     "output_type": "execute_result"
    }
   ],
   "source": [
    "# Extra Trees without Bootstrapping\n",
    "etc = ExtraTreesClassifier(n_estimators=50,random_state=random_state,oob_score=False)\n",
    "\n",
    "# etc = ExtraTreesClassifier(n_estimators='warn', criterion='gini', max_depth=None, min_samples_split=2, \n",
    "#                           min_samples_leaf=1, min_weight_fraction_leaf=0.0, max_features='auto', \n",
    "#                           max_leaf_nodes=None, min_impurity_decrease=0.0, min_impurity_split=None, \n",
    "#                           bootstrap=False, oob_score=False, n_jobs=None, random_state=None, \n",
    "#                           verbose=0, warm_start=False, class_weight=None)\n",
    "\n",
    "\n",
    "etc.fit(X_train,y_train)\n",
    "y_train_etc_pred = etc.predict(X_train)\n",
    "y_test_etc_pred = etc.predict(X_test)\n",
    "print('Train Score:', etc.score(X_train,y_train))\n",
    "print('Test Score:', etc.score(X_test,y_test))\n",
    "print('Train Matthews Corr:', matthews_corrcoef(y_train,y_train_etc_pred))\n",
    "print('Test Matthews Corr:', matthews_corrcoef(y_test,y_test_etc_pred))\n",
    "print('Train Hamming Loss:', hamming_loss(y_train,y_train_etc_pred))\n",
    "print('Test Hamming Loss:', hamming_loss(y_test,y_test_etc_pred))\n",
    "#print('Out-of-bag Score:', etc.oob_score_)\n",
    "\n",
    "print('Train Confusion Matrix:')\n",
    "cm_train_etc = confusion_matrix(y_train,y_train_etc_pred, labels=classes)\n",
    "fig = sns.heatmap(cm_train_etc,annot=True, fmt=\"d\")\n",
    "plt.xlabel('Pedicted')\n",
    "plt.ylabel('True')\n",
    "plt.show()\n",
    "if savefig == True:\n",
    "    fig.figure.savefig('Extra-Train-Class-3-Rad.png')\n",
    "print('Test Confusion Matrix:')\n",
    "cm_test_etc = confusion_matrix(y_test,y_test_etc_pred, labels=classes)\n",
    "fig = sns.heatmap(cm_test_etc,annot=True, fmt=\"d\")\n",
    "plt.xlabel('Pedicted')\n",
    "plt.ylabel('True')\n",
    "plt.show()\n",
    "if savefig == True:\n",
    "    fig.figure.savefig('Extra-Test-Class-3-Rad.png')\n",
    "\n",
    "print('Test Classification Report:')\n",
    "print(classification_report(y_test,y_test_etc_pred))\n",
    "report = classification_report(y_test,y_test_etc_pred, output_dict = True)\n",
    "df = pd.DataFrame(report).transpose()\n",
    "df"
   ]
  },
  {
   "cell_type": "code",
   "execution_count": 21,
   "metadata": {},
   "outputs": [
    {
     "name": "stdout",
     "output_type": "stream",
     "text": [
      "Train Score: 1.0\n",
      "Test Score: 0.72\n",
      "Train Matthews Corr: 1.0\n",
      "Test Matthews Corr: 0.2409957877985966\n",
      "Train Hamming Loss: 0.0\n",
      "Test Hamming Loss: 0.28\n",
      "Out-of-bag Score: 0.77\n",
      "Train Confusion Matrix:\n"
     ]
    },
    {
     "data": {
      "image/png": "[encoded data removed]",
      "text/plain": [
       "<Figure size 360x360 with 2 Axes>"
      ]
     },
     "metadata": {
      "needs_background": "light"
     },
     "output_type": "display_data"
    },
    {
     "name": "stdout",
     "output_type": "stream",
     "text": [
      "Test Confusion Matrix:\n"
     ]
    },
    {
     "data": {
      "image/png": "[encoded data removed]",
      "text/plain": [
       "<Figure size 360x360 with 2 Axes>"
      ]
     },
     "metadata": {
      "needs_background": "light"
     },
     "output_type": "display_data"
    },
    {
     "name": "stdout",
     "output_type": "stream",
     "text": [
      "Test Classification Report:\n",
      "              precision    recall  f1-score   support\n",
      "\n",
      "  in-between       0.76      0.90      0.82       145\n",
      "   path-like       0.73      0.26      0.38        31\n",
      "   star-like       0.33      0.25      0.29        24\n",
      "\n",
      "   micro avg       0.72      0.72      0.72       200\n",
      "   macro avg       0.61      0.47      0.50       200\n",
      "weighted avg       0.70      0.72      0.69       200\n",
      "\n"
     ]
    },
    {
     "data": {
      "text/html": [
       "<div>\n",
       "<style scoped>\n",
       "    .dataframe tbody tr th:only-of-type {\n",
       "        vertical-align: middle;\n",
       "    }\n",
       "\n",
       "    .dataframe tbody tr th {\n",
       "        vertical-align: top;\n",
       "    }\n",
       "\n",
       "    .dataframe thead th {\n",
       "        text-align: right;\n",
       "    }\n",
       "</style>\n",
       "<table border=\"1\" class=\"dataframe\">\n",
       "  <thead>\n",
       "    <tr style=\"text-align: right;\">\n",
       "      <th></th>\n",
       "      <th>f1-score</th>\n",
       "      <th>precision</th>\n",
       "      <th>recall</th>\n",
       "      <th>support</th>\n",
       "    </tr>\n",
       "  </thead>\n",
       "  <tbody>\n",
       "    <tr>\n",
       "      <th>in-between</th>\n",
       "      <td>0.822785</td>\n",
       "      <td>0.760234</td>\n",
       "      <td>0.896552</td>\n",
       "      <td>145.0</td>\n",
       "    </tr>\n",
       "    <tr>\n",
       "      <th>path-like</th>\n",
       "      <td>0.380952</td>\n",
       "      <td>0.727273</td>\n",
       "      <td>0.258065</td>\n",
       "      <td>31.0</td>\n",
       "    </tr>\n",
       "    <tr>\n",
       "      <th>star-like</th>\n",
       "      <td>0.285714</td>\n",
       "      <td>0.333333</td>\n",
       "      <td>0.250000</td>\n",
       "      <td>24.0</td>\n",
       "    </tr>\n",
       "    <tr>\n",
       "      <th>micro avg</th>\n",
       "      <td>0.720000</td>\n",
       "      <td>0.720000</td>\n",
       "      <td>0.720000</td>\n",
       "      <td>200.0</td>\n",
       "    </tr>\n",
       "    <tr>\n",
       "      <th>macro avg</th>\n",
       "      <td>0.496484</td>\n",
       "      <td>0.606947</td>\n",
       "      <td>0.468205</td>\n",
       "      <td>200.0</td>\n",
       "    </tr>\n",
       "    <tr>\n",
       "      <th>weighted avg</th>\n",
       "      <td>0.689852</td>\n",
       "      <td>0.703897</td>\n",
       "      <td>0.720000</td>\n",
       "      <td>200.0</td>\n",
       "    </tr>\n",
       "  </tbody>\n",
       "</table>\n",
       "</div>"
      ],
      "text/plain": [
       "              f1-score  precision    recall  support\n",
       "in-between    0.822785   0.760234  0.896552    145.0\n",
       "path-like     0.380952   0.727273  0.258065     31.0\n",
       "star-like     0.285714   0.333333  0.250000     24.0\n",
       "micro avg     0.720000   0.720000  0.720000    200.0\n",
       "macro avg     0.496484   0.606947  0.468205    200.0\n",
       "weighted avg  0.689852   0.703897  0.720000    200.0"
      ]
     },
     "execution_count": 21,
     "metadata": {},
     "output_type": "execute_result"
    }
   ],
   "source": [
    "# Extra Trees with Bootstrapping\n",
    "etc = ExtraTreesClassifier(n_estimators=50,random_state=random_state,oob_score=True,bootstrap=True)\n",
    "\n",
    "etc.fit(X_train,y_train)\n",
    "y_train_etc_pred = etc.predict(X_train)\n",
    "y_test_etc_pred = etc.predict(X_test)\n",
    "print('Train Score:', etc.score(X_train,y_train))\n",
    "print('Test Score:', etc.score(X_test,y_test))\n",
    "print('Train Matthews Corr:', matthews_corrcoef(y_train,y_train_etc_pred))\n",
    "print('Test Matthews Corr:', matthews_corrcoef(y_test,y_test_etc_pred))\n",
    "print('Train Hamming Loss:', hamming_loss(y_train,y_train_etc_pred))\n",
    "print('Test Hamming Loss:', hamming_loss(y_test,y_test_etc_pred))\n",
    "print('Out-of-bag Score:', etc.oob_score_)\n",
    "\n",
    "\n",
    "print('Train Confusion Matrix:')\n",
    "cm_train_etc = confusion_matrix(y_train,y_train_etc_pred, labels=classes)\n",
    "fig = sns.heatmap(cm_train_etc,annot=True, fmt=\"d\")\n",
    "plt.xlabel('Pedicted')\n",
    "plt.ylabel('True')\n",
    "plt.show()\n",
    "if savefig == True:\n",
    "    fig.figure.savefig('ExtraB-Train-Class-3-Rad.png')\n",
    "print('Test Confusion Matrix:')\n",
    "cm_test_etc = confusion_matrix(y_test,y_test_etc_pred, labels=classes)\n",
    "fig = sns.heatmap(cm_test_etc,annot=True, fmt=\"d\")\n",
    "plt.xlabel('Pedicted')\n",
    "plt.ylabel('True')\n",
    "plt.show()\n",
    "if savefig == True:\n",
    "    fig.figure.savefig('ExtraB-Test-Class-3-Rad.png')\n",
    "\n",
    "print('Test Classification Report:')\n",
    "print(classification_report(y_test,y_test_etc_pred))\n",
    "report = classification_report(y_test,y_test_etc_pred, output_dict = True)\n",
    "df = pd.DataFrame(report).transpose()\n",
    "df"
   ]
  },
  {
   "cell_type": "code",
   "execution_count": 22,
   "metadata": {},
   "outputs": [
    {
     "name": "stdout",
     "output_type": "stream",
     "text": [
      "Train Score: 0.83\n",
      "Test Score: 0.745\n",
      "Train Matthews Corr: 0.5681788087298909\n",
      "Test Matthews Corr: 0.2604634845783989\n",
      "Train Hamming Loss: 0.17\n",
      "Test Hamming Loss: 0.255\n",
      "Train Confusion Matrix:\n"
     ]
    },
    {
     "data": {
      "image/png": "[encoded data removed]",
      "text/plain": [
       "<Figure size 360x360 with 2 Axes>"
      ]
     },
     "metadata": {
      "needs_background": "light"
     },
     "output_type": "display_data"
    },
    {
     "name": "stdout",
     "output_type": "stream",
     "text": [
      "Test Confusion Matrix:\n"
     ]
    },
    {
     "data": {
      "image/png": "[encoded data removed]",
      "text/plain": [
       "<Figure size 360x360 with 2 Axes>"
      ]
     },
     "metadata": {
      "needs_background": "light"
     },
     "output_type": "display_data"
    },
    {
     "name": "stdout",
     "output_type": "stream",
     "text": [
      "Test Classification Report:\n",
      "              precision    recall  f1-score   support\n",
      "\n",
      "  in-between       0.76      0.96      0.84       145\n",
      "   path-like       0.50      0.16      0.24        31\n",
      "   star-like       0.83      0.21      0.33        24\n",
      "\n",
      "   micro avg       0.74      0.74      0.74       200\n",
      "   macro avg       0.70      0.44      0.47       200\n",
      "weighted avg       0.73      0.74      0.69       200\n",
      "\n"
     ]
    },
    {
     "data": {
      "text/html": [
       "<div>\n",
       "<style scoped>\n",
       "    .dataframe tbody tr th:only-of-type {\n",
       "        vertical-align: middle;\n",
       "    }\n",
       "\n",
       "    .dataframe tbody tr th {\n",
       "        vertical-align: top;\n",
       "    }\n",
       "\n",
       "    .dataframe thead th {\n",
       "        text-align: right;\n",
       "    }\n",
       "</style>\n",
       "<table border=\"1\" class=\"dataframe\">\n",
       "  <thead>\n",
       "    <tr style=\"text-align: right;\">\n",
       "      <th></th>\n",
       "      <th>f1-score</th>\n",
       "      <th>precision</th>\n",
       "      <th>recall</th>\n",
       "      <th>support</th>\n",
       "    </tr>\n",
       "  </thead>\n",
       "  <tbody>\n",
       "    <tr>\n",
       "      <th>in-between</th>\n",
       "      <td>0.844985</td>\n",
       "      <td>0.755435</td>\n",
       "      <td>0.958621</td>\n",
       "      <td>145.0</td>\n",
       "    </tr>\n",
       "    <tr>\n",
       "      <th>path-like</th>\n",
       "      <td>0.243902</td>\n",
       "      <td>0.500000</td>\n",
       "      <td>0.161290</td>\n",
       "      <td>31.0</td>\n",
       "    </tr>\n",
       "    <tr>\n",
       "      <th>star-like</th>\n",
       "      <td>0.333333</td>\n",
       "      <td>0.833333</td>\n",
       "      <td>0.208333</td>\n",
       "      <td>24.0</td>\n",
       "    </tr>\n",
       "    <tr>\n",
       "      <th>micro avg</th>\n",
       "      <td>0.745000</td>\n",
       "      <td>0.745000</td>\n",
       "      <td>0.745000</td>\n",
       "      <td>200.0</td>\n",
       "    </tr>\n",
       "    <tr>\n",
       "      <th>macro avg</th>\n",
       "      <td>0.474074</td>\n",
       "      <td>0.696256</td>\n",
       "      <td>0.442748</td>\n",
       "      <td>200.0</td>\n",
       "    </tr>\n",
       "    <tr>\n",
       "      <th>weighted avg</th>\n",
       "      <td>0.690419</td>\n",
       "      <td>0.725190</td>\n",
       "      <td>0.745000</td>\n",
       "      <td>200.0</td>\n",
       "    </tr>\n",
       "  </tbody>\n",
       "</table>\n",
       "</div>"
      ],
      "text/plain": [
       "              f1-score  precision    recall  support\n",
       "in-between    0.844985   0.755435  0.958621    145.0\n",
       "path-like     0.243902   0.500000  0.161290     31.0\n",
       "star-like     0.333333   0.833333  0.208333     24.0\n",
       "micro avg     0.745000   0.745000  0.745000    200.0\n",
       "macro avg     0.474074   0.696256  0.442748    200.0\n",
       "weighted avg  0.690419   0.725190  0.745000    200.0"
      ]
     },
     "execution_count": 22,
     "metadata": {},
     "output_type": "execute_result"
    }
   ],
   "source": [
    "# Linear SVC\n",
    "svcc = SVC(kernel='linear',random_state=random_state)\n",
    "\n",
    "# SVC(C=1.0, kernel='rbf', degree=3, gamma='auto_deprecated', coef0=0.0, shrinking=True, \n",
    "#    probability=False, tol=0.001, cache_size=200, class_weight=None, verbose=False, \n",
    "#    max_iter=-1, decision_function_shape='ovr', random_state=None)\n",
    "\n",
    "svcc.fit(X_train,y_train)\n",
    "y_train_svcc_pred = svcc.predict(X_train)\n",
    "y_test_svcc_pred = svcc.predict(X_test)\n",
    "print('Train Score:', svcc.score(X_train,y_train))\n",
    "print('Test Score:', svcc.score(X_test,y_test))\n",
    "print('Train Matthews Corr:', matthews_corrcoef(y_train,y_train_svcc_pred))\n",
    "print('Test Matthews Corr:', matthews_corrcoef(y_test,y_test_svcc_pred))\n",
    "print('Train Hamming Loss:', hamming_loss(y_train,y_train_svcc_pred))\n",
    "print('Test Hamming Loss:', hamming_loss(y_test,y_test_svcc_pred))\n",
    "\n",
    "print('Train Confusion Matrix:')\n",
    "cm_train_svcc = confusion_matrix(y_train,y_train_svcc_pred, labels=classes)\n",
    "fig = sns.heatmap(cm_train_svcc,annot=True, fmt=\"d\")\n",
    "plt.xlabel('Pedicted')\n",
    "plt.ylabel('True')\n",
    "plt.show()\n",
    "if savefig == True:\n",
    "    fig.figure.savefig('SVC-Train-Class-3-Rad.png')\n",
    "print('Test Confusion Matrix:')\n",
    "cm_test_svcc = confusion_matrix(y_test,y_test_svcc_pred, labels=classes)\n",
    "fig = sns.heatmap(cm_test_svcc,annot=True, fmt=\"d\")\n",
    "plt.xlabel('Pedicted')\n",
    "plt.ylabel('True')\n",
    "plt.show()\n",
    "if savefig == True:\n",
    "    fig.figure.savefig('SVC-Test-Class-3-Rad.png')\n",
    "\n",
    "print('Test Classification Report:')\n",
    "print(classification_report(y_test,y_test_svcc_pred))\n",
    "report = classification_report(y_test,y_test_svcc_pred, output_dict = True)\n",
    "df = pd.DataFrame(report).transpose()\n",
    "df"
   ]
  },
  {
   "cell_type": "code",
   "execution_count": 23,
   "metadata": {},
   "outputs": [
    {
     "name": "stdout",
     "output_type": "stream",
     "text": [
      "Train Score: 0.78\n",
      "Test Score: 0.715\n",
      "Train Matthews Corr: 0.4376776554156676\n",
      "Test Matthews Corr: 0.14449721108719288\n",
      "Train Hamming Loss: 0.22\n",
      "Test Hamming Loss: 0.285\n",
      "Train Confusion Matrix:\n"
     ]
    },
    {
     "data": {
      "image/png": "[encoded data removed]",
      "text/plain": [
       "<Figure size 360x360 with 2 Axes>"
      ]
     },
     "metadata": {
      "needs_background": "light"
     },
     "output_type": "display_data"
    },
    {
     "name": "stdout",
     "output_type": "stream",
     "text": [
      "Test Confusion Matrix:\n"
     ]
    },
    {
     "data": {
      "image/png": "[encoded data removed]",
      "text/plain": [
       "<Figure size 360x360 with 2 Axes>"
      ]
     },
     "metadata": {
      "needs_background": "light"
     },
     "output_type": "display_data"
    },
    {
     "name": "stdout",
     "output_type": "stream",
     "text": [
      "Test Classification Report:\n",
      "              precision    recall  f1-score   support\n",
      "\n",
      "  in-between       0.74      0.94      0.83       145\n",
      "   path-like       0.38      0.10      0.15        31\n",
      "   star-like       0.50      0.17      0.25        24\n",
      "\n",
      "   micro avg       0.71      0.71      0.71       200\n",
      "   macro avg       0.54      0.40      0.41       200\n",
      "weighted avg       0.65      0.71      0.65       200\n",
      "\n"
     ]
    },
    {
     "data": {
      "text/html": [
       "<div>\n",
       "<style scoped>\n",
       "    .dataframe tbody tr th:only-of-type {\n",
       "        vertical-align: middle;\n",
       "    }\n",
       "\n",
       "    .dataframe tbody tr th {\n",
       "        vertical-align: top;\n",
       "    }\n",
       "\n",
       "    .dataframe thead th {\n",
       "        text-align: right;\n",
       "    }\n",
       "</style>\n",
       "<table border=\"1\" class=\"dataframe\">\n",
       "  <thead>\n",
       "    <tr style=\"text-align: right;\">\n",
       "      <th></th>\n",
       "      <th>f1-score</th>\n",
       "      <th>precision</th>\n",
       "      <th>recall</th>\n",
       "      <th>support</th>\n",
       "    </tr>\n",
       "  </thead>\n",
       "  <tbody>\n",
       "    <tr>\n",
       "      <th>in-between</th>\n",
       "      <td>0.826748</td>\n",
       "      <td>0.739130</td>\n",
       "      <td>0.937931</td>\n",
       "      <td>145.0</td>\n",
       "    </tr>\n",
       "    <tr>\n",
       "      <th>path-like</th>\n",
       "      <td>0.153846</td>\n",
       "      <td>0.375000</td>\n",
       "      <td>0.096774</td>\n",
       "      <td>31.0</td>\n",
       "    </tr>\n",
       "    <tr>\n",
       "      <th>star-like</th>\n",
       "      <td>0.250000</td>\n",
       "      <td>0.500000</td>\n",
       "      <td>0.166667</td>\n",
       "      <td>24.0</td>\n",
       "    </tr>\n",
       "    <tr>\n",
       "      <th>micro avg</th>\n",
       "      <td>0.715000</td>\n",
       "      <td>0.715000</td>\n",
       "      <td>0.715000</td>\n",
       "      <td>200.0</td>\n",
       "    </tr>\n",
       "    <tr>\n",
       "      <th>macro avg</th>\n",
       "      <td>0.410198</td>\n",
       "      <td>0.538043</td>\n",
       "      <td>0.400457</td>\n",
       "      <td>200.0</td>\n",
       "    </tr>\n",
       "    <tr>\n",
       "      <th>weighted avg</th>\n",
       "      <td>0.653238</td>\n",
       "      <td>0.653995</td>\n",
       "      <td>0.715000</td>\n",
       "      <td>200.0</td>\n",
       "    </tr>\n",
       "  </tbody>\n",
       "</table>\n",
       "</div>"
      ],
      "text/plain": [
       "              f1-score  precision    recall  support\n",
       "in-between    0.826748   0.739130  0.937931    145.0\n",
       "path-like     0.153846   0.375000  0.096774     31.0\n",
       "star-like     0.250000   0.500000  0.166667     24.0\n",
       "micro avg     0.715000   0.715000  0.715000    200.0\n",
       "macro avg     0.410198   0.538043  0.400457    200.0\n",
       "weighted avg  0.653238   0.653995  0.715000    200.0"
      ]
     },
     "execution_count": 23,
     "metadata": {},
     "output_type": "execute_result"
    }
   ],
   "source": [
    "# Quadratic SVC\n",
    "svcc2 = SVC(kernel='poly',degree=2,random_state=random_state,gamma='auto')\n",
    "\n",
    "# SVC(C=1.0, kernel='rbf', degree=3, gamma='auto_deprecated', coef0=0.0, shrinking=True, \n",
    "#    probability=False, tol=0.001, cache_size=200, class_weight=None, verbose=False, \n",
    "#    max_iter=-1, decision_function_shape='ovr', random_state=None)\n",
    "\n",
    "svcc2.fit(X_train,y_train)\n",
    "y_train_svcc2_pred = svcc2.predict(X_train)\n",
    "y_test_svcc2_pred = svcc2.predict(X_test)\n",
    "print('Train Score:', svcc2.score(X_train,y_train))\n",
    "print('Test Score:', svcc2.score(X_test,y_test))\n",
    "print('Train Matthews Corr:', matthews_corrcoef(y_train,y_train_svcc2_pred))\n",
    "print('Test Matthews Corr:', matthews_corrcoef(y_test,y_test_svcc2_pred))\n",
    "print('Train Hamming Loss:', hamming_loss(y_train,y_train_svcc2_pred))\n",
    "print('Test Hamming Loss:', hamming_loss(y_test,y_test_svcc2_pred))\n",
    "\n",
    "print('Train Confusion Matrix:')\n",
    "cm_train_svcc2 = confusion_matrix(y_train,y_train_svcc2_pred, labels=classes)\n",
    "fig = sns.heatmap(cm_train_svcc2,annot=True, fmt=\"d\")\n",
    "plt.xlabel('Pedicted')\n",
    "plt.ylabel('True')\n",
    "plt.show()\n",
    "if savefig == True:\n",
    "    fig.figure.savefig('SVC2-Train-Class-3-Rad.png')\n",
    "print('Test Confusion Matrix:')\n",
    "cm_test_svcc2 = confusion_matrix(y_test,y_test_svcc2_pred, labels=classes)\n",
    "fig = sns.heatmap(cm_test_svcc2,annot=True, fmt=\"d\")\n",
    "plt.xlabel('Pedicted')\n",
    "plt.ylabel('True')\n",
    "plt.show()\n",
    "if savefig == True:\n",
    "    fig.figure.savefig('SVC2-Test-Class-3-Rad.png')\n",
    "\n",
    "print('Test Classification Report:')\n",
    "print(classification_report(y_test,y_test_svcc2_pred))\n",
    "report = classification_report(y_test,y_test_svcc2_pred, output_dict = True)\n",
    "df = pd.DataFrame(report).transpose()\n",
    "df"
   ]
  },
  {
   "cell_type": "code",
   "execution_count": 24,
   "metadata": {},
   "outputs": [
    {
     "name": "stdout",
     "output_type": "stream",
     "text": [
      "Train Score: 0.775\n",
      "Test Score: 0.71\n",
      "Train Matthews Corr: 0.442233662336629\n",
      "Test Matthews Corr: 0.1468357888131288\n",
      "Train Hamming Loss: 0.225\n",
      "Hamming Loss: 0.29\n",
      "Train Confusion Matrix:\n"
     ]
    },
    {
     "name": "stderr",
     "output_type": "stream",
     "text": [
      "/home/amir/anaconda3/lib/python3.6/site-packages/sklearn/svm/base.py:931: ConvergenceWarning: Liblinear failed to converge, increase the number of iterations.\n",
      "  \"the number of iterations.\", ConvergenceWarning)\n"
     ]
    },
    {
     "data": {
      "image/png": "[encoded data removed]",
      "text/plain": [
       "<Figure size 360x360 with 2 Axes>"
      ]
     },
     "metadata": {
      "needs_background": "light"
     },
     "output_type": "display_data"
    },
    {
     "name": "stdout",
     "output_type": "stream",
     "text": [
      "Test Confusion Matrix:\n"
     ]
    },
    {
     "data": {
      "image/png": "[encoded data removed]",
      "text/plain": [
       "<Figure size 360x360 with 2 Axes>"
      ]
     },
     "metadata": {
      "needs_background": "light"
     },
     "output_type": "display_data"
    },
    {
     "name": "stdout",
     "output_type": "stream",
     "text": [
      "Test Classification Report:\n",
      "              precision    recall  f1-score   support\n",
      "\n",
      "  in-between       0.74      0.92      0.82       145\n",
      "   path-like       0.30      0.10      0.15        31\n",
      "   star-like       0.56      0.21      0.30        24\n",
      "\n",
      "   micro avg       0.71      0.71      0.71       200\n",
      "   macro avg       0.53      0.41      0.42       200\n",
      "weighted avg       0.65      0.71      0.66       200\n",
      "\n"
     ]
    },
    {
     "data": {
      "text/html": [
       "<div>\n",
       "<style scoped>\n",
       "    .dataframe tbody tr th:only-of-type {\n",
       "        vertical-align: middle;\n",
       "    }\n",
       "\n",
       "    .dataframe tbody tr th {\n",
       "        vertical-align: top;\n",
       "    }\n",
       "\n",
       "    .dataframe thead th {\n",
       "        text-align: right;\n",
       "    }\n",
       "</style>\n",
       "<table border=\"1\" class=\"dataframe\">\n",
       "  <thead>\n",
       "    <tr style=\"text-align: right;\">\n",
       "      <th></th>\n",
       "      <th>f1-score</th>\n",
       "      <th>precision</th>\n",
       "      <th>recall</th>\n",
       "      <th>support</th>\n",
       "    </tr>\n",
       "  </thead>\n",
       "  <tbody>\n",
       "    <tr>\n",
       "      <th>in-between</th>\n",
       "      <td>0.822086</td>\n",
       "      <td>0.740331</td>\n",
       "      <td>0.924138</td>\n",
       "      <td>145.0</td>\n",
       "    </tr>\n",
       "    <tr>\n",
       "      <th>path-like</th>\n",
       "      <td>0.146341</td>\n",
       "      <td>0.300000</td>\n",
       "      <td>0.096774</td>\n",
       "      <td>31.0</td>\n",
       "    </tr>\n",
       "    <tr>\n",
       "      <th>star-like</th>\n",
       "      <td>0.303030</td>\n",
       "      <td>0.555556</td>\n",
       "      <td>0.208333</td>\n",
       "      <td>24.0</td>\n",
       "    </tr>\n",
       "    <tr>\n",
       "      <th>micro avg</th>\n",
       "      <td>0.710000</td>\n",
       "      <td>0.710000</td>\n",
       "      <td>0.710000</td>\n",
       "      <td>200.0</td>\n",
       "    </tr>\n",
       "    <tr>\n",
       "      <th>macro avg</th>\n",
       "      <td>0.423819</td>\n",
       "      <td>0.531962</td>\n",
       "      <td>0.409748</td>\n",
       "      <td>200.0</td>\n",
       "    </tr>\n",
       "    <tr>\n",
       "      <th>weighted avg</th>\n",
       "      <td>0.655059</td>\n",
       "      <td>0.649907</td>\n",
       "      <td>0.710000</td>\n",
       "      <td>200.0</td>\n",
       "    </tr>\n",
       "  </tbody>\n",
       "</table>\n",
       "</div>"
      ],
      "text/plain": [
       "              f1-score  precision    recall  support\n",
       "in-between    0.822086   0.740331  0.924138    145.0\n",
       "path-like     0.146341   0.300000  0.096774     31.0\n",
       "star-like     0.303030   0.555556  0.208333     24.0\n",
       "micro avg     0.710000   0.710000  0.710000    200.0\n",
       "macro avg     0.423819   0.531962  0.409748    200.0\n",
       "weighted avg  0.655059   0.649907  0.710000    200.0"
      ]
     },
     "execution_count": 24,
     "metadata": {},
     "output_type": "execute_result"
    }
   ],
   "source": [
    "# LinearSVC\n",
    "lsvc = LinearSVC(penalty='l2', loss='squared_hinge', dual=False, C=1.0, multi_class='crammer_singer', random_state=random_state)\n",
    "\n",
    "# lsvc = LinearSVC(penalty='l2', loss='squared_hinge', dual=True, tol=0.0001, C=1.0, multi_class='ovr', \n",
    "#          fit_intercept=True, intercept_scaling=1, class_weight=None, verbose=0, random_state=None, max_iter=1000)\n",
    "\n",
    "\n",
    "lsvc.fit(X_train,y_train)\n",
    "y_train_lsvc_pred = lsvc.predict(X_train)\n",
    "y_test_lsvc_pred = lsvc.predict(X_test)\n",
    "print('Train Score:', lsvc.score(X_train,y_train))\n",
    "print('Test Score:', lsvc.score(X_test,y_test))\n",
    "print('Train Matthews Corr:', matthews_corrcoef(y_train,y_train_lsvc_pred))\n",
    "print('Test Matthews Corr:', matthews_corrcoef(y_test,y_test_lsvc_pred))\n",
    "print('Train Hamming Loss:',hamming_loss(y_train,y_train_lsvc_pred))\n",
    "print('Hamming Loss:',hamming_loss(y_test,y_test_lsvc_pred))\n",
    "\n",
    "print('Train Confusion Matrix:')\n",
    "cm_train_lsvc = confusion_matrix(y_train,y_train_lsvc_pred, labels=classes)\n",
    "fig = sns.heatmap(cm_train_lsvc,annot=True, fmt=\"d\")\n",
    "plt.xlabel('Pedicted')\n",
    "plt.ylabel('True')\n",
    "plt.show()\n",
    "if savefig == True:\n",
    "    fig.figure.savefig('LSVC-Train-Class-3-Rad.png')\n",
    "    \n",
    "print('Test Confusion Matrix:')\n",
    "cm_test_lsvc = confusion_matrix(y_test,y_test_lsvc_pred, labels=classes)\n",
    "fig = sns.heatmap(cm_test_lsvc,annot=True, fmt=\"d\")\n",
    "plt.xlabel('Pedicted')\n",
    "plt.ylabel('True')\n",
    "plt.show()\n",
    "if savefig == True:\n",
    "    fig.figure.savefig('LSVC-Test-Class-3-Rad.png')\n",
    "\n",
    "print('Test Classification Report:')\n",
    "print(classification_report(y_test,y_test_lsvc_pred))\n",
    "report = classification_report(y_test,y_test_lsvc_pred, output_dict = True)\n",
    "df = pd.DataFrame(report).transpose()\n",
    "df"
   ]
  },
  {
   "cell_type": "code",
   "execution_count": 25,
   "metadata": {},
   "outputs": [
    {
     "name": "stdout",
     "output_type": "stream",
     "text": [
      "Train Score: 0.39\n",
      "Test Score: 0.315\n",
      "Train Matthews Corr: 0.14009247628674587\n",
      "Test Matthews Corr: 0.05771062460076968\n",
      "Train Hamming Loss: 0.61\n",
      "Test Hamming Loss: 0.685\n",
      "Train Confusion Matrix:\n"
     ]
    },
    {
     "data": {
      "image/png": "[encoded data removed]",
      "text/plain": [
       "<Figure size 360x360 with 2 Axes>"
      ]
     },
     "metadata": {
      "needs_background": "light"
     },
     "output_type": "display_data"
    },
    {
     "name": "stdout",
     "output_type": "stream",
     "text": [
      "Test Confusion Matrix:\n"
     ]
    },
    {
     "data": {
      "image/png": "[encoded data removed]",
      "text/plain": [
       "<Figure size 360x360 with 2 Axes>"
      ]
     },
     "metadata": {
      "needs_background": "light"
     },
     "output_type": "display_data"
    },
    {
     "name": "stdout",
     "output_type": "stream",
     "text": [
      "Test Classification Report:\n",
      "              precision    recall  f1-score   support\n",
      "\n",
      "  in-between       0.63      0.22      0.33       145\n",
      "   path-like       0.28      0.52      0.36        31\n",
      "   star-like       0.16      0.62      0.26        24\n",
      "\n",
      "   micro avg       0.32      0.32      0.32       200\n",
      "   macro avg       0.36      0.45      0.32       200\n",
      "weighted avg       0.52      0.32      0.32       200\n",
      "\n"
     ]
    },
    {
     "data": {
      "text/html": [
       "<div>\n",
       "<style scoped>\n",
       "    .dataframe tbody tr th:only-of-type {\n",
       "        vertical-align: middle;\n",
       "    }\n",
       "\n",
       "    .dataframe tbody tr th {\n",
       "        vertical-align: top;\n",
       "    }\n",
       "\n",
       "    .dataframe thead th {\n",
       "        text-align: right;\n",
       "    }\n",
       "</style>\n",
       "<table border=\"1\" class=\"dataframe\">\n",
       "  <thead>\n",
       "    <tr style=\"text-align: right;\">\n",
       "      <th></th>\n",
       "      <th>f1-score</th>\n",
       "      <th>precision</th>\n",
       "      <th>recall</th>\n",
       "      <th>support</th>\n",
       "    </tr>\n",
       "  </thead>\n",
       "  <tbody>\n",
       "    <tr>\n",
       "      <th>in-between</th>\n",
       "      <td>0.326531</td>\n",
       "      <td>0.627451</td>\n",
       "      <td>0.220690</td>\n",
       "      <td>145.0</td>\n",
       "    </tr>\n",
       "    <tr>\n",
       "      <th>path-like</th>\n",
       "      <td>0.359551</td>\n",
       "      <td>0.275862</td>\n",
       "      <td>0.516129</td>\n",
       "      <td>31.0</td>\n",
       "    </tr>\n",
       "    <tr>\n",
       "      <th>star-like</th>\n",
       "      <td>0.260870</td>\n",
       "      <td>0.164835</td>\n",
       "      <td>0.625000</td>\n",
       "      <td>24.0</td>\n",
       "    </tr>\n",
       "    <tr>\n",
       "      <th>micro avg</th>\n",
       "      <td>0.315000</td>\n",
       "      <td>0.315000</td>\n",
       "      <td>0.315000</td>\n",
       "      <td>200.0</td>\n",
       "    </tr>\n",
       "    <tr>\n",
       "      <th>macro avg</th>\n",
       "      <td>0.315650</td>\n",
       "      <td>0.356049</td>\n",
       "      <td>0.453940</td>\n",
       "      <td>200.0</td>\n",
       "    </tr>\n",
       "    <tr>\n",
       "      <th>weighted avg</th>\n",
       "      <td>0.323769</td>\n",
       "      <td>0.517441</td>\n",
       "      <td>0.315000</td>\n",
       "      <td>200.0</td>\n",
       "    </tr>\n",
       "  </tbody>\n",
       "</table>\n",
       "</div>"
      ],
      "text/plain": [
       "              f1-score  precision    recall  support\n",
       "in-between    0.326531   0.627451  0.220690    145.0\n",
       "path-like     0.359551   0.275862  0.516129     31.0\n",
       "star-like     0.260870   0.164835  0.625000     24.0\n",
       "micro avg     0.315000   0.315000  0.315000    200.0\n",
       "macro avg     0.315650   0.356049  0.453940    200.0\n",
       "weighted avg  0.323769   0.517441  0.315000    200.0"
      ]
     },
     "execution_count": 25,
     "metadata": {},
     "output_type": "execute_result"
    }
   ],
   "source": [
    "# Multinomial Naive Bayes\n",
    "mnb = MultinomialNB()\n",
    "\n",
    "# mnb = MultinomialNB(alpha=1.0, fit_prior=True, class_prior=None)\n",
    "\n",
    "mnb.fit(X_train,y_train)\n",
    "y_train_mnb_pred = mnb.predict(X_train)\n",
    "y_test_mnb_pred = mnb.predict(X_test)\n",
    "print('Train Score:', mnb.score(X_train,y_train))\n",
    "print('Test Score:', mnb.score(X_test,y_test))\n",
    "print('Train Matthews Corr:', matthews_corrcoef(y_train,y_train_mnb_pred))\n",
    "print('Test Matthews Corr:', matthews_corrcoef(y_test,y_test_mnb_pred))\n",
    "print('Train Hamming Loss:',hamming_loss(y_train,y_train_mnb_pred))\n",
    "print('Test Hamming Loss:',hamming_loss(y_test,y_test_mnb_pred))\n",
    "\n",
    "print('Train Confusion Matrix:')\n",
    "cm_train_mnb = confusion_matrix(y_train,y_train_mnb_pred, labels=classes)\n",
    "fig = sns.heatmap(cm_train_mnb,annot=True, fmt=\"d\")\n",
    "plt.xlabel('Pedicted')\n",
    "plt.ylabel('True')\n",
    "plt.show()\n",
    "if savefig == True:\n",
    "    fig.figure.savefig('MNB-Train-Class-3-Rad.png')\n",
    "\n",
    "print('Test Confusion Matrix:')\n",
    "cm_test_mnb = confusion_matrix(y_test,y_test_mnb_pred, labels=classes)\n",
    "fig = sns.heatmap(cm_test_mnb,annot=True, fmt=\"d\")\n",
    "plt.xlabel('Pedicted')\n",
    "plt.ylabel('True')\n",
    "plt.show()\n",
    "if savefig == True:\n",
    "    fig.figure.savefig('MNB-Test-Class-3-Rad.png')\n",
    "\n",
    "print('Test Classification Report:')\n",
    "print(classification_report(y_test,y_test_mnb_pred))\n",
    "report = classification_report(y_test,y_test_mnb_pred, output_dict = True)\n",
    "df = pd.DataFrame(report).transpose()\n",
    "df"
   ]
  }
 ],
 "metadata": {
  "kernelspec": {
   "display_name": "Python 3",
   "language": "python",
   "name": "python3"
  },
  "language_info": {
   "codemirror_mode": {
    "name": "ipython",
    "version": 3
   },
   "file_extension": ".py",
   "mimetype": "text/x-python",
   "name": "python",
   "nbconvert_exporter": "python",
   "pygments_lexer": "ipython3",
   "version": "3.6.8"
  }
 },
 "nbformat": 4,
 "nbformat_minor": 2
}
