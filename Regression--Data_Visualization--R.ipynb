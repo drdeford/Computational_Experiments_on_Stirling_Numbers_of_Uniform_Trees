{
 "cells": [
  {
   "cell_type": "code",
   "execution_count": null,
   "id": "751145f4",
   "metadata": {},
   "outputs": [],
   "source": [
    "library(tidyverse)\n",
    "\n",
    "library(latex2exp)"
   ]
  },
  {
   "cell_type": "code",
   "execution_count": null,
   "id": "df0cc2e1",
   "metadata": {},
   "outputs": [],
   "source": [
    "# configuring figure size\n",
    "options(repr.plot.width = 10, repr.plot.height = 10)\n",
    "\n",
    "# colorblind-friendly color palette\n",
    "cbPalette <- c('#56B4E9', '#0072B2', '#999999', '#CC79A7', '#F0E442', '#009E73', '#E69F00', '#D55E00')"
   ]
  },
  {
   "cell_type": "code",
   "execution_count": null,
   "id": "495e47a6",
   "metadata": {},
   "outputs": [],
   "source": [
    "df1 <- read_csv('Regression--All--Full_Set.csv')"
   ]
  },
  {
   "cell_type": "code",
   "execution_count": null,
   "id": "00a4d188",
   "metadata": {},
   "outputs": [],
   "source": [
    "df1 <- df1 %>% \n",
    "    pivot_longer(c(Train_Score:Test_EVS), names_to = 'Type1', values_to = 'Value') %>%\n",
    "    separate(Type1, into = c('Train_Test', 'Type'), sep = '_') %>%\n",
    "    mutate_at(vars(k), list(as.integer)) %>%\n",
    "    mutate_at(vars(Id), list(as.character))"
   ]
  },
  {
   "cell_type": "code",
   "execution_count": null,
   "id": "24abf9f0",
   "metadata": {},
   "outputs": [],
   "source": [
    "df1 %>% \n",
    "    filter(Method != 'sgd') %>%\n",
    "    ggplot(aes(x = k, y = Value, linetype = Train_Test, color = Train_Test)) +\n",
    "    geom_point() +\n",
    "    geom_line() + \n",
    "    scale_color_manual(values = cbPalette) +\n",
    "    scale_y_continuous(limits = c(-1, 1)) +\n",
    "    scale_x_continuous(breaks = c(6:10)) +\n",
    "    facet_grid(rows = vars(Method), cols = vars(Type))"
   ]
  },
  {
   "cell_type": "code",
   "execution_count": null,
   "id": "b7a8f261",
   "metadata": {},
   "outputs": [],
   "source": [
    "df2 <- read_csv('Regression--All--Sampling.csv')"
   ]
  },
  {
   "cell_type": "code",
   "execution_count": null,
   "id": "75c73e46",
   "metadata": {},
   "outputs": [],
   "source": [
    "df2 <- df2 %>% \n",
    "    pivot_longer(c(Train_Score:Test_EVS), names_to = 'Type1', values_to = 'Value') %>%\n",
    "    separate(Type1, into = c('Train_Test', 'Type'), sep = '_') %>%\n",
    "    mutate_at(vars(k), list(as.integer)) %>%\n",
    "    mutate_at(vars(Id), list(as.character))"
   ]
  },
  {
   "cell_type": "code",
   "execution_count": null,
   "id": "b47c579e",
   "metadata": {},
   "outputs": [],
   "source": [
    "df2 %>% \n",
    "    filter(Method != 'sgd') %>%\n",
    "    ggplot(aes(x = k, y = Value, linetype = Train_Test, color = Train_Test)) +\n",
    "    geom_point() +\n",
    "    geom_line() +\n",
    "    scale_color_manual(values = cbPalette) +\n",
    "    scale_y_continuous(limits = c(-1, 1)) +\n",
    "    scale_x_continuous(breaks = c(9:16)) +\n",
    "    facet_grid(rows = vars(Method), cols = vars(Type))"
   ]
  },
  {
   "cell_type": "code",
   "execution_count": null,
   "id": "762a69bb",
   "metadata": {},
   "outputs": [],
   "source": [
    "df3 <- read_csv('Regression--Subset--Full_Set.csv')"
   ]
  },
  {
   "cell_type": "code",
   "execution_count": null,
   "id": "ac99cab2",
   "metadata": {},
   "outputs": [],
   "source": [
    "df3 <- df3 %>% \n",
    "    pivot_longer(c(Train_Score:Test_EVS), names_to = 'Type1', values_to = 'Value') %>%\n",
    "    separate(Type1, into = c('Train_Test', 'Type'), sep = '_') %>%\n",
    "    mutate_at(vars(k), list(as.integer)) %>%\n",
    "    mutate_at(vars(Id), list(as.character))"
   ]
  },
  {
   "cell_type": "code",
   "execution_count": null,
   "id": "495a3ded",
   "metadata": {},
   "outputs": [],
   "source": [
    "df3 %>% \n",
    "    filter(Method != 'sgd') %>%\n",
    "    ggplot(aes(x = k, y = Value, linetype = Train_Test, color = Train_Test)) +\n",
    "    geom_point() +\n",
    "    geom_line() +\n",
    "    scale_color_manual(values = cbPalette) +\n",
    "    scale_y_continuous(limits = c(-1, 1)) +\n",
    "    scale_x_continuous(breaks = c(6:10)) +\n",
    "    facet_grid(rows = vars(Method), cols = vars(Type))"
   ]
  },
  {
   "cell_type": "code",
   "execution_count": null,
   "id": "eb1217db",
   "metadata": {},
   "outputs": [],
   "source": [
    "df4 <- read_csv('Regression--Subset--Sampling.csv')"
   ]
  },
  {
   "cell_type": "code",
   "execution_count": null,
   "id": "4098be3d",
   "metadata": {},
   "outputs": [],
   "source": [
    "df4 <- df4 %>% \n",
    "    pivot_longer(c(Train_Score:Test_EVS), names_to = 'Type1', values_to = 'Value') %>%\n",
    "    separate(Type1, into = c('Train_Test', 'Type'), sep = '_') %>%\n",
    "    mutate_at(vars(k), list(as.integer)) %>%\n",
    "    mutate_at(vars(Id), list(as.character))"
   ]
  },
  {
   "cell_type": "code",
   "execution_count": null,
   "id": "d09eca25",
   "metadata": {},
   "outputs": [],
   "source": [
    "df4 %>% \n",
    "    filter(Method != 'sgd') %>%\n",
    "    ggplot(aes(x = k, y = Value, linetype = Train_Test, color = Train_Test)) +\n",
    "    geom_point() +\n",
    "    geom_line() + \n",
    "    scale_color_manual(values = cbPalette) +\n",
    "    scale_y_continuous(limits = c(-1, 1)) +\n",
    "    scale_x_continuous(breaks = c(9:16)) +\n",
    "    facet_grid(rows = vars(Method), cols = vars(Type))"
   ]
  },
  {
   "cell_type": "code",
   "execution_count": null,
   "id": "b70ef428",
   "metadata": {},
   "outputs": [],
   "source": [
    "df5 <- read_csv('Regression--Tree--All--Full_Set.csv')"
   ]
  },
  {
   "cell_type": "code",
   "execution_count": null,
   "id": "320bdf9c",
   "metadata": {},
   "outputs": [],
   "source": [
    "df5 <- df5 %>% \n",
    "    pivot_longer(c(Train_Score:Test_EVS), names_to = 'Type1', values_to = 'Value') %>%\n",
    "    separate(Type1, into = c('Train_Test', 'Type'), sep = '_') %>%\n",
    "    mutate_at(vars(k), list(as.integer)) %>%\n",
    "    mutate_at(vars(Id), list(as.character)) %>%\n",
    "    mutate(Method1 = case_when(Method == 'br' ~ 'bagging',\n",
    "                               Method == 'dtr' ~ 'decisiontree',\n",
    "                               Method == 'etr' ~ 'extratree',\n",
    "                               Method == 'etsr' ~ 'extratrees',\n",
    "                               Method == 'rfr' ~ 'randomforest')) %>%\n",
    "    select(-Method) %>%\n",
    "    rename(Method = Method1)"
   ]
  },
  {
   "cell_type": "code",
   "execution_count": null,
   "id": "a561ac2c",
   "metadata": {},
   "outputs": [],
   "source": [
    "df5 %>% \n",
    "    ggplot(aes(x = k, y = Value, linetype = Train_Test, color = Pruning)) +\n",
    "    geom_point() +\n",
    "    geom_line() + \n",
    "    scale_color_manual(values = cbPalette) +\n",
    "    scale_y_continuous(limits = c(-1, 1)) +\n",
    "    scale_x_continuous(breaks = c(6:10)) +\n",
    "    facet_grid(rows = vars(Method, Pruning), cols = vars(Type))"
   ]
  },
  {
   "cell_type": "code",
   "execution_count": null,
   "id": "058f2f29",
   "metadata": {},
   "outputs": [],
   "source": [
    "df6 <- read_csv('Regression--Tree--All--Sampling.csv')"
   ]
  },
  {
   "cell_type": "code",
   "execution_count": null,
   "id": "7c795ac3",
   "metadata": {},
   "outputs": [],
   "source": [
    "df6 <- df6 %>% \n",
    "    pivot_longer(c(Train_Score:Test_EVS), names_to = 'Type1', values_to = 'Value') %>%\n",
    "    separate(Type1, into = c('Train_Test', 'Type'), sep = '_') %>%\n",
    "    mutate_at(vars(k), list(as.integer)) %>%\n",
    "    mutate_at(vars(Id), list(as.character)) %>%\n",
    "    mutate(Method1 = case_when(Method == 'br' ~ 'bagging',\n",
    "                               Method == 'dtr' ~ 'decisiontree',\n",
    "                               Method == 'etr' ~ 'extratree',\n",
    "                               Method == 'etsr' ~ 'extratrees',\n",
    "                               Method == 'rfr' ~ 'randomforest')) %>%\n",
    "    select(-Method) %>%\n",
    "    rename(Method = Method1)"
   ]
  },
  {
   "cell_type": "code",
   "execution_count": null,
   "id": "59697a6f",
   "metadata": {},
   "outputs": [],
   "source": [
    "df6 %>% \n",
    "    ggplot(aes(x = k, y = Value, linetype = Train_Test, color = Pruning)) +\n",
    "    geom_point() +\n",
    "    geom_line() + \n",
    "    scale_color_manual(values = cbPalette) +\n",
    "    scale_y_continuous(limits = c(-1, 1)) +\n",
    "    scale_x_continuous(breaks = c(9:16)) +\n",
    "    facet_grid(rows = vars(Method, Pruning), cols = vars(Type))"
   ]
  },
  {
   "cell_type": "code",
   "execution_count": null,
   "id": "1be17934",
   "metadata": {},
   "outputs": [],
   "source": [
    "df7 <- read_csv('Regression--Tree--Subset--Full_Set.csv')"
   ]
  },
  {
   "cell_type": "code",
   "execution_count": null,
   "id": "4b931621",
   "metadata": {},
   "outputs": [],
   "source": [
    "df7 <- df7 %>% \n",
    "    pivot_longer(c(Train_Score:Test_EVS), names_to = 'Type1', values_to = 'Value') %>%\n",
    "    separate(Type1, into = c('Train_Test', 'Type'), sep = '_') %>%\n",
    "    mutate_at(vars(k), list(as.integer)) %>%\n",
    "    mutate_at(vars(Id), list(as.character)) %>%\n",
    "    mutate(Method1 = case_when(Method == 'br' ~ 'bagging',\n",
    "                               Method == 'dtr' ~ 'decisiontree',\n",
    "                               Method == 'etr' ~ 'extratree',\n",
    "                               Method == 'etsr' ~ 'extratrees',\n",
    "                               Method == 'rfr' ~ 'randomforest')) %>%\n",
    "    select(-Method) %>%\n",
    "    rename(Method = Method1)"
   ]
  },
  {
   "cell_type": "code",
   "execution_count": null,
   "id": "f85ebcc4",
   "metadata": {},
   "outputs": [],
   "source": [
    "df7 %>% \n",
    "    ggplot(aes(x = k, y = Value, linetype = Train_Test, color = Pruning)) +\n",
    "    geom_point() +\n",
    "    geom_line() + \n",
    "    scale_color_manual(values = cbPalette) +\n",
    "    scale_y_continuous(limits = c(-1, 1)) +\n",
    "    scale_x_continuous(breaks = c(6:10)) +\n",
    "    facet_grid(rows = vars(Method, Pruning), cols = vars(Type))"
   ]
  },
  {
   "cell_type": "code",
   "execution_count": null,
   "id": "3a7bf4c6",
   "metadata": {},
   "outputs": [],
   "source": [
    "df8 <- read_csv('Regression--Tree--Subset--Sampling.csv')"
   ]
  },
  {
   "cell_type": "code",
   "execution_count": null,
   "id": "ad34753d",
   "metadata": {},
   "outputs": [],
   "source": [
    "df8 <- df8 %>% \n",
    "    pivot_longer(c(Train_Score:Test_EVS), names_to = 'Type1', values_to = 'Value') %>%\n",
    "    separate(Type1, into = c('Train_Test', 'Type'), sep = '_') %>%\n",
    "    mutate_at(vars(k), list(as.integer)) %>%\n",
    "    mutate_at(vars(Id), list(as.character)) %>%\n",
    "    mutate(Method1 = case_when(Method == 'br' ~ 'bagging',\n",
    "                               Method == 'dtr' ~ 'decisiontree',\n",
    "                               Method == 'etr' ~ 'extratree',\n",
    "                               Method == 'etsr' ~ 'extratrees',\n",
    "                               Method == 'rfr' ~ 'randomforest')) %>%\n",
    "    select(-Method) %>%\n",
    "    rename(Method = Method1)"
   ]
  },
  {
   "cell_type": "code",
   "execution_count": null,
   "id": "fab68df8",
   "metadata": {},
   "outputs": [],
   "source": [
    "df8 %>% \n",
    "    ggplot(aes(x = k, y = Value, linetype = Train_Test, color = Pruning)) +\n",
    "    geom_point() +\n",
    "    geom_line() + \n",
    "    scale_color_manual(values = cbPalette) +\n",
    "    scale_y_continuous(limits = c(-1, 1)) +\n",
    "    scale_x_continuous(breaks = c(9:16)) +\n",
    "    facet_grid(rows = vars(Method, Pruning), cols = vars(Type))"
   ]
  }
 ],
 "metadata": {
  "kernelspec": {
   "display_name": "R",
   "language": "R",
   "name": "ir"
  },
  "language_info": {
   "codemirror_mode": "r",
   "file_extension": ".r",
   "mimetype": "text/x-r-source",
   "name": "R",
   "pygments_lexer": "r",
   "version": "4.2.2"
  }
 },
 "nbformat": 4,
 "nbformat_minor": 5
}
