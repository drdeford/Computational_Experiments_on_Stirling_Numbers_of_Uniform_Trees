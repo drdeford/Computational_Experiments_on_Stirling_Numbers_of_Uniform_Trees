{
 "cells": [
  {
   "cell_type": "code",
   "execution_count": null,
   "id": "751145f4",
   "metadata": {},
   "outputs": [],
   "source": [
    "library(tidyverse)\n",
    "\n",
    "library(latex2exp)"
   ]
  },
  {
   "cell_type": "code",
   "execution_count": null,
   "id": "df0cc2e1",
   "metadata": {},
   "outputs": [],
   "source": [
    "# configuring figure size\n",
    "options(repr.plot.width = 10, repr.plot.height = 10)\n",
    "\n",
    "# colorblind-friendly color palette\n",
    "cbPalette <- c('#56B4E9', '#0072B2', '#999999', '#CC79A7', '#F0E442', '#009E73', '#E69F00', '#D55E00')"
   ]
  },
  {
   "cell_type": "code",
   "execution_count": null,
   "id": "495e47a6",
   "metadata": {},
   "outputs": [],
   "source": [
    "df1 <- read_csv('Classification--All--Full_Set.csv')"
   ]
  },
  {
   "cell_type": "code",
   "execution_count": null,
   "id": "00a4d188",
   "metadata": {},
   "outputs": [],
   "source": [
    "df1 <- df1 %>% \n",
    "    pivot_longer(c(Train_Score:Test_Corr), names_to = 'Type1', values_to = 'Value') %>%\n",
    "    separate(Type1, into = c('Train_Test', 'Type2'), sep = '_') %>%\n",
    "    mutate_at(vars(Criterion, Pruning), list(factor)) %>%\n",
    "    mutate(Type = ifelse(Type2 == 'Score', 'R_2', 'EVS')) %>%\n",
    "    select(-Type2)"
   ]
  },
  {
   "cell_type": "code",
   "execution_count": null,
   "id": "24abf9f0",
   "metadata": {},
   "outputs": [],
   "source": [
    "df1 %>% \n",
    "    filter(Method != 'Bagging') %>%\n",
    "    ggplot(aes(x = Pruning, y = Value, color = Train_Test)) +\n",
    "    geom_point(size = 3) +\n",
    "    scale_color_manual(values = cbPalette) +\n",
    "    scale_y_continuous(limits = c(0.6, 1.1)) +\n",
    "    facet_grid(rows = vars(Method), cols = vars(Type, Criterion))"
   ]
  },
  {
   "cell_type": "code",
   "execution_count": null,
   "id": "b7a8f261",
   "metadata": {},
   "outputs": [],
   "source": [
    "df2 <- read_csv('Classification--All--Sampling.csv')"
   ]
  },
  {
   "cell_type": "code",
   "execution_count": null,
   "id": "75c73e46",
   "metadata": {},
   "outputs": [],
   "source": [
    "df2 <- df2 %>% \n",
    "    pivot_longer(c(Train_Score:Test_Corr), names_to = 'Type1', values_to = 'Value') %>%\n",
    "    separate(Type1, into = c('Train_Test', 'Type2'), sep = '_') %>%\n",
    "    mutate_at(vars(Criterion, Pruning), list(factor)) %>%\n",
    "    mutate(Type = ifelse(Type2 == 'Score', 'R_2', 'EVS')) %>%\n",
    "    select(-Type2)"
   ]
  },
  {
   "cell_type": "code",
   "execution_count": null,
   "id": "b47c579e",
   "metadata": {},
   "outputs": [],
   "source": [
    "df2 %>% \n",
    "    filter(Method != 'Bagging') %>%\n",
    "    ggplot(aes(x = Pruning, y = Value, color = Train_Test)) +\n",
    "    geom_point(size = 3) +\n",
    "    scale_color_manual(values = cbPalette) +\n",
    "    scale_y_continuous(limits = c(0.6, 1.1)) +\n",
    "    facet_grid(rows = vars(Method), cols = vars(Type, Criterion))"
   ]
  }
 ],
 "metadata": {
  "kernelspec": {
   "display_name": "R",
   "language": "R",
   "name": "ir"
  },
  "language_info": {
   "codemirror_mode": "r",
   "file_extension": ".r",
   "mimetype": "text/x-r-source",
   "name": "R",
   "pygments_lexer": "r",
   "version": "4.2.2"
  }
 },
 "nbformat": 4,
 "nbformat_minor": 5
}
