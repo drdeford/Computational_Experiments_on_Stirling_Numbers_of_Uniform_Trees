{
 "cells": [
  {
   "cell_type": "code",
   "execution_count": null,
   "id": "bd4a3e0f",
   "metadata": {},
   "outputs": [],
   "source": [
    "# importing the libraries \n",
    "# make sure that tree_functions_2.py is in the same directory as this notebook\n",
    "\n",
    "from tree_functions_2 import * \n",
    "\n",
    "import time"
   ]
  },
  {
   "cell_type": "markdown",
   "id": "9322f93d",
   "metadata": {},
   "source": [
    "## Simulation for $n = \\{7, \\ldots, 15 \\}$ and  $m = 10000$, with `random.seed(42)` "
   ]
  },
  {
   "cell_type": "code",
   "execution_count": null,
   "id": "fa6ebadd",
   "metadata": {
    "scrolled": false
   },
   "outputs": [],
   "source": [
    "simulate_stirling_diff(n = 15, m = 10000, seed = 42)"
   ]
  },
  {
   "cell_type": "code",
   "execution_count": null,
   "id": "1852d04f",
   "metadata": {},
   "outputs": [],
   "source": [
    "Results = [] \n",
    "\n",
    "for n in range(7, 15):\n",
    "    \n",
    "    Results.append(simulate_stirling_diff(n, m = 10000, seed = 42))\n",
    "    \n",
    "Results"
   ]
  },
  {
   "cell_type": "markdown",
   "id": "71030433",
   "metadata": {},
   "source": [
    "## Simulation for $n = \\{7, \\ldots, 15 \\}$ and  $m = 20000$, with `random.seed(42)` "
   ]
  },
  {
   "cell_type": "code",
   "execution_count": null,
   "id": "cae47f52",
   "metadata": {
    "scrolled": false
   },
   "outputs": [],
   "source": [
    "simulate_stirling_diff(n = 15, m = 20000, seed = 42)"
   ]
  },
  {
   "cell_type": "code",
   "execution_count": null,
   "id": "30ba8af1",
   "metadata": {},
   "outputs": [],
   "source": [
    "Results = [] \n",
    "\n",
    "for n in range(7, 15):\n",
    "    \n",
    "    Results.append(simulate_stirling_diff(n, m = 20000, seed = 42))\n",
    "    \n",
    "Results"
   ]
  },
  {
   "cell_type": "markdown",
   "id": "dcb03d10",
   "metadata": {},
   "source": [
    "# Defining Average Running Time Functions for the Exact Method and Simulation"
   ]
  },
  {
   "cell_type": "code",
   "execution_count": null,
   "id": "6db8b8de",
   "metadata": {},
   "outputs": [],
   "source": [
    "def avg_time_stir_exact(n = 25, seed = 42, I = 10):\n",
    "    \n",
    "    Time = []\n",
    "    \n",
    "    T = nx.random_tree(n, seed)\n",
    "    \n",
    "    for i in range(I):\n",
    "        \n",
    "        st = time.time()\n",
    "    \n",
    "        Stir = get_stirling_trees(T, n)\n",
    "\n",
    "        Time.append(time.time() - st)\n",
    "        \n",
    "    return np.mean(Time)"
   ]
  },
  {
   "cell_type": "code",
   "execution_count": null,
   "id": "a748e8eb",
   "metadata": {},
   "outputs": [],
   "source": [
    "def avg_time_stir_sim(n = 25, m = 20000, seed = 42, I = 10):\n",
    "    \n",
    "    Time = []\n",
    "    \n",
    "    for i in range(I):\n",
    "        \n",
    "        st = time.time()\n",
    "\n",
    "        simulate_stirling(n, m, seed)\n",
    "\n",
    "        Time.append(time.time() - st)\n",
    "        \n",
    "    return np.mean(Time)"
   ]
  },
  {
   "cell_type": "markdown",
   "id": "36fa76b2",
   "metadata": {},
   "source": [
    "# Average Running Time for $n \\in \\{7, \\ldots, 15\\}$ and  $m = 20000$, with `random.seed(42)` "
   ]
  },
  {
   "cell_type": "code",
   "execution_count": null,
   "id": "8a913b4d",
   "metadata": {},
   "outputs": [],
   "source": [
    "Avg_Time_Sim = []\n",
    "\n",
    "Avg_Time_Exact = []\n",
    "\n",
    "for i in range(7, 15):\n",
    "    \n",
    "    Avg_Time_Sim.append(avg_time_stir_sim(n = i, m = 10000, seed = 42))\n",
    "    \n",
    "    Avg_Time_Exact.append(avg_time_stir_exact(n = i, seed = 42))   "
   ]
  },
  {
   "cell_type": "code",
   "execution_count": null,
   "id": "2e29a3e9",
   "metadata": {},
   "outputs": [],
   "source": [
    "Avg_Time_Sim"
   ]
  },
  {
   "cell_type": "code",
   "execution_count": null,
   "id": "929c3c0a",
   "metadata": {},
   "outputs": [],
   "source": [
    "Avg_Time_Exact"
   ]
  },
  {
   "cell_type": "markdown",
   "id": "75f8b03c",
   "metadata": {},
   "source": [
    "# Average Running Time for $n \\in \\{24, 25, 26\\}$ and  $m = 20000$, with `random.seed(42)` "
   ]
  },
  {
   "cell_type": "code",
   "execution_count": null,
   "id": "67624313",
   "metadata": {},
   "outputs": [],
   "source": [
    "avg_time_stir_sim(n = 24, m = 20000, seed = 42)"
   ]
  },
  {
   "cell_type": "code",
   "execution_count": null,
   "id": "b987b552",
   "metadata": {},
   "outputs": [],
   "source": [
    "avg_time_stir_exact(n = 24, seed = 42)"
   ]
  },
  {
   "cell_type": "code",
   "execution_count": null,
   "id": "8054a892",
   "metadata": {},
   "outputs": [],
   "source": [
    "avg_time_stir_sim(n = 25, m = 20000, seed = 42)"
   ]
  },
  {
   "cell_type": "code",
   "execution_count": null,
   "id": "f7a923d8",
   "metadata": {},
   "outputs": [],
   "source": [
    "avg_time_stir_exact(n = 25, seed = 42)"
   ]
  },
  {
   "cell_type": "code",
   "execution_count": null,
   "id": "a79cae3a",
   "metadata": {},
   "outputs": [],
   "source": [
    "avg_time_stir_sim(n = 26, m = 20000, seed = 42)"
   ]
  },
  {
   "cell_type": "code",
   "execution_count": null,
   "id": "45b79fc0",
   "metadata": {},
   "outputs": [],
   "source": [
    "avg_time_stir_exact(n = 26, seed = 42)"
   ]
  }
 ],
 "metadata": {
  "kernelspec": {
   "display_name": "Python 3 (ipykernel)",
   "language": "python",
   "name": "python3"
  },
  "language_info": {
   "codemirror_mode": {
    "name": "ipython",
    "version": 3
   },
   "file_extension": ".py",
   "mimetype": "text/x-python",
   "name": "python",
   "nbconvert_exporter": "python",
   "pygments_lexer": "ipython3",
   "version": "3.8.11"
  }
 },
 "nbformat": 4,
 "nbformat_minor": 5
}
