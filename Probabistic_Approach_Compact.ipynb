{
 "cells": [
  {
   "cell_type": "code",
   "execution_count": null,
   "id": "3751bd7d",
   "metadata": {},
   "outputs": [],
   "source": [
    "# importing the libraries \n",
    "# make sure that tree_functions_2.py is in the same directory as this notebook\n",
    "\n",
    "from tree_functions_2 import * \n",
    "\n",
    "import time"
   ]
  },
  {
   "cell_type": "code",
   "execution_count": null,
   "id": "9ab84113",
   "metadata": {},
   "outputs": [],
   "source": [
    "def avg_time_stir_sim(n = 25, m = 20000, seed = 42, I = 10):\n",
    "    \n",
    "    Time = []\n",
    "    \n",
    "    for i in range(I):\n",
    "        \n",
    "        st = time.time()\n",
    "\n",
    "        simulate_stirling(n, m, seed)\n",
    "\n",
    "        Time.append(time.time() - st)\n",
    "        \n",
    "    return np.mean(Time)"
   ]
  },
  {
   "cell_type": "code",
   "execution_count": null,
   "id": "81bf6e50",
   "metadata": {},
   "outputs": [],
   "source": [
    "def avg_time_stir_exact(n = 25, seed = 42, I = 10):\n",
    "    \n",
    "    Time = []\n",
    "    \n",
    "    T = nx.random_tree(n, seed)\n",
    "    \n",
    "    for i in range(I):\n",
    "        \n",
    "        st = time.time()\n",
    "    \n",
    "        Stir = get_stirling_trees(T, n)\n",
    "\n",
    "        Time.append(time.time() - st)\n",
    "        \n",
    "    return np.mean(Time)"
   ]
  },
  {
   "cell_type": "code",
   "execution_count": null,
   "id": "a4c4da7a",
   "metadata": {},
   "outputs": [],
   "source": [
    "Avg_Time_Sim = []\n",
    "\n",
    "Avg_Time_Exact = []\n",
    "\n",
    "for i in range(7, 27):\n",
    "    \n",
    "    Avg_Time_Sim.append(avg_time_stir_sim(n = i, m = 10000, seed = 42))\n",
    "    \n",
    "    Avg_Time_Exact.append(avg_time_stir_exact(n = i, seed = 42))   "
   ]
  },
  {
   "cell_type": "code",
   "execution_count": null,
   "id": "0e2c2941",
   "metadata": {},
   "outputs": [],
   "source": [
    "Avg_Time_Sim"
   ]
  },
  {
   "cell_type": "code",
   "execution_count": null,
   "id": "f69ef8db",
   "metadata": {
    "scrolled": true
   },
   "outputs": [],
   "source": [
    "Avg_Time_Exact"
   ]
  },
  {
   "cell_type": "code",
   "execution_count": null,
   "id": "b34f03a5",
   "metadata": {},
   "outputs": [],
   "source": [
    "Avg_Time_Sim = []\n",
    "\n",
    "Avg_Time_Exact = []\n",
    "\n",
    "for i in range(7, 27):\n",
    "    \n",
    "    Avg_Time_Sim.append(avg_time_stir_sim(n = i, m = 20000, seed = 42))\n",
    "    \n",
    "    Avg_Time_Exact.append(avg_time_stir_exact(n = i, seed = 42))"
   ]
  },
  {
   "cell_type": "code",
   "execution_count": null,
   "id": "6303abc2",
   "metadata": {},
   "outputs": [],
   "source": [
    "Avg_Time_Sim"
   ]
  },
  {
   "cell_type": "code",
   "execution_count": null,
   "id": "b3a587bf",
   "metadata": {},
   "outputs": [],
   "source": [
    "Avg_Time_Exact"
   ]
  }
 ],
 "metadata": {
  "kernelspec": {
   "display_name": "Python 3 (ipykernel)",
   "language": "python",
   "name": "python3"
  },
  "language_info": {
   "codemirror_mode": {
    "name": "ipython",
    "version": 3
   },
   "file_extension": ".py",
   "mimetype": "text/x-python",
   "name": "python",
   "nbconvert_exporter": "python",
   "pygments_lexer": "ipython3",
   "version": "3.8.11"
  }
 },
 "nbformat": 4,
 "nbformat_minor": 5
}
