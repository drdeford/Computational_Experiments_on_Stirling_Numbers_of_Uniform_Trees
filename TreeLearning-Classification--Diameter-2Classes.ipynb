{
 "cells": [
  {
   "cell_type": "code",
   "execution_count": 1,
   "metadata": {},
   "outputs": [],
   "source": [
    "# importing libraries needed for this code\n",
    "import networkx as nx\n",
    "import numpy as np\n",
    "import random\n",
    "from random import sample\n",
    "import matplotlib.pyplot as plt\n",
    "import seaborn as sns\n",
    "import pandas as pd"
   ]
  },
  {
   "cell_type": "code",
   "execution_count": 2,
   "metadata": {},
   "outputs": [],
   "source": [
    "# change figure configurations\n",
    "%matplotlib inline\n",
    "import matplotlib\n",
    "font = {'size':16}\n",
    "matplotlib.rc('font', **font)\n",
    "matplotlib.rc('figure', figsize=(5.0, 5.0))"
   ]
  },
  {
   "cell_type": "code",
   "execution_count": 3,
   "metadata": {},
   "outputs": [],
   "source": [
    "# number of vertices and number of trees\n",
    "n= 20\n",
    "N = 200"
   ]
  },
  {
   "cell_type": "code",
   "execution_count": 4,
   "metadata": {},
   "outputs": [],
   "source": [
    "# path, star graph and complete graph on n vertices\n",
    "P_n = nx.path_graph(n)\n",
    "K_n = nx.complete_graph(n)\n",
    "S_n = nx.star_graph(n-1)"
   ]
  },
  {
   "cell_type": "code",
   "execution_count": 5,
   "metadata": {},
   "outputs": [],
   "source": [
    "# classes for trees\n",
    "classes = ['path-like','star-like']"
   ]
  },
  {
   "cell_type": "code",
   "execution_count": 6,
   "metadata": {},
   "outputs": [],
   "source": [
    "# needs comments\n",
    "def get_spanning_tree_u_w(G):\n",
    "    node_set=set(G.nodes())\n",
    "    x0=random.choice(tuple(node_set))\n",
    "    x1=x0\n",
    "    while x1==x0:\n",
    "        x1=random.choice(tuple(node_set))\n",
    "    node_set.remove(x1)\n",
    "    tnodes ={x1}\n",
    "    tedges=[]\n",
    "    current=x0\n",
    "    current_path=[x0]\n",
    "    current_edges=[]\n",
    "    while node_set != set():\n",
    "        next=random.choice(list(G.neighbors(current)))\n",
    "        current_edges.append((current,next))\n",
    "        current = next\n",
    "        current_path.append(next)\n",
    "\n",
    "        if next in tnodes:\n",
    "            for x in current_path[:-1]:\n",
    "                node_set.remove(x)\n",
    "                tnodes.add(x)\n",
    "            for ed in current_edges:\n",
    "                tedges.append(ed)\n",
    "            current_edges = []\n",
    "            if node_set != set():\n",
    "                current=random.choice(tuple(node_set))\n",
    "            current_path=[current]\n",
    "\n",
    "\n",
    "        if next in current_path[:-1]:\n",
    "            current_path.pop()\n",
    "            current_edges.pop()\n",
    "            for i in range(len(current_path)):\n",
    "                if current_edges !=[]:\n",
    "                    current_edges.pop()\n",
    "                if current_path.pop() == next:\n",
    "                    break\n",
    "            if len(current_path)>0:\n",
    "                current=current_path[-1]\n",
    "            else:\n",
    "                current=random.choice(tuple(node_set))\n",
    "                current_path=[current]\n",
    "\n",
    "\n",
    "    return tedges\n",
    "\n",
    "\n",
    "def get_spanning_tree_u_ab(G):\n",
    "    node_set=set(G.nodes())\n",
    "    x0=random.choice(tuple(node_set))\n",
    "\n",
    "    node_set.remove(x0)\n",
    "\n",
    "    current=x0\n",
    "    tedges=[]\n",
    "\n",
    "    while node_set != set():\n",
    "        next=random.choice(list(G.neighbors(current)))\n",
    "        if next in node_set:\n",
    "            node_set.remove(next)\n",
    "            tedges.append((current, next))\n",
    "        current=next\n",
    "\n",
    "\n",
    "    return tedges\n",
    "\n",
    "\n",
    "def tree_cycle_walk_cut(T):\n",
    "\n",
    "    tempo=0\n",
    "    tedges=set(T.edges())\n",
    "    while tempo==0:\n",
    "        edge = (random.choice(tuple(T.nodes())),random.choice(tuple(T.nodes())))\n",
    "        if (edge[0],edge[1]) not in tedges and (edge[1],edge[0]) not in tedges:\n",
    "            tempo=1\n",
    "            T.add_edge(edge[0],edge[1])\n",
    "            ncycle=nx.find_cycle(T,edge[0])\n",
    "            cutedge=random.choice(tuple(ncycle))\n",
    "            T.remove_edge(cutedge[0],cutedge[1])\n",
    "    return T"
   ]
  },
  {
   "cell_type": "raw",
   "metadata": {},
   "source": [
    "# train and test sets\n",
    "TreeList_train = [S_n,P_n]\n",
    "for i in range(N-2):\n",
    "    t= get_spanning_tree_u_w(K_n)\n",
    "    tgraph=nx.Graph()\n",
    "    tgraph.add_edges_from(t)\n",
    "    TreeList_train.append(tgraph)\n",
    "    \n",
    "TreeList_test = []\n",
    "for i in range(N):\n",
    "    t= get_spanning_tree_u_w(K_n)\n",
    "    tgraph=nx.Graph()\n",
    "    tgraph.add_edges_from(t)\n",
    "    TreeList_test.append(tgraph)"
   ]
  },
  {
   "cell_type": "raw",
   "metadata": {},
   "source": [
    "# cross-validation set\n",
    "TreeList_cv = []\n",
    "for i in range(N):\n",
    "    t= get_spanning_tree_u_w(K_n)\n",
    "    tgraph=nx.Graph()\n",
    "    tgraph.add_edges_from(t)\n",
    "    TreeList_cv.append(tgraph) "
   ]
  },
  {
   "cell_type": "raw",
   "metadata": {},
   "source": [
    "# pickling train and test sets\n",
    "import pickle\n",
    "dic_train = TreeList_train\n",
    "filename_train = 'TreeList_train_{}_{}.pkl'.format(n,N)\n",
    "f_train = open(filename_train,'wb')\n",
    "pickle.dump(dic_train,f_train)\n",
    "f_train.close()\n",
    "\n",
    "dic_test = TreeList_test\n",
    "filename_test = 'TreeList_test_{}_{}.pkl'.format(n,N)\n",
    "f_test = open(filename_test,'wb')\n",
    "pickle.dump(dic_test,f_test)\n",
    "f_test.close()"
   ]
  },
  {
   "cell_type": "code",
   "execution_count": 7,
   "metadata": {},
   "outputs": [],
   "source": [
    "# unpickling train and test sets\n",
    "import pickle\n",
    "filename_train = 'TreeList_train_{}_{}.pkl'.format(n,N)\n",
    "f_train = open(filename_train, 'rb')\n",
    "TreeList_train = pickle.load(f_train)\n",
    "f_train.close()\n",
    "\n",
    "filename_test = 'TreeList_test_{}_{}.pkl'.format(n,N)\n",
    "f_test = open(filename_test, 'rb')\n",
    "TreeList_test = pickle.load(f_test)\n",
    "f_test.close()"
   ]
  },
  {
   "cell_type": "code",
   "execution_count": 8,
   "metadata": {},
   "outputs": [],
   "source": [
    "# deletion-inclusion of a single edge in a tree\n",
    "def deletion_inclusion_trees(G):\n",
    "    H = G.copy()\n",
    "    K = G.copy()\n",
    "    E = G.edges()\n",
    "    e = sample(E, 1)\n",
    "    u,v = tuple(*e)\n",
    "    H.remove_edge(u,v)\n",
    "    incident_edges = list(nx.edge_boundary(K,*e))\n",
    "    K.remove_edges_from(incident_edges)\n",
    "    K = nx.contracted_edge(K, *e, self_loops=False)\n",
    "    return H, K\n",
    "\n",
    "# deletion-inclusion algorithm for a tree\n",
    "def deletion_inclusion_alg_trees(G):\n",
    "    Added = [G]\n",
    "    Removed = []\n",
    "    while len(Added) != 0:\n",
    "        for A in Added:\n",
    "            P,Q = deletion_inclusion_trees(A)\n",
    "            Added.remove(A)\n",
    "            if P.size() == 0:\n",
    "                Removed.append(P)\n",
    "            else:\n",
    "                Added.append(P)\n",
    "            if Q.size() == 0:\n",
    "                Removed.append(Q)\n",
    "            else:\n",
    "                Added.append(Q)\n",
    "    \n",
    "    return Removed\n",
    "\n",
    "# returns the list of Stirling numbers for a tree \n",
    "def get_stirling_trees(T): \n",
    "    m = int(np.ceil((n+1)/2))\n",
    "    L = deletion_inclusion_alg_trees(T)\n",
    "    C = [L[i].order() for i in range(len(L)) ]\n",
    "    unique, counts = np.unique(C, return_counts=True)\n",
    "    truecounts =np.zeros(m, dtype=int)\n",
    "    for index, i in enumerate(unique):\n",
    "        if i in unique:\n",
    "            if n%2 != 0:\n",
    "                truecounts[i-m] = counts[index]\n",
    "            else:\n",
    "                truecounts[i-m+1] = counts[index]\n",
    "    \n",
    "    return list(truecounts)\n",
    "\n",
    "# returns the degree sequence of a graph as a list\n",
    "def degree_seq(G):\n",
    "    return sorted([G.degree(v) for v in G.nodes()])"
   ]
  },
  {
   "cell_type": "code",
   "execution_count": 9,
   "metadata": {},
   "outputs": [],
   "source": [
    "path = get_stirling_trees(P_n)\n",
    "path_c = nx.diameter(P_n)\n",
    "star_c = nx.diameter(S_n)\n",
    "l_c = path_c - star_c\n",
    "\n",
    "# returns Stirling list, class and diameter of a tree\n",
    "def get_stirling_class(T):\n",
    "    counts = get_stirling_trees(T)\n",
    "    T_c = nx.diameter(T)          \n",
    "    \n",
    "    if T_c <= star_c + .5*l_c:\n",
    "        cls = \"star-like\"\n",
    "    elif star_c + .5*l_c < T_c:\n",
    "        cls = \"path-like\"\n",
    "                       \n",
    "    return counts, cls, T_c"
   ]
  },
  {
   "cell_type": "code",
   "execution_count": 10,
   "metadata": {},
   "outputs": [],
   "source": [
    "# predictors and observed values for training\n",
    "X_train = []\n",
    "y_train = []\n",
    "z_train = [] \n",
    "m = int(np.ceil((n+1)/2))\n",
    "for i in range(len(TreeList_train)):\n",
    "    G = TreeList_train[i]\n",
    "    counts, GC, T_c= get_stirling_class(G)\n",
    "\n",
    "    X_train.append(list(counts))\n",
    "    y_train.append(GC)\n",
    "    z_train.append(T_c)\n",
    "    \n",
    "X_train = np.array(X_train)\n",
    "y_train = np.array(y_train)\n",
    "z_train = np.array(z_train)"
   ]
  },
  {
   "cell_type": "code",
   "execution_count": 11,
   "metadata": {},
   "outputs": [],
   "source": [
    "# predictors and observed values for testing\n",
    "X_test = []\n",
    "y_test = []\n",
    "z_test = []\n",
    "for i in range(len(TreeList_test)):\n",
    "    G = TreeList_test[i]\n",
    "    counts, GC, T_c = get_stirling_class(G)\n",
    "\n",
    "    X_test.append(list(counts))\n",
    "    y_test.append(GC)\n",
    "    z_test.append(T_c)\n",
    "    \n",
    "X_test = np.array(X_test)\n",
    "y_test = np.array(y_test)\n",
    "z_test = np.array(z_test)"
   ]
  },
  {
   "cell_type": "code",
   "execution_count": 12,
   "metadata": {
    "scrolled": false
   },
   "outputs": [
    {
     "data": {
      "image/png": "[encoded data removed]",
      "text/plain": [
       "<Figure size 360x360 with 1 Axes>"
      ]
     },
     "metadata": {
      "needs_background": "light"
     },
     "output_type": "display_data"
    },
    {
     "name": "stdout",
     "output_type": "stream",
     "text": [
      "-----\n"
     ]
    },
    {
     "data": {
      "image/png": "[encoded data removed]",
      "text/plain": [
       "<Figure size 360x360 with 1 Axes>"
      ]
     },
     "metadata": {
      "needs_background": "light"
     },
     "output_type": "display_data"
    },
    {
     "name": "stdout",
     "output_type": "stream",
     "text": [
      "-----\n"
     ]
    },
    {
     "data": {
      "image/png": "[encoded data removed]",
      "text/plain": [
       "<Figure size 360x360 with 1 Axes>"
      ]
     },
     "metadata": {
      "needs_background": "light"
     },
     "output_type": "display_data"
    },
    {
     "name": "stdout",
     "output_type": "stream",
     "text": [
      "-----\n"
     ]
    },
    {
     "data": {
      "image/png": "[encoded data removed]",
      "text/plain": [
       "<Figure size 360x360 with 1 Axes>"
      ]
     },
     "metadata": {
      "needs_background": "light"
     },
     "output_type": "display_data"
    },
    {
     "name": "stdout",
     "output_type": "stream",
     "text": [
      "-----\n"
     ]
    },
    {
     "data": {
      "image/png": "[encoded data removed]",
      "text/plain": [
       "<Figure size 360x360 with 1 Axes>"
      ]
     },
     "metadata": {
      "needs_background": "light"
     },
     "output_type": "display_data"
    },
    {
     "name": "stdout",
     "output_type": "stream",
     "text": [
      "-----\n"
     ]
    },
    {
     "data": {
      "image/png": "[encoded data removed]",
      "text/plain": [
       "<Figure size 360x360 with 1 Axes>"
      ]
     },
     "metadata": {
      "needs_background": "light"
     },
     "output_type": "display_data"
    },
    {
     "name": "stdout",
     "output_type": "stream",
     "text": [
      "-----\n"
     ]
    },
    {
     "data": {
      "image/png": "[encoded data removed]",
      "text/plain": [
       "<Figure size 360x360 with 1 Axes>"
      ]
     },
     "metadata": {
      "needs_background": "light"
     },
     "output_type": "display_data"
    },
    {
     "name": "stdout",
     "output_type": "stream",
     "text": [
      "-----\n"
     ]
    },
    {
     "data": {
      "image/png": "[encoded data removed]",
      "text/plain": [
       "<Figure size 360x360 with 1 Axes>"
      ]
     },
     "metadata": {
      "needs_background": "light"
     },
     "output_type": "display_data"
    },
    {
     "name": "stdout",
     "output_type": "stream",
     "text": [
      "-----\n"
     ]
    }
   ],
   "source": [
    "# boxplots for s(T,k) for different values of k based on radius for the train set\n",
    "df_train = pd.DataFrame(X_train)\n",
    "df_tr = pd.concat([df_train,pd.DataFrame(z_train)],axis=1)\n",
    "df_tr.columns = ['x_{}'.format(j) for j in range(X_train.shape[1])] + ['diameter']\n",
    "\n",
    "for i in range(1,9):\n",
    "    sns.boxplot(y=df_tr['x_{}'.format(i)],x=df_tr['diameter'])\n",
    "    plt.show()\n",
    "    print('-----')"
   ]
  },
  {
   "cell_type": "code",
   "execution_count": 13,
   "metadata": {},
   "outputs": [
    {
     "data": {
      "image/png": "[encoded data removed]",
      "text/plain": [
       "<Figure size 360x360 with 1 Axes>"
      ]
     },
     "metadata": {
      "needs_background": "light"
     },
     "output_type": "display_data"
    },
    {
     "name": "stdout",
     "output_type": "stream",
     "text": [
      "-----\n"
     ]
    },
    {
     "data": {
      "image/png": "[encoded data removed]",
      "text/plain": [
       "<Figure size 360x360 with 1 Axes>"
      ]
     },
     "metadata": {
      "needs_background": "light"
     },
     "output_type": "display_data"
    },
    {
     "name": "stdout",
     "output_type": "stream",
     "text": [
      "-----\n"
     ]
    },
    {
     "data": {
      "image/png": "[encoded data removed]",
      "text/plain": [
       "<Figure size 360x360 with 1 Axes>"
      ]
     },
     "metadata": {
      "needs_background": "light"
     },
     "output_type": "display_data"
    },
    {
     "name": "stdout",
     "output_type": "stream",
     "text": [
      "-----\n"
     ]
    },
    {
     "data": {
      "image/png": "[encoded data removed]",
      "text/plain": [
       "<Figure size 360x360 with 1 Axes>"
      ]
     },
     "metadata": {
      "needs_background": "light"
     },
     "output_type": "display_data"
    },
    {
     "name": "stdout",
     "output_type": "stream",
     "text": [
      "-----\n"
     ]
    },
    {
     "data": {
      "image/png": "[encoded data removed]",
      "text/plain": [
       "<Figure size 360x360 with 1 Axes>"
      ]
     },
     "metadata": {
      "needs_background": "light"
     },
     "output_type": "display_data"
    },
    {
     "name": "stdout",
     "output_type": "stream",
     "text": [
      "-----\n"
     ]
    },
    {
     "data": {
      "image/png": "[encoded data removed]",
      "text/plain": [
       "<Figure size 360x360 with 1 Axes>"
      ]
     },
     "metadata": {
      "needs_background": "light"
     },
     "output_type": "display_data"
    },
    {
     "name": "stdout",
     "output_type": "stream",
     "text": [
      "-----\n"
     ]
    },
    {
     "data": {
      "image/png": "[encoded data removed]",
      "text/plain": [
       "<Figure size 360x360 with 1 Axes>"
      ]
     },
     "metadata": {
      "needs_background": "light"
     },
     "output_type": "display_data"
    },
    {
     "name": "stdout",
     "output_type": "stream",
     "text": [
      "-----\n"
     ]
    },
    {
     "data": {
      "image/png": "[encoded data removed]",
      "text/plain": [
       "<Figure size 360x360 with 1 Axes>"
      ]
     },
     "metadata": {
      "needs_background": "light"
     },
     "output_type": "display_data"
    },
    {
     "name": "stdout",
     "output_type": "stream",
     "text": [
      "-----\n"
     ]
    }
   ],
   "source": [
    "# boxplots for s(T,k) for different values of k based on radius for the test set\n",
    "df_test = pd.DataFrame(X_test)\n",
    "df_tr = pd.concat([df_test,pd.DataFrame(z_test)],axis=1)\n",
    "df_tr.columns = ['x_{}'.format(j) for j in range(X_test.shape[1])] + ['diameter']\n",
    "\n",
    "for i in range(1,9):\n",
    "    sns.boxplot(y=df_tr['x_{}'.format(i)],x=df_tr['diameter'])\n",
    "    plt.show()\n",
    "    print('-----')"
   ]
  },
  {
   "cell_type": "raw",
   "metadata": {},
   "source": [
    "# predictors and observed values for cross-validation\n",
    "X_cv = []\n",
    "y_cv = []\n",
    "z_cv = []\n",
    "for i in range(len(TreeList_cv)):\n",
    "    G = TreeList_cv[i]\n",
    "    counts, GC, T_c = get_stirling_class(G)\n",
    "\n",
    "    X_cv.append(list(counts))\n",
    "    y_cv.append(GC)\n",
    "    z_cv.append(T_c)\n",
    "    \n",
    "X_cv = np.array(X_cv)\n",
    "y_cv = np.array(y_cv)\n",
    "z_cv = np.array(z_cv)"
   ]
  },
  {
   "cell_type": "code",
   "execution_count": 14,
   "metadata": {},
   "outputs": [],
   "source": [
    "Range_1 = np.arange(.1,.9,.001)\n",
    "random_state =  np.random.RandomState(seed=42)\n",
    "#random_state = np.random.randint(1,1000)"
   ]
  },
  {
   "cell_type": "code",
   "execution_count": 15,
   "metadata": {},
   "outputs": [],
   "source": [
    "# calling the appropriate tools for classification\n",
    "from sklearn.ensemble import RandomForestClassifier, ExtraTreesClassifier, BaggingClassifier\n",
    "from sklearn.tree import DecisionTreeClassifier\n",
    "from sklearn.model_selection import cross_validate, GridSearchCV\n",
    "from sklearn.metrics import accuracy_score, confusion_matrix, matthews_corrcoef, hamming_loss, precision_score\n",
    "from sklearn.metrics import mean_squared_error, mean_absolute_error, explained_variance_score, classification_report\n",
    "from sklearn.pipeline import make_pipeline, Pipeline\n",
    "from sklearn.svm import SVC\n",
    "from sklearn.naive_bayes import BernoulliNB, MultinomialNB\n",
    "from sklearn.svm import LinearSVC\n",
    "from sklearn.linear_model import SGDClassifier"
   ]
  },
  {
   "cell_type": "code",
   "execution_count": 16,
   "metadata": {},
   "outputs": [],
   "source": [
    "# to save figures or not\n",
    "savefig = False"
   ]
  },
  {
   "cell_type": "code",
   "execution_count": 17,
   "metadata": {
    "scrolled": true
   },
   "outputs": [
    {
     "name": "stdout",
     "output_type": "stream",
     "text": [
      "Train Score: 1.0\n",
      "Test Score: 0.67\n",
      "Train Matthews Corr: 1.0\n",
      "Test Matthews Corr: 0.33994216989791814\n",
      "Train Hamming Loss: 0.0\n",
      "Test Hamming Loss: 0.33\n",
      "Train Confusion Matrix:\n"
     ]
    },
    {
     "data": {
      "image/png": "[encoded data removed]",
      "text/plain": [
       "<Figure size 360x360 with 2 Axes>"
      ]
     },
     "metadata": {
      "needs_background": "light"
     },
     "output_type": "display_data"
    },
    {
     "name": "stdout",
     "output_type": "stream",
     "text": [
      "Test Confusion Matrix:\n"
     ]
    },
    {
     "data": {
      "image/png": "[encoded data removed]",
      "text/plain": [
       "<Figure size 360x360 with 2 Axes>"
      ]
     },
     "metadata": {
      "needs_background": "light"
     },
     "output_type": "display_data"
    },
    {
     "name": "stdout",
     "output_type": "stream",
     "text": [
      "Test Classification Report:\n",
      "              precision    recall  f1-score   support\n",
      "\n",
      "   path-like       0.65      0.67      0.66        95\n",
      "   star-like       0.69      0.67      0.68       105\n",
      "\n",
      "   micro avg       0.67      0.67      0.67       200\n",
      "   macro avg       0.67      0.67      0.67       200\n",
      "weighted avg       0.67      0.67      0.67       200\n",
      "\n"
     ]
    },
    {
     "data": {
      "text/html": [
       "<div>\n",
       "<style scoped>\n",
       "    .dataframe tbody tr th:only-of-type {\n",
       "        vertical-align: middle;\n",
       "    }\n",
       "\n",
       "    .dataframe tbody tr th {\n",
       "        vertical-align: top;\n",
       "    }\n",
       "\n",
       "    .dataframe thead th {\n",
       "        text-align: right;\n",
       "    }\n",
       "</style>\n",
       "<table border=\"1\" class=\"dataframe\">\n",
       "  <thead>\n",
       "    <tr style=\"text-align: right;\">\n",
       "      <th></th>\n",
       "      <th>f1-score</th>\n",
       "      <th>precision</th>\n",
       "      <th>recall</th>\n",
       "      <th>support</th>\n",
       "    </tr>\n",
       "  </thead>\n",
       "  <tbody>\n",
       "    <tr>\n",
       "      <th>path-like</th>\n",
       "      <td>0.659794</td>\n",
       "      <td>0.646465</td>\n",
       "      <td>0.673684</td>\n",
       "      <td>95.0</td>\n",
       "    </tr>\n",
       "    <tr>\n",
       "      <th>star-like</th>\n",
       "      <td>0.679612</td>\n",
       "      <td>0.693069</td>\n",
       "      <td>0.666667</td>\n",
       "      <td>105.0</td>\n",
       "    </tr>\n",
       "    <tr>\n",
       "      <th>micro avg</th>\n",
       "      <td>0.670000</td>\n",
       "      <td>0.670000</td>\n",
       "      <td>0.670000</td>\n",
       "      <td>200.0</td>\n",
       "    </tr>\n",
       "    <tr>\n",
       "      <th>macro avg</th>\n",
       "      <td>0.669703</td>\n",
       "      <td>0.669767</td>\n",
       "      <td>0.670175</td>\n",
       "      <td>200.0</td>\n",
       "    </tr>\n",
       "    <tr>\n",
       "      <th>weighted avg</th>\n",
       "      <td>0.670198</td>\n",
       "      <td>0.670932</td>\n",
       "      <td>0.670000</td>\n",
       "      <td>200.0</td>\n",
       "    </tr>\n",
       "  </tbody>\n",
       "</table>\n",
       "</div>"
      ],
      "text/plain": [
       "              f1-score  precision    recall  support\n",
       "path-like     0.659794   0.646465  0.673684     95.0\n",
       "star-like     0.679612   0.693069  0.666667    105.0\n",
       "micro avg     0.670000   0.670000  0.670000    200.0\n",
       "macro avg     0.669703   0.669767  0.670175    200.0\n",
       "weighted avg  0.670198   0.670932  0.670000    200.0"
      ]
     },
     "execution_count": 17,
     "metadata": {},
     "output_type": "execute_result"
    }
   ],
   "source": [
    "# Decision Trees\n",
    "dtc = DecisionTreeClassifier(random_state=random_state)\n",
    "\n",
    "#DecisionTreeClassifier(criterion='gini', splitter='best', max_depth=None, \n",
    "#                       min_samples_split=2, min_samples_leaf=1, min_weight_fraction_leaf=0.0, \n",
    "#                       max_features=None, random_state=None, max_leaf_nodes=None, min_impurity_decrease=0.0, \n",
    "#                       min_impurity_split=None, class_weight=None, presort=False)\n",
    "\n",
    "dtc.fit(X_train,y_train)\n",
    "y_train_dtc_pred = dtc.predict(X_train)\n",
    "y_test_dtc_pred = dtc.predict(X_test)\n",
    "print('Train Score:', dtc.score(X_train,y_train))\n",
    "print('Test Score:', dtc.score(X_test,y_test))\n",
    "print('Train Matthews Corr:', matthews_corrcoef(y_train,y_train_dtc_pred))\n",
    "print('Test Matthews Corr:', matthews_corrcoef(y_test,y_test_dtc_pred))\n",
    "print('Train Hamming Loss:', hamming_loss(y_train,y_train_dtc_pred))\n",
    "print('Test Hamming Loss:', hamming_loss(y_test,y_test_dtc_pred))\n",
    "\n",
    "print('Train Confusion Matrix:')\n",
    "cm_train_dtc = confusion_matrix(y_train,y_train_dtc_pred, labels=classes)\n",
    "fig = sns.heatmap(cm_train_dtc,annot=True, fmt=\"d\")\n",
    "plt.xlabel('Pedicted')\n",
    "plt.ylabel('True')\n",
    "plt.show()\n",
    "if savefig == True:\n",
    "    fig.figure.savefig('Tree-Train-Class-2-Diam.png')\n",
    "print('Test Confusion Matrix:')\n",
    "cm_test_dtc = confusion_matrix(y_test,y_test_dtc_pred, labels=classes)\n",
    "fig = sns.heatmap(cm_test_dtc,annot=True, fmt=\"d\")\n",
    "plt.xlabel('Pedicted')\n",
    "plt.ylabel('True')\n",
    "plt.show()\n",
    "if savefig == True:\n",
    "    fig.figure.savefig('Tree-Test-Class-2-Diam.png')\n",
    "\n",
    "print('Test Classification Report:')\n",
    "print(classification_report(y_test,y_test_dtc_pred))\n",
    "report = classification_report(y_test,y_test_dtc_pred, output_dict = True)\n",
    "df = pd.DataFrame(report).transpose()\n",
    "df"
   ]
  },
  {
   "cell_type": "code",
   "execution_count": 18,
   "metadata": {},
   "outputs": [
    {
     "name": "stdout",
     "output_type": "stream",
     "text": [
      "Train Score: 0.98\n",
      "Test Score: 0.685\n",
      "Train Matthews Corr: 0.9606879219396026\n",
      "Test Matthews Corr: 0.3695360312479068\n",
      "Train Hamming Loss: 0.02\n",
      "Test Hamming Loss: 0.315\n",
      "Out-of-bag Score: 0.715\n",
      "Train Confusion Matrix:\n"
     ]
    },
    {
     "name": "stderr",
     "output_type": "stream",
     "text": [
      "/home/amir/anaconda3/lib/python3.6/site-packages/sklearn/ensemble/bagging.py:610: UserWarning: Some inputs do not have OOB scores. This probably means too few estimators were used to compute any reliable oob estimates.\n",
      "  warn(\"Some inputs do not have OOB scores. \"\n",
      "/home/amir/anaconda3/lib/python3.6/site-packages/sklearn/ensemble/bagging.py:615: RuntimeWarning: invalid value encountered in true_divide\n",
      "  predictions.sum(axis=1)[:, np.newaxis])\n"
     ]
    },
    {
     "data": {
      "image/png": "[encoded data removed]",
      "text/plain": [
       "<Figure size 360x360 with 2 Axes>"
      ]
     },
     "metadata": {
      "needs_background": "light"
     },
     "output_type": "display_data"
    },
    {
     "name": "stdout",
     "output_type": "stream",
     "text": [
      "Test Confusion Matrix:\n"
     ]
    },
    {
     "data": {
      "image/png": "[encoded data removed]",
      "text/plain": [
       "<Figure size 360x360 with 2 Axes>"
      ]
     },
     "metadata": {
      "needs_background": "light"
     },
     "output_type": "display_data"
    },
    {
     "name": "stdout",
     "output_type": "stream",
     "text": [
      "Test Classification Report:\n",
      "              precision    recall  f1-score   support\n",
      "\n",
      "   path-like       0.66      0.68      0.67        95\n",
      "   star-like       0.71      0.69      0.70       105\n",
      "\n",
      "   micro avg       0.69      0.69      0.69       200\n",
      "   macro avg       0.68      0.68      0.68       200\n",
      "weighted avg       0.69      0.69      0.69       200\n",
      "\n"
     ]
    },
    {
     "data": {
      "text/html": [
       "<div>\n",
       "<style scoped>\n",
       "    .dataframe tbody tr th:only-of-type {\n",
       "        vertical-align: middle;\n",
       "    }\n",
       "\n",
       "    .dataframe tbody tr th {\n",
       "        vertical-align: top;\n",
       "    }\n",
       "\n",
       "    .dataframe thead th {\n",
       "        text-align: right;\n",
       "    }\n",
       "</style>\n",
       "<table border=\"1\" class=\"dataframe\">\n",
       "  <thead>\n",
       "    <tr style=\"text-align: right;\">\n",
       "      <th></th>\n",
       "      <th>f1-score</th>\n",
       "      <th>precision</th>\n",
       "      <th>recall</th>\n",
       "      <th>support</th>\n",
       "    </tr>\n",
       "  </thead>\n",
       "  <tbody>\n",
       "    <tr>\n",
       "      <th>path-like</th>\n",
       "      <td>0.673575</td>\n",
       "      <td>0.663265</td>\n",
       "      <td>0.684211</td>\n",
       "      <td>95.0</td>\n",
       "    </tr>\n",
       "    <tr>\n",
       "      <th>star-like</th>\n",
       "      <td>0.695652</td>\n",
       "      <td>0.705882</td>\n",
       "      <td>0.685714</td>\n",
       "      <td>105.0</td>\n",
       "    </tr>\n",
       "    <tr>\n",
       "      <th>micro avg</th>\n",
       "      <td>0.685000</td>\n",
       "      <td>0.685000</td>\n",
       "      <td>0.685000</td>\n",
       "      <td>200.0</td>\n",
       "    </tr>\n",
       "    <tr>\n",
       "      <th>macro avg</th>\n",
       "      <td>0.684614</td>\n",
       "      <td>0.684574</td>\n",
       "      <td>0.684962</td>\n",
       "      <td>200.0</td>\n",
       "    </tr>\n",
       "    <tr>\n",
       "      <th>weighted avg</th>\n",
       "      <td>0.685166</td>\n",
       "      <td>0.685639</td>\n",
       "      <td>0.685000</td>\n",
       "      <td>200.0</td>\n",
       "    </tr>\n",
       "  </tbody>\n",
       "</table>\n",
       "</div>"
      ],
      "text/plain": [
       "              f1-score  precision    recall  support\n",
       "path-like     0.673575   0.663265  0.684211     95.0\n",
       "star-like     0.695652   0.705882  0.685714    105.0\n",
       "micro avg     0.685000   0.685000  0.685000    200.0\n",
       "macro avg     0.684614   0.684574  0.684962    200.0\n",
       "weighted avg  0.685166   0.685639  0.685000    200.0"
      ]
     },
     "execution_count": 18,
     "metadata": {},
     "output_type": "execute_result"
    }
   ],
   "source": [
    "# Bagging\n",
    "bc = BaggingClassifier(random_state=random_state,oob_score=True)\n",
    "\n",
    "# BaggingClassifier(base_estimator=None, n_estimators=10, max_samples=1.0, max_features=1.0, \n",
    "#                  bootstrap=True, bootstrap_features=False, oob_score=False, warm_start=False, \n",
    "#                 n_jobs=None, random_state=None, verbose=0)\n",
    "\n",
    "bc.fit(X_train,y_train)\n",
    "y_train_bc_pred = bc.predict(X_train)\n",
    "y_test_bc_pred = bc.predict(X_test)\n",
    "print('Train Score:', bc.score(X_train,y_train))\n",
    "print('Test Score:', bc.score(X_test,y_test))\n",
    "print('Train Matthews Corr:', matthews_corrcoef(y_train,y_train_bc_pred))\n",
    "print('Test Matthews Corr:', matthews_corrcoef(y_test,y_test_bc_pred))\n",
    "print('Train Hamming Loss:', hamming_loss(y_train,y_train_bc_pred))\n",
    "print('Test Hamming Loss:', hamming_loss(y_test,y_test_bc_pred))\n",
    "print('Out-of-bag Score:', bc.oob_score_)\n",
    "\n",
    "print('Train Confusion Matrix:')\n",
    "cm_train_bc = confusion_matrix(y_train,y_train_bc_pred, labels=classes)\n",
    "fig = sns.heatmap(cm_train_bc,annot=True, fmt=\"d\")\n",
    "plt.xlabel('Pedicted')\n",
    "plt.ylabel('True')\n",
    "plt.show()\n",
    "if savefig == True:\n",
    "    fig.figure.savefig('Bagging-Train-Class-2-Diam.png')\n",
    "print('Test Confusion Matrix:')\n",
    "cm_test_bc = confusion_matrix(y_test,y_test_bc_pred, labels=classes)\n",
    "fig = sns.heatmap(cm_test_bc,annot=True, fmt=\"d\")\n",
    "plt.xlabel('Pedicted')\n",
    "plt.ylabel('True')\n",
    "plt.show()\n",
    "if savefig == True:\n",
    "    fig.figure.savefig('Bagging-Test-Class-2-Diam.png')\n",
    "\n",
    "print('Test Classification Report:')\n",
    "print(classification_report(y_test,y_test_bc_pred))\n",
    "report = classification_report(y_test,y_test_bc_pred, output_dict = True)\n",
    "df = pd.DataFrame(report).transpose()\n",
    "df"
   ]
  },
  {
   "cell_type": "code",
   "execution_count": 19,
   "metadata": {},
   "outputs": [
    {
     "name": "stdout",
     "output_type": "stream",
     "text": [
      "Train Score: 1.0\n",
      "Test Score: 0.69\n",
      "Train Matthews Corr: 1.0\n",
      "Test Matthews Corr: 0.37844611528822053\n",
      "Train Hamming Loss: 0.0\n",
      "Test Hamming Loss: 0.31\n",
      "Out-of-bag Score: 0.75\n",
      "Train Confusion Matrix:\n"
     ]
    },
    {
     "data": {
      "image/png": "[encoded data removed]",
      "text/plain": [
       "<Figure size 360x360 with 2 Axes>"
      ]
     },
     "metadata": {
      "needs_background": "light"
     },
     "output_type": "display_data"
    },
    {
     "name": "stdout",
     "output_type": "stream",
     "text": [
      "Test Confusion Matrix:\n"
     ]
    },
    {
     "data": {
      "image/png": "[encoded data removed]",
      "text/plain": [
       "<Figure size 360x360 with 2 Axes>"
      ]
     },
     "metadata": {
      "needs_background": "light"
     },
     "output_type": "display_data"
    },
    {
     "name": "stdout",
     "output_type": "stream",
     "text": [
      "Test Classification Report:\n",
      "              precision    recall  f1-score   support\n",
      "\n",
      "   path-like       0.67      0.67      0.67        95\n",
      "   star-like       0.70      0.70      0.70       105\n",
      "\n",
      "   micro avg       0.69      0.69      0.69       200\n",
      "   macro avg       0.69      0.69      0.69       200\n",
      "weighted avg       0.69      0.69      0.69       200\n",
      "\n"
     ]
    },
    {
     "data": {
      "text/html": [
       "<div>\n",
       "<style scoped>\n",
       "    .dataframe tbody tr th:only-of-type {\n",
       "        vertical-align: middle;\n",
       "    }\n",
       "\n",
       "    .dataframe tbody tr th {\n",
       "        vertical-align: top;\n",
       "    }\n",
       "\n",
       "    .dataframe thead th {\n",
       "        text-align: right;\n",
       "    }\n",
       "</style>\n",
       "<table border=\"1\" class=\"dataframe\">\n",
       "  <thead>\n",
       "    <tr style=\"text-align: right;\">\n",
       "      <th></th>\n",
       "      <th>f1-score</th>\n",
       "      <th>precision</th>\n",
       "      <th>recall</th>\n",
       "      <th>support</th>\n",
       "    </tr>\n",
       "  </thead>\n",
       "  <tbody>\n",
       "    <tr>\n",
       "      <th>path-like</th>\n",
       "      <td>0.673684</td>\n",
       "      <td>0.673684</td>\n",
       "      <td>0.673684</td>\n",
       "      <td>95.0</td>\n",
       "    </tr>\n",
       "    <tr>\n",
       "      <th>star-like</th>\n",
       "      <td>0.704762</td>\n",
       "      <td>0.704762</td>\n",
       "      <td>0.704762</td>\n",
       "      <td>105.0</td>\n",
       "    </tr>\n",
       "    <tr>\n",
       "      <th>micro avg</th>\n",
       "      <td>0.690000</td>\n",
       "      <td>0.690000</td>\n",
       "      <td>0.690000</td>\n",
       "      <td>200.0</td>\n",
       "    </tr>\n",
       "    <tr>\n",
       "      <th>macro avg</th>\n",
       "      <td>0.689223</td>\n",
       "      <td>0.689223</td>\n",
       "      <td>0.689223</td>\n",
       "      <td>200.0</td>\n",
       "    </tr>\n",
       "    <tr>\n",
       "      <th>weighted avg</th>\n",
       "      <td>0.690000</td>\n",
       "      <td>0.690000</td>\n",
       "      <td>0.690000</td>\n",
       "      <td>200.0</td>\n",
       "    </tr>\n",
       "  </tbody>\n",
       "</table>\n",
       "</div>"
      ],
      "text/plain": [
       "              f1-score  precision    recall  support\n",
       "path-like     0.673684   0.673684  0.673684     95.0\n",
       "star-like     0.704762   0.704762  0.704762    105.0\n",
       "micro avg     0.690000   0.690000  0.690000    200.0\n",
       "macro avg     0.689223   0.689223  0.689223    200.0\n",
       "weighted avg  0.690000   0.690000  0.690000    200.0"
      ]
     },
     "execution_count": 19,
     "metadata": {},
     "output_type": "execute_result"
    }
   ],
   "source": [
    "# Random Forest\n",
    "rfc = RandomForestClassifier(n_estimators=50,random_state=random_state,oob_score=True)\n",
    "\n",
    "#RandomForestClassifier(n_estimators='warn', criterion='gini', max_depth=None, min_samples_split=2, \n",
    "#                       min_samples_leaf=1, min_weight_fraction_leaf=0.0, max_features='auto', \n",
    "#                       max_leaf_nodes=None, min_impurity_decrease=0.0, min_impurity_split=None, \n",
    "#                       bootstrap=True, oob_score=False, n_jobs=None, random_state=None, \n",
    "#                       verbose=0, warm_start=False, class_weight=None)\n",
    "\n",
    "rfc.fit(X_train,y_train)\n",
    "y_train_rfc_pred = rfc.predict(X_train)\n",
    "y_test_rfc_pred = rfc.predict(X_test)\n",
    "print('Train Score:', rfc.score(X_train,y_train))\n",
    "print('Test Score:', rfc.score(X_test,y_test))\n",
    "print('Train Matthews Corr:', matthews_corrcoef(y_train,y_train_rfc_pred))\n",
    "print('Test Matthews Corr:', matthews_corrcoef(y_test,y_test_rfc_pred))\n",
    "print('Train Hamming Loss:', hamming_loss(y_train,y_train_rfc_pred))\n",
    "print('Test Hamming Loss:', hamming_loss(y_test,y_test_rfc_pred))\n",
    "print('Out-of-bag Score:', rfc.oob_score_)\n",
    "\n",
    "print('Train Confusion Matrix:')\n",
    "cm_train_rfc = confusion_matrix(y_train,y_train_rfc_pred, labels=classes)\n",
    "fig = sns.heatmap(cm_train_rfc,annot=True, fmt=\"d\")\n",
    "plt.xlabel('Pedicted')\n",
    "plt.ylabel('True')\n",
    "plt.show()\n",
    "if savefig == True:\n",
    "    fig.figure.savefig('Random-Train-Class-2-Diam.png')\n",
    "print('Test Confusion Matrix:')\n",
    "cm_test_rfc = confusion_matrix(y_test,y_test_rfc_pred, labels=classes)\n",
    "fig = sns.heatmap(cm_test_rfc,annot=True, fmt=\"d\")\n",
    "plt.xlabel('Pedicted')\n",
    "plt.ylabel('True')\n",
    "plt.show()\n",
    "#if savefig == True:\n",
    "#    fig.figure.savefig('Random-Test-Class-2-Diam.png')\n",
    "\n",
    "print('Test Classification Report:')\n",
    "print(classification_report(y_test,y_test_rfc_pred))\n",
    "report = classification_report(y_test,y_test_rfc_pred, output_dict = True)\n",
    "df = pd.DataFrame(report).transpose()\n",
    "df"
   ]
  },
  {
   "cell_type": "code",
   "execution_count": 20,
   "metadata": {
    "scrolled": true
   },
   "outputs": [
    {
     "name": "stdout",
     "output_type": "stream",
     "text": [
      "Train Score: 1.0\n",
      "Test Score: 0.69\n",
      "Train Matthews Corr: 1.0\n",
      "Test Matthews Corr: 0.37844611528822053\n",
      "Train Hamming Loss: 0.0\n",
      "Test Hamming Loss: 0.31\n",
      "Train Confusion Matrix:\n"
     ]
    },
    {
     "data": {
      "image/png": "[encoded data removed]",
      "text/plain": [
       "<Figure size 360x360 with 2 Axes>"
      ]
     },
     "metadata": {
      "needs_background": "light"
     },
     "output_type": "display_data"
    },
    {
     "name": "stdout",
     "output_type": "stream",
     "text": [
      "Test Confusion Matrix:\n"
     ]
    },
    {
     "data": {
      "image/png": "[encoded data removed]",
      "text/plain": [
       "<Figure size 360x360 with 2 Axes>"
      ]
     },
     "metadata": {
      "needs_background": "light"
     },
     "output_type": "display_data"
    },
    {
     "name": "stdout",
     "output_type": "stream",
     "text": [
      "Test Classification Report:\n",
      "              precision    recall  f1-score   support\n",
      "\n",
      "   path-like       0.67      0.67      0.67        95\n",
      "   star-like       0.70      0.70      0.70       105\n",
      "\n",
      "   micro avg       0.69      0.69      0.69       200\n",
      "   macro avg       0.69      0.69      0.69       200\n",
      "weighted avg       0.69      0.69      0.69       200\n",
      "\n"
     ]
    },
    {
     "data": {
      "text/html": [
       "<div>\n",
       "<style scoped>\n",
       "    .dataframe tbody tr th:only-of-type {\n",
       "        vertical-align: middle;\n",
       "    }\n",
       "\n",
       "    .dataframe tbody tr th {\n",
       "        vertical-align: top;\n",
       "    }\n",
       "\n",
       "    .dataframe thead th {\n",
       "        text-align: right;\n",
       "    }\n",
       "</style>\n",
       "<table border=\"1\" class=\"dataframe\">\n",
       "  <thead>\n",
       "    <tr style=\"text-align: right;\">\n",
       "      <th></th>\n",
       "      <th>f1-score</th>\n",
       "      <th>precision</th>\n",
       "      <th>recall</th>\n",
       "      <th>support</th>\n",
       "    </tr>\n",
       "  </thead>\n",
       "  <tbody>\n",
       "    <tr>\n",
       "      <th>path-like</th>\n",
       "      <td>0.673684</td>\n",
       "      <td>0.673684</td>\n",
       "      <td>0.673684</td>\n",
       "      <td>95.0</td>\n",
       "    </tr>\n",
       "    <tr>\n",
       "      <th>star-like</th>\n",
       "      <td>0.704762</td>\n",
       "      <td>0.704762</td>\n",
       "      <td>0.704762</td>\n",
       "      <td>105.0</td>\n",
       "    </tr>\n",
       "    <tr>\n",
       "      <th>micro avg</th>\n",
       "      <td>0.690000</td>\n",
       "      <td>0.690000</td>\n",
       "      <td>0.690000</td>\n",
       "      <td>200.0</td>\n",
       "    </tr>\n",
       "    <tr>\n",
       "      <th>macro avg</th>\n",
       "      <td>0.689223</td>\n",
       "      <td>0.689223</td>\n",
       "      <td>0.689223</td>\n",
       "      <td>200.0</td>\n",
       "    </tr>\n",
       "    <tr>\n",
       "      <th>weighted avg</th>\n",
       "      <td>0.690000</td>\n",
       "      <td>0.690000</td>\n",
       "      <td>0.690000</td>\n",
       "      <td>200.0</td>\n",
       "    </tr>\n",
       "  </tbody>\n",
       "</table>\n",
       "</div>"
      ],
      "text/plain": [
       "              f1-score  precision    recall  support\n",
       "path-like     0.673684   0.673684  0.673684     95.0\n",
       "star-like     0.704762   0.704762  0.704762    105.0\n",
       "micro avg     0.690000   0.690000  0.690000    200.0\n",
       "macro avg     0.689223   0.689223  0.689223    200.0\n",
       "weighted avg  0.690000   0.690000  0.690000    200.0"
      ]
     },
     "execution_count": 20,
     "metadata": {},
     "output_type": "execute_result"
    }
   ],
   "source": [
    "# Extra Trees without Boostrapping\n",
    "etc = ExtraTreesClassifier(n_estimators=50,random_state=random_state, oob_score=False)\n",
    "\n",
    "# etc = ExtraTreesClassifier(n_estimators='warn', criterion='gini', max_depth=None, min_samples_split=2, \n",
    "#                           min_samples_leaf=1, min_weight_fraction_leaf=0.0, max_features='auto', \n",
    "#                           max_leaf_nodes=None, min_impurity_decrease=0.0, min_impurity_split=None, \n",
    "#                           bootstrap=False, oob_score=False, n_jobs=None, random_state=None, \n",
    "#                           verbose=0, warm_start=False, class_weight=None)\n",
    "\n",
    "etc.fit(X_train,y_train)\n",
    "y_train_etc_pred = etc.predict(X_train)\n",
    "y_test_etc_pred = etc.predict(X_test)\n",
    "print('Train Score:', etc.score(X_train,y_train))\n",
    "print('Test Score:', etc.score(X_test,y_test))\n",
    "print('Train Matthews Corr:', matthews_corrcoef(y_train,y_train_etc_pred))\n",
    "print('Test Matthews Corr:', matthews_corrcoef(y_test,y_test_etc_pred))\n",
    "#print('Out-of-bag Score:', etc.oob_score_)\n",
    "print('Train Hamming Loss:', hamming_loss(y_train,y_train_etc_pred))\n",
    "print('Test Hamming Loss:', hamming_loss(y_test,y_test_etc_pred))\n",
    "\n",
    "print('Train Confusion Matrix:')\n",
    "cm_train_etc = confusion_matrix(y_train,y_train_etc_pred, labels=classes)\n",
    "fig = sns.heatmap(cm_train_etc,annot=True, fmt=\"d\")\n",
    "plt.xlabel('Pedicted')\n",
    "plt.ylabel('True')\n",
    "plt.show()\n",
    "if savefig == True:\n",
    "    fig.figure.savefig('Extra-Train-Class-2-Diam.png')\n",
    "print('Test Confusion Matrix:')\n",
    "cm_test_etc = confusion_matrix(y_test,y_test_etc_pred, labels=classes)\n",
    "fig = sns.heatmap(cm_test_etc,annot=True, fmt=\"d\")\n",
    "plt.xlabel('Pedicted')\n",
    "plt.ylabel('True')\n",
    "plt.show()\n",
    "if savefig == True:\n",
    "    fig.figure.savefig('Extra-Test-Class-2-Diam.png')\n",
    "\n",
    "print('Test Classification Report:')\n",
    "print(classification_report(y_test,y_test_etc_pred))\n",
    "report = classification_report(y_test,y_test_etc_pred, output_dict = True)\n",
    "df = pd.DataFrame(report).transpose()\n",
    "df"
   ]
  },
  {
   "cell_type": "code",
   "execution_count": 21,
   "metadata": {},
   "outputs": [
    {
     "name": "stdout",
     "output_type": "stream",
     "text": [
      "Train Score: 1.0\n",
      "Test Score: 0.715\n",
      "Train Matthews Corr: 1.0\n",
      "Test Matthews Corr: 0.4305385099167126\n",
      "Out-of-bag Score: 0.725\n",
      "Train Hamming Loss: 0.0\n",
      "Test Hamming Loss: 0.285\n",
      "Train Confusion Matrix:\n"
     ]
    },
    {
     "data": {
      "image/png": "[encoded data removed]",
      "text/plain": [
       "<Figure size 360x360 with 2 Axes>"
      ]
     },
     "metadata": {
      "needs_background": "light"
     },
     "output_type": "display_data"
    },
    {
     "name": "stdout",
     "output_type": "stream",
     "text": [
      "Test Confusion Matrix:\n"
     ]
    },
    {
     "data": {
      "image/png": "[encoded data removed]",
      "text/plain": [
       "<Figure size 360x360 with 2 Axes>"
      ]
     },
     "metadata": {
      "needs_background": "light"
     },
     "output_type": "display_data"
    },
    {
     "name": "stdout",
     "output_type": "stream",
     "text": [
      "Test Classification Report:\n",
      "              precision    recall  f1-score   support\n",
      "\n",
      "   path-like       0.69      0.73      0.71        95\n",
      "   star-like       0.74      0.70      0.72       105\n",
      "\n",
      "   micro avg       0.71      0.71      0.71       200\n",
      "   macro avg       0.71      0.72      0.71       200\n",
      "weighted avg       0.72      0.71      0.72       200\n",
      "\n"
     ]
    },
    {
     "data": {
      "text/html": [
       "<div>\n",
       "<style scoped>\n",
       "    .dataframe tbody tr th:only-of-type {\n",
       "        vertical-align: middle;\n",
       "    }\n",
       "\n",
       "    .dataframe tbody tr th {\n",
       "        vertical-align: top;\n",
       "    }\n",
       "\n",
       "    .dataframe thead th {\n",
       "        text-align: right;\n",
       "    }\n",
       "</style>\n",
       "<table border=\"1\" class=\"dataframe\">\n",
       "  <thead>\n",
       "    <tr style=\"text-align: right;\">\n",
       "      <th></th>\n",
       "      <th>f1-score</th>\n",
       "      <th>precision</th>\n",
       "      <th>recall</th>\n",
       "      <th>support</th>\n",
       "    </tr>\n",
       "  </thead>\n",
       "  <tbody>\n",
       "    <tr>\n",
       "      <th>path-like</th>\n",
       "      <td>0.707692</td>\n",
       "      <td>0.69000</td>\n",
       "      <td>0.726316</td>\n",
       "      <td>95.0</td>\n",
       "    </tr>\n",
       "    <tr>\n",
       "      <th>star-like</th>\n",
       "      <td>0.721951</td>\n",
       "      <td>0.74000</td>\n",
       "      <td>0.704762</td>\n",
       "      <td>105.0</td>\n",
       "    </tr>\n",
       "    <tr>\n",
       "      <th>micro avg</th>\n",
       "      <td>0.715000</td>\n",
       "      <td>0.71500</td>\n",
       "      <td>0.715000</td>\n",
       "      <td>200.0</td>\n",
       "    </tr>\n",
       "    <tr>\n",
       "      <th>macro avg</th>\n",
       "      <td>0.714822</td>\n",
       "      <td>0.71500</td>\n",
       "      <td>0.715539</td>\n",
       "      <td>200.0</td>\n",
       "    </tr>\n",
       "    <tr>\n",
       "      <th>weighted avg</th>\n",
       "      <td>0.715178</td>\n",
       "      <td>0.71625</td>\n",
       "      <td>0.715000</td>\n",
       "      <td>200.0</td>\n",
       "    </tr>\n",
       "  </tbody>\n",
       "</table>\n",
       "</div>"
      ],
      "text/plain": [
       "              f1-score  precision    recall  support\n",
       "path-like     0.707692    0.69000  0.726316     95.0\n",
       "star-like     0.721951    0.74000  0.704762    105.0\n",
       "micro avg     0.715000    0.71500  0.715000    200.0\n",
       "macro avg     0.714822    0.71500  0.715539    200.0\n",
       "weighted avg  0.715178    0.71625  0.715000    200.0"
      ]
     },
     "execution_count": 21,
     "metadata": {},
     "output_type": "execute_result"
    }
   ],
   "source": [
    "# Extra Trees with Bootstrapping\n",
    "etc = ExtraTreesClassifier(n_estimators=50,random_state=random_state,oob_score=True,bootstrap=True)\n",
    "\n",
    "# etc = ExtraTreesClassifier(n_estimators='warn', criterion='gini', max_depth=None, min_samples_split=2, \n",
    "#                           min_samples_leaf=1, min_weight_fraction_leaf=0.0, max_features='auto', \n",
    "#                           max_leaf_nodes=None, min_impurity_decrease=0.0, min_impurity_split=None, \n",
    "#                           bootstrap=False, oob_score=False, n_jobs=None, random_state=None, \n",
    "#                           verbose=0, warm_start=False, class_weight=None)\n",
    "\n",
    "etc.fit(X_train,y_train)\n",
    "y_train_etc_pred = etc.predict(X_train)\n",
    "y_test_etc_pred = etc.predict(X_test)\n",
    "print('Train Score:', etc.score(X_train,y_train))\n",
    "print('Test Score:', etc.score(X_test,y_test))\n",
    "print('Train Matthews Corr:', matthews_corrcoef(y_train,y_train_etc_pred))\n",
    "print('Test Matthews Corr:', matthews_corrcoef(y_test,y_test_etc_pred))\n",
    "print('Out-of-bag Score:', etc.oob_score_)\n",
    "print('Train Hamming Loss:', hamming_loss(y_train,y_train_etc_pred))\n",
    "print('Test Hamming Loss:', hamming_loss(y_test,y_test_etc_pred))\n",
    "\n",
    "print('Train Confusion Matrix:')\n",
    "cm_train_etc = confusion_matrix(y_train,y_train_etc_pred, labels=classes)\n",
    "fig = sns.heatmap(cm_train_etc,annot=True, fmt=\"d\")\n",
    "plt.xlabel('Pedicted')\n",
    "plt.ylabel('True')\n",
    "plt.show()\n",
    "#if savefig == True:\n",
    "#    fig.figure.savefig('ExtraB-Train-Class-2-Diam.png')\n",
    "print('Test Confusion Matrix:')\n",
    "cm_test_etc = confusion_matrix(y_test,y_test_etc_pred, labels=classes)\n",
    "fig = sns.heatmap(cm_test_etc,annot=True, fmt=\"d\")\n",
    "plt.xlabel('Pedicted')\n",
    "plt.ylabel('True')\n",
    "plt.show()\n",
    "#if savefig == True:\n",
    "#    fig.figure.savefig('ExtraB-Test-Class-2-Diam.png')\n",
    "\n",
    "print('Test Classification Report:')\n",
    "print(classification_report(y_test,y_test_etc_pred))\n",
    "report = classification_report(y_test,y_test_etc_pred, output_dict = True)\n",
    "df = pd.DataFrame(report).transpose()\n",
    "df"
   ]
  },
  {
   "cell_type": "code",
   "execution_count": 22,
   "metadata": {},
   "outputs": [
    {
     "name": "stdout",
     "output_type": "stream",
     "text": [
      "Train Score: 0.795\n",
      "Test Score: 0.765\n",
      "Train Matthews Corr: 0.5901654362334224\n",
      "Test Matthews Corr: 0.5405775306652663\n",
      "Train Hamming Loss: 0.205\n",
      "Test Hamming Loss: 0.235\n",
      "Train Confusion Matrix:\n"
     ]
    },
    {
     "data": {
      "image/png": "[encoded data removed]",
      "text/plain": [
       "<Figure size 360x360 with 2 Axes>"
      ]
     },
     "metadata": {
      "needs_background": "light"
     },
     "output_type": "display_data"
    },
    {
     "name": "stdout",
     "output_type": "stream",
     "text": [
      "Test Confusion Matrix:\n"
     ]
    },
    {
     "data": {
      "image/png": "[encoded data removed]",
      "text/plain": [
       "<Figure size 360x360 with 2 Axes>"
      ]
     },
     "metadata": {
      "needs_background": "light"
     },
     "output_type": "display_data"
    },
    {
     "name": "stdout",
     "output_type": "stream",
     "text": [
      "Test Classification Report:\n",
      "              precision    recall  f1-score   support\n",
      "\n",
      "   path-like       0.71      0.84      0.77        95\n",
      "   star-like       0.83      0.70      0.76       105\n",
      "\n",
      "   micro avg       0.77      0.77      0.77       200\n",
      "   macro avg       0.77      0.77      0.76       200\n",
      "weighted avg       0.77      0.77      0.76       200\n",
      "\n"
     ]
    },
    {
     "data": {
      "text/html": [
       "<div>\n",
       "<style scoped>\n",
       "    .dataframe tbody tr th:only-of-type {\n",
       "        vertical-align: middle;\n",
       "    }\n",
       "\n",
       "    .dataframe tbody tr th {\n",
       "        vertical-align: top;\n",
       "    }\n",
       "\n",
       "    .dataframe thead th {\n",
       "        text-align: right;\n",
       "    }\n",
       "</style>\n",
       "<table border=\"1\" class=\"dataframe\">\n",
       "  <thead>\n",
       "    <tr style=\"text-align: right;\">\n",
       "      <th></th>\n",
       "      <th>f1-score</th>\n",
       "      <th>precision</th>\n",
       "      <th>recall</th>\n",
       "      <th>support</th>\n",
       "    </tr>\n",
       "  </thead>\n",
       "  <tbody>\n",
       "    <tr>\n",
       "      <th>path-like</th>\n",
       "      <td>0.772947</td>\n",
       "      <td>0.714286</td>\n",
       "      <td>0.842105</td>\n",
       "      <td>95.0</td>\n",
       "    </tr>\n",
       "    <tr>\n",
       "      <th>star-like</th>\n",
       "      <td>0.756477</td>\n",
       "      <td>0.829545</td>\n",
       "      <td>0.695238</td>\n",
       "      <td>105.0</td>\n",
       "    </tr>\n",
       "    <tr>\n",
       "      <th>micro avg</th>\n",
       "      <td>0.765000</td>\n",
       "      <td>0.765000</td>\n",
       "      <td>0.765000</td>\n",
       "      <td>200.0</td>\n",
       "    </tr>\n",
       "    <tr>\n",
       "      <th>macro avg</th>\n",
       "      <td>0.764712</td>\n",
       "      <td>0.771916</td>\n",
       "      <td>0.768672</td>\n",
       "      <td>200.0</td>\n",
       "    </tr>\n",
       "    <tr>\n",
       "      <th>weighted avg</th>\n",
       "      <td>0.764300</td>\n",
       "      <td>0.774797</td>\n",
       "      <td>0.765000</td>\n",
       "      <td>200.0</td>\n",
       "    </tr>\n",
       "  </tbody>\n",
       "</table>\n",
       "</div>"
      ],
      "text/plain": [
       "              f1-score  precision    recall  support\n",
       "path-like     0.772947   0.714286  0.842105     95.0\n",
       "star-like     0.756477   0.829545  0.695238    105.0\n",
       "micro avg     0.765000   0.765000  0.765000    200.0\n",
       "macro avg     0.764712   0.771916  0.768672    200.0\n",
       "weighted avg  0.764300   0.774797  0.765000    200.0"
      ]
     },
     "execution_count": 22,
     "metadata": {},
     "output_type": "execute_result"
    }
   ],
   "source": [
    "# Linear SVC\n",
    "svcc = SVC(kernel='linear',random_state=random_state)\n",
    "\n",
    "# SVC(C=1.0, kernel='rbf', degree=3, gamma='auto_deprecated', coef0=0.0, shrinking=True, \n",
    "#    probability=False, tol=0.001, cache_size=200, class_weight=None, verbose=False, \n",
    "#    max_iter=-1, decision_function_shape='ovr', random_state=None)\n",
    "\n",
    "\n",
    "svcc.fit(X_train,y_train)\n",
    "y_train_svcc_pred = svcc.predict(X_train)\n",
    "y_test_svcc_pred = svcc.predict(X_test)\n",
    "print('Train Score:', svcc.score(X_train,y_train))\n",
    "print('Test Score:', svcc.score(X_test,y_test))\n",
    "print('Train Matthews Corr:', matthews_corrcoef(y_train,y_train_svcc_pred))\n",
    "print('Test Matthews Corr:', matthews_corrcoef(y_test,y_test_svcc_pred))\n",
    "print('Train Hamming Loss:', hamming_loss(y_train,y_train_svcc_pred))\n",
    "print('Test Hamming Loss:', hamming_loss(y_test,y_test_svcc_pred))\n",
    "\n",
    "print('Train Confusion Matrix:')\n",
    "cm_train_svcc = confusion_matrix(y_train,y_train_svcc_pred, labels=classes)\n",
    "fig = sns.heatmap(cm_train_svcc,annot=True, fmt=\"d\")\n",
    "plt.xlabel('Pedicted')\n",
    "plt.ylabel('True')\n",
    "plt.show()\n",
    "if savefig == True:\n",
    "    fig.figure.savefig('SVC-Train-Class-2-Diam.png')\n",
    "print('Test Confusion Matrix:')\n",
    "cm_test_svcc = confusion_matrix(y_test,y_test_svcc_pred, labels=classes)\n",
    "fig = sns.heatmap(cm_test_svcc,annot=True, fmt=\"d\")\n",
    "plt.xlabel('Pedicted')\n",
    "plt.ylabel('True')\n",
    "plt.show()\n",
    "if savefig == True:\n",
    "    fig.figure.savefig('SVC-Test-Class-2-Diam.png')\n",
    "\n",
    "print('Test Classification Report:')\n",
    "print(classification_report(y_test,y_test_svcc_pred))\n",
    "report = classification_report(y_test,y_test_svcc_pred, output_dict = True)\n",
    "df = pd.DataFrame(report).transpose()\n",
    "df"
   ]
  },
  {
   "cell_type": "code",
   "execution_count": 23,
   "metadata": {
    "scrolled": true
   },
   "outputs": [
    {
     "name": "stdout",
     "output_type": "stream",
     "text": [
      "Train Score: 0.785\n",
      "Test Score: 0.735\n",
      "Train Matthews Corr: 0.5788707836602\n",
      "Test Matthews Corr: 0.5090548625853756\n",
      "Train Hamming Loss: 0.215\n",
      "Test Hamming Loss: 0.265\n",
      "Train Confusion Matrix:\n"
     ]
    },
    {
     "data": {
      "image/png": "[encoded data removed]",
      "text/plain": [
       "<Figure size 360x360 with 2 Axes>"
      ]
     },
     "metadata": {
      "needs_background": "light"
     },
     "output_type": "display_data"
    },
    {
     "name": "stdout",
     "output_type": "stream",
     "text": [
      "Test Confusion Matrix:\n"
     ]
    },
    {
     "data": {
      "image/png": "[encoded data removed]",
      "text/plain": [
       "<Figure size 360x360 with 2 Axes>"
      ]
     },
     "metadata": {
      "needs_background": "light"
     },
     "output_type": "display_data"
    },
    {
     "name": "stdout",
     "output_type": "stream",
     "text": [
      "Test Classification Report:\n",
      "              precision    recall  f1-score   support\n",
      "\n",
      "   path-like       0.66      0.91      0.76        95\n",
      "   star-like       0.87      0.58      0.70       105\n",
      "\n",
      "   micro avg       0.73      0.73      0.73       200\n",
      "   macro avg       0.77      0.74      0.73       200\n",
      "weighted avg       0.77      0.73      0.73       200\n",
      "\n"
     ]
    },
    {
     "data": {
      "text/html": [
       "<div>\n",
       "<style scoped>\n",
       "    .dataframe tbody tr th:only-of-type {\n",
       "        vertical-align: middle;\n",
       "    }\n",
       "\n",
       "    .dataframe tbody tr th {\n",
       "        vertical-align: top;\n",
       "    }\n",
       "\n",
       "    .dataframe thead th {\n",
       "        text-align: right;\n",
       "    }\n",
       "</style>\n",
       "<table border=\"1\" class=\"dataframe\">\n",
       "  <thead>\n",
       "    <tr style=\"text-align: right;\">\n",
       "      <th></th>\n",
       "      <th>f1-score</th>\n",
       "      <th>precision</th>\n",
       "      <th>recall</th>\n",
       "      <th>support</th>\n",
       "    </tr>\n",
       "  </thead>\n",
       "  <tbody>\n",
       "    <tr>\n",
       "      <th>path-like</th>\n",
       "      <td>0.764444</td>\n",
       "      <td>0.661538</td>\n",
       "      <td>0.905263</td>\n",
       "      <td>95.0</td>\n",
       "    </tr>\n",
       "    <tr>\n",
       "      <th>star-like</th>\n",
       "      <td>0.697143</td>\n",
       "      <td>0.871429</td>\n",
       "      <td>0.580952</td>\n",
       "      <td>105.0</td>\n",
       "    </tr>\n",
       "    <tr>\n",
       "      <th>micro avg</th>\n",
       "      <td>0.735000</td>\n",
       "      <td>0.735000</td>\n",
       "      <td>0.735000</td>\n",
       "      <td>200.0</td>\n",
       "    </tr>\n",
       "    <tr>\n",
       "      <th>macro avg</th>\n",
       "      <td>0.730794</td>\n",
       "      <td>0.766484</td>\n",
       "      <td>0.743108</td>\n",
       "      <td>200.0</td>\n",
       "    </tr>\n",
       "    <tr>\n",
       "      <th>weighted avg</th>\n",
       "      <td>0.729111</td>\n",
       "      <td>0.771731</td>\n",
       "      <td>0.735000</td>\n",
       "      <td>200.0</td>\n",
       "    </tr>\n",
       "  </tbody>\n",
       "</table>\n",
       "</div>"
      ],
      "text/plain": [
       "              f1-score  precision    recall  support\n",
       "path-like     0.764444   0.661538  0.905263     95.0\n",
       "star-like     0.697143   0.871429  0.580952    105.0\n",
       "micro avg     0.735000   0.735000  0.735000    200.0\n",
       "macro avg     0.730794   0.766484  0.743108    200.0\n",
       "weighted avg  0.729111   0.771731  0.735000    200.0"
      ]
     },
     "execution_count": 23,
     "metadata": {},
     "output_type": "execute_result"
    }
   ],
   "source": [
    "# Quadratic SVC\n",
    "svcc2 = SVC(kernel='poly',degree=2,random_state=random_state,gamma='auto')\n",
    "\n",
    "# SVC(C=1.0, kernel='rbf', degree=3, gamma='auto_deprecated', coef0=0.0, shrinking=True, \n",
    "#    probability=False, tol=0.001, cache_size=200, class_weight=None, verbose=False, \n",
    "#    max_iter=-1, decision_function_shape='ovr', random_state=None)\n",
    "\n",
    "svcc2.fit(X_train,y_train)\n",
    "y_train_svcc2_pred = svcc2.predict(X_train)\n",
    "y_test_svcc2_pred = svcc2.predict(X_test)\n",
    "print('Train Score:', svcc2.score(X_train,y_train))\n",
    "print('Test Score:', svcc2.score(X_test,y_test))\n",
    "print('Train Matthews Corr:', matthews_corrcoef(y_train,y_train_svcc2_pred))\n",
    "print('Test Matthews Corr:', matthews_corrcoef(y_test,y_test_svcc2_pred))\n",
    "print('Train Hamming Loss:', hamming_loss(y_train,y_train_svcc2_pred))\n",
    "print('Test Hamming Loss:', hamming_loss(y_test,y_test_svcc2_pred))\n",
    "\n",
    "print('Train Confusion Matrix:')\n",
    "cm_train_svcc2 = confusion_matrix(y_train,y_train_svcc2_pred, labels=classes)\n",
    "fig = sns.heatmap(cm_train_svcc2,annot=True, fmt=\"d\")\n",
    "plt.xlabel('Pedicted')\n",
    "plt.ylabel('True')\n",
    "plt.show()\n",
    "if savefig == True:\n",
    "    fig.figure.savefig('SVC2-Train-Class-2-Diam.png')\n",
    "print('Test Confusion Matrix:')\n",
    "cm_test_svcc2 = confusion_matrix(y_test,y_test_svcc2_pred, labels=classes)\n",
    "fig = sns.heatmap(cm_test_svcc2,annot=True, fmt=\"d\")\n",
    "plt.xlabel('Pedicted')\n",
    "plt.ylabel('True')\n",
    "plt.show()\n",
    "if savefig == True:\n",
    "    fig.figure.savefig('SVC2-Test-Class-2-Diam.png')\n",
    "\n",
    "print('Test Classification Report:')\n",
    "print(classification_report(y_test,y_test_svcc2_pred))\n",
    "report = classification_report(y_test,y_test_svcc2_pred, output_dict = True)\n",
    "df = pd.DataFrame(report).transpose()\n",
    "df"
   ]
  },
  {
   "cell_type": "code",
   "execution_count": 24,
   "metadata": {},
   "outputs": [
    {
     "name": "stdout",
     "output_type": "stream",
     "text": [
      "Train Score: 0.54\n",
      "Test Score: 0.535\n",
      "Train Matthews Corr: 0.04989514243705506\n",
      "Test Matthews Corr: 0.07866982739341924\n",
      "Train Hamming Loss: 0.46\n",
      "Test Hamming Loss: 0.465\n",
      "Train Confusion Matrix:\n"
     ]
    },
    {
     "name": "stderr",
     "output_type": "stream",
     "text": [
      "/home/amir/anaconda3/lib/python3.6/site-packages/sklearn/svm/base.py:931: ConvergenceWarning: Liblinear failed to converge, increase the number of iterations.\n",
      "  \"the number of iterations.\", ConvergenceWarning)\n"
     ]
    },
    {
     "data": {
      "image/png": "[encoded data removed]",
      "text/plain": [
       "<Figure size 360x360 with 2 Axes>"
      ]
     },
     "metadata": {
      "needs_background": "light"
     },
     "output_type": "display_data"
    },
    {
     "name": "stdout",
     "output_type": "stream",
     "text": [
      "Test Confusion Matrix:\n"
     ]
    },
    {
     "data": {
      "image/png": "[encoded data removed]",
      "text/plain": [
       "<Figure size 360x360 with 2 Axes>"
      ]
     },
     "metadata": {
      "needs_background": "light"
     },
     "output_type": "display_data"
    },
    {
     "name": "stdout",
     "output_type": "stream",
     "text": [
      "Test Classification Report:\n",
      "              precision    recall  f1-score   support\n",
      "\n",
      "   path-like       0.75      0.03      0.06        95\n",
      "   star-like       0.53      0.99      0.69       105\n",
      "\n",
      "   micro avg       0.54      0.54      0.54       200\n",
      "   macro avg       0.64      0.51      0.38       200\n",
      "weighted avg       0.63      0.54      0.39       200\n",
      "\n"
     ]
    },
    {
     "data": {
      "text/html": [
       "<div>\n",
       "<style scoped>\n",
       "    .dataframe tbody tr th:only-of-type {\n",
       "        vertical-align: middle;\n",
       "    }\n",
       "\n",
       "    .dataframe tbody tr th {\n",
       "        vertical-align: top;\n",
       "    }\n",
       "\n",
       "    .dataframe thead th {\n",
       "        text-align: right;\n",
       "    }\n",
       "</style>\n",
       "<table border=\"1\" class=\"dataframe\">\n",
       "  <thead>\n",
       "    <tr style=\"text-align: right;\">\n",
       "      <th></th>\n",
       "      <th>f1-score</th>\n",
       "      <th>precision</th>\n",
       "      <th>recall</th>\n",
       "      <th>support</th>\n",
       "    </tr>\n",
       "  </thead>\n",
       "  <tbody>\n",
       "    <tr>\n",
       "      <th>path-like</th>\n",
       "      <td>0.060606</td>\n",
       "      <td>0.750000</td>\n",
       "      <td>0.031579</td>\n",
       "      <td>95.0</td>\n",
       "    </tr>\n",
       "    <tr>\n",
       "      <th>star-like</th>\n",
       "      <td>0.691030</td>\n",
       "      <td>0.530612</td>\n",
       "      <td>0.990476</td>\n",
       "      <td>105.0</td>\n",
       "    </tr>\n",
       "    <tr>\n",
       "      <th>micro avg</th>\n",
       "      <td>0.535000</td>\n",
       "      <td>0.535000</td>\n",
       "      <td>0.535000</td>\n",
       "      <td>200.0</td>\n",
       "    </tr>\n",
       "    <tr>\n",
       "      <th>macro avg</th>\n",
       "      <td>0.375818</td>\n",
       "      <td>0.640306</td>\n",
       "      <td>0.511028</td>\n",
       "      <td>200.0</td>\n",
       "    </tr>\n",
       "    <tr>\n",
       "      <th>weighted avg</th>\n",
       "      <td>0.391579</td>\n",
       "      <td>0.634821</td>\n",
       "      <td>0.535000</td>\n",
       "      <td>200.0</td>\n",
       "    </tr>\n",
       "  </tbody>\n",
       "</table>\n",
       "</div>"
      ],
      "text/plain": [
       "              f1-score  precision    recall  support\n",
       "path-like     0.060606   0.750000  0.031579     95.0\n",
       "star-like     0.691030   0.530612  0.990476    105.0\n",
       "micro avg     0.535000   0.535000  0.535000    200.0\n",
       "macro avg     0.375818   0.640306  0.511028    200.0\n",
       "weighted avg  0.391579   0.634821  0.535000    200.0"
      ]
     },
     "execution_count": 24,
     "metadata": {},
     "output_type": "execute_result"
    }
   ],
   "source": [
    "# LinearSVC\n",
    "lsvc = LinearSVC(penalty='l2', loss='squared_hinge', dual=False, C=1.0, multi_class='crammer_singer', random_state=random_state)\n",
    "\n",
    "# lsvc = LinearSVC(penalty='l2', loss='squared_hinge', dual=True, tol=0.0001, C=1.0, multi_class='ovr', \n",
    "#          fit_intercept=True, intercept_scaling=1, class_weight=None, verbose=0, random_state=None, max_iter=1000)\n",
    "\n",
    "\n",
    "lsvc.fit(X_train,y_train)\n",
    "y_train_lsvc_pred = lsvc.predict(X_train)\n",
    "y_test_lsvc_pred = lsvc.predict(X_test)\n",
    "print('Train Score:', lsvc.score(X_train,y_train))\n",
    "print('Test Score:', lsvc.score(X_test,y_test))\n",
    "print('Train Matthews Corr:', matthews_corrcoef(y_train,y_train_lsvc_pred))\n",
    "print('Test Matthews Corr:', matthews_corrcoef(y_test,y_test_lsvc_pred))\n",
    "print('Train Hamming Loss:',hamming_loss(y_train,y_train_lsvc_pred))\n",
    "print('Test Hamming Loss:',hamming_loss(y_test,y_test_lsvc_pred))\n",
    "\n",
    "print('Train Confusion Matrix:')\n",
    "cm_train_lsvc = confusion_matrix(y_train,y_train_lsvc_pred, labels=classes)\n",
    "fig = sns.heatmap(cm_train_lsvc,annot=True, fmt=\"d\")\n",
    "plt.xlabel('Pedicted')\n",
    "plt.ylabel('True')\n",
    "plt.show()\n",
    "if savefig == True:\n",
    "    fig.figure.savefig('LSVC-Train-Class-2-Diam.png')\n",
    "\n",
    "print('Test Confusion Matrix:')\n",
    "cm_test_lsvc = confusion_matrix(y_test,y_test_lsvc_pred, labels=classes)\n",
    "fig = sns.heatmap(cm_test_lsvc,annot=True, fmt=\"d\")\n",
    "plt.xlabel('Pedicted')\n",
    "plt.ylabel('True')\n",
    "plt.show()\n",
    "if savefig == True:\n",
    "    fig.figure.savefig('LSVC-Test-Class-2-Diam.png')\n",
    "\n",
    "print('Test Classification Report:')\n",
    "print(classification_report(y_test,y_test_lsvc_pred))\n",
    "report = classification_report(y_test,y_test_lsvc_pred, output_dict = True)\n",
    "df = pd.DataFrame(report).transpose()\n",
    "df"
   ]
  },
  {
   "cell_type": "code",
   "execution_count": 25,
   "metadata": {},
   "outputs": [
    {
     "name": "stdout",
     "output_type": "stream",
     "text": [
      "Train Score: 0.595\n",
      "Test Score: 0.515\n",
      "Train Matthews Corr: 0.20033551983647904\n",
      "Test Matthews Corr: 0.03206573801625879\n",
      "Train Hamming Loss: 0.405\n",
      "Test Hamming Loss: 0.485\n",
      "Train Confusion Matrix:\n"
     ]
    },
    {
     "data": {
      "image/png": "[encoded data removed]",
      "text/plain": [
       "<Figure size 360x360 with 2 Axes>"
      ]
     },
     "metadata": {
      "needs_background": "light"
     },
     "output_type": "display_data"
    },
    {
     "name": "stdout",
     "output_type": "stream",
     "text": [
      "Test Confusion Matrix:\n"
     ]
    },
    {
     "data": {
      "image/png": "[encoded data removed]",
      "text/plain": [
       "<Figure size 360x360 with 2 Axes>"
      ]
     },
     "metadata": {
      "needs_background": "light"
     },
     "output_type": "display_data"
    },
    {
     "name": "stdout",
     "output_type": "stream",
     "text": [
      "Test Classification Report:\n",
      "              precision    recall  f1-score   support\n",
      "\n",
      "   path-like       0.49      0.54      0.51        95\n",
      "   star-like       0.54      0.50      0.52       105\n",
      "\n",
      "   micro avg       0.52      0.52      0.52       200\n",
      "   macro avg       0.52      0.52      0.51       200\n",
      "weighted avg       0.52      0.52      0.52       200\n",
      "\n"
     ]
    },
    {
     "data": {
      "text/html": [
       "<div>\n",
       "<style scoped>\n",
       "    .dataframe tbody tr th:only-of-type {\n",
       "        vertical-align: middle;\n",
       "    }\n",
       "\n",
       "    .dataframe tbody tr th {\n",
       "        vertical-align: top;\n",
       "    }\n",
       "\n",
       "    .dataframe thead th {\n",
       "        text-align: right;\n",
       "    }\n",
       "</style>\n",
       "<table border=\"1\" class=\"dataframe\">\n",
       "  <thead>\n",
       "    <tr style=\"text-align: right;\">\n",
       "      <th></th>\n",
       "      <th>f1-score</th>\n",
       "      <th>precision</th>\n",
       "      <th>recall</th>\n",
       "      <th>support</th>\n",
       "    </tr>\n",
       "  </thead>\n",
       "  <tbody>\n",
       "    <tr>\n",
       "      <th>path-like</th>\n",
       "      <td>0.512563</td>\n",
       "      <td>0.490385</td>\n",
       "      <td>0.536842</td>\n",
       "      <td>95.0</td>\n",
       "    </tr>\n",
       "    <tr>\n",
       "      <th>star-like</th>\n",
       "      <td>0.517413</td>\n",
       "      <td>0.541667</td>\n",
       "      <td>0.495238</td>\n",
       "      <td>105.0</td>\n",
       "    </tr>\n",
       "    <tr>\n",
       "      <th>micro avg</th>\n",
       "      <td>0.515000</td>\n",
       "      <td>0.515000</td>\n",
       "      <td>0.515000</td>\n",
       "      <td>200.0</td>\n",
       "    </tr>\n",
       "    <tr>\n",
       "      <th>macro avg</th>\n",
       "      <td>0.514988</td>\n",
       "      <td>0.516026</td>\n",
       "      <td>0.516040</td>\n",
       "      <td>200.0</td>\n",
       "    </tr>\n",
       "    <tr>\n",
       "      <th>weighted avg</th>\n",
       "      <td>0.515109</td>\n",
       "      <td>0.517308</td>\n",
       "      <td>0.515000</td>\n",
       "      <td>200.0</td>\n",
       "    </tr>\n",
       "  </tbody>\n",
       "</table>\n",
       "</div>"
      ],
      "text/plain": [
       "              f1-score  precision    recall  support\n",
       "path-like     0.512563   0.490385  0.536842     95.0\n",
       "star-like     0.517413   0.541667  0.495238    105.0\n",
       "micro avg     0.515000   0.515000  0.515000    200.0\n",
       "macro avg     0.514988   0.516026  0.516040    200.0\n",
       "weighted avg  0.515109   0.517308  0.515000    200.0"
      ]
     },
     "execution_count": 25,
     "metadata": {},
     "output_type": "execute_result"
    }
   ],
   "source": [
    "# Binomial Naive Bayes\n",
    "bnb = BernoulliNB()\n",
    "\n",
    "# bnb = BernoulliNB(alpha=1.0, binarize=0.0, fit_prior=True, class_prior=None)\n",
    "\n",
    "bnb.fit(X_train,y_train)\n",
    "y_train_bnb_pred = bnb.predict(X_train)\n",
    "y_test_bnb_pred = bnb.predict(X_test)\n",
    "print('Train Score:', bnb.score(X_train,y_train))\n",
    "print('Test Score:', bnb.score(X_test,y_test))\n",
    "print('Train Matthews Corr:', matthews_corrcoef(y_train,y_train_bnb_pred))\n",
    "print('Test Matthews Corr:', matthews_corrcoef(y_test,y_test_bnb_pred))\n",
    "print('Train Hamming Loss:',hamming_loss(y_train,y_train_bnb_pred))\n",
    "print('Test Hamming Loss:',hamming_loss(y_test,y_test_bnb_pred))\n",
    "\n",
    "print('Train Confusion Matrix:')\n",
    "cm_train_bnb = confusion_matrix(y_train,y_train_bnb_pred, labels=classes)\n",
    "fig = sns.heatmap(cm_train_bnb,annot=True, fmt=\"d\")\n",
    "plt.xlabel('Pedicted')\n",
    "plt.ylabel('True')\n",
    "plt.show()\n",
    "if savefig == True:\n",
    "    fig.figure.savefig('BNB-Train-Class-2-Diam.png')\n",
    "\n",
    "print('Test Confusion Matrix:')\n",
    "cm_test_bnb = confusion_matrix(y_test,y_test_bnb_pred, labels=classes)\n",
    "fig = sns.heatmap(cm_test_bnb,annot=True, fmt=\"d\")\n",
    "plt.xlabel('Pedicted')\n",
    "plt.ylabel('True')\n",
    "plt.show()\n",
    "if savefig == True:\n",
    "    fig.figure.savefig('BNB-Test-Class-2-Diam.png')\n",
    "\n",
    "\n",
    "print('Test Classification Report:')\n",
    "print(classification_report(y_test,y_test_bnb_pred))\n",
    "report = classification_report(y_test,y_test_bnb_pred, output_dict = True)\n",
    "df = pd.DataFrame(report).transpose()\n",
    "df"
   ]
  },
  {
   "cell_type": "code",
   "execution_count": 26,
   "metadata": {},
   "outputs": [
    {
     "name": "stdout",
     "output_type": "stream",
     "text": [
      "Train Score: 0.535\n",
      "Test Score: 0.525\n",
      "Train Matthews Corr: 0.0\n",
      "Test Matthews Corr: 0.0\n",
      "Train Hamming Loss: 0.465\n",
      "Test Hamming Loss: 0.475\n",
      "Train Confusion Matrix:\n"
     ]
    },
    {
     "name": "stderr",
     "output_type": "stream",
     "text": [
      "/home/amir/anaconda3/lib/python3.6/site-packages/sklearn/linear_model/stochastic_gradient.py:166: FutureWarning: max_iter and tol parameters have been added in SGDClassifier in 0.19. If both are left unset, they default to max_iter=5 and tol=None. If tol is not None, max_iter defaults to max_iter=1000. From 0.21, default max_iter will be 1000, and default tol will be 1e-3.\n",
      "  FutureWarning)\n",
      "/home/amir/anaconda3/lib/python3.6/site-packages/sklearn/metrics/classification.py:543: RuntimeWarning: invalid value encountered in double_scalars\n",
      "  mcc = cov_ytyp / np.sqrt(cov_ytyt * cov_ypyp)\n"
     ]
    },
    {
     "data": {
      "image/png": "[encoded data removed]",
      "text/plain": [
       "<Figure size 360x360 with 2 Axes>"
      ]
     },
     "metadata": {
      "needs_background": "light"
     },
     "output_type": "display_data"
    },
    {
     "name": "stdout",
     "output_type": "stream",
     "text": [
      "Test Confusion Matrix:\n"
     ]
    },
    {
     "data": {
      "image/png": "[encoded data removed]",
      "text/plain": [
       "<Figure size 360x360 with 2 Axes>"
      ]
     },
     "metadata": {
      "needs_background": "light"
     },
     "output_type": "display_data"
    },
    {
     "name": "stdout",
     "output_type": "stream",
     "text": [
      "Test Classification Report:\n",
      "              precision    recall  f1-score   support\n",
      "\n",
      "   path-like       0.00      0.00      0.00        95\n",
      "   star-like       0.53      1.00      0.69       105\n",
      "\n",
      "   micro avg       0.53      0.53      0.53       200\n",
      "   macro avg       0.26      0.50      0.34       200\n",
      "weighted avg       0.28      0.53      0.36       200\n",
      "\n"
     ]
    },
    {
     "name": "stderr",
     "output_type": "stream",
     "text": [
      "/home/amir/anaconda3/lib/python3.6/site-packages/sklearn/metrics/classification.py:1143: UndefinedMetricWarning: Precision and F-score are ill-defined and being set to 0.0 in labels with no predicted samples.\n",
      "  'precision', 'predicted', average, warn_for)\n",
      "/home/amir/anaconda3/lib/python3.6/site-packages/sklearn/metrics/classification.py:1143: UndefinedMetricWarning: Precision and F-score are ill-defined and being set to 0.0 in labels with no predicted samples.\n",
      "  'precision', 'predicted', average, warn_for)\n",
      "/home/amir/anaconda3/lib/python3.6/site-packages/sklearn/metrics/classification.py:1143: UndefinedMetricWarning: Precision and F-score are ill-defined and being set to 0.0 in labels with no predicted samples.\n",
      "  'precision', 'predicted', average, warn_for)\n",
      "/home/amir/anaconda3/lib/python3.6/site-packages/sklearn/metrics/classification.py:1143: UndefinedMetricWarning: Precision and F-score are ill-defined and being set to 0.0 in labels with no predicted samples.\n",
      "  'precision', 'predicted', average, warn_for)\n",
      "/home/amir/anaconda3/lib/python3.6/site-packages/sklearn/metrics/classification.py:1143: UndefinedMetricWarning: Precision and F-score are ill-defined and being set to 0.0 in labels with no predicted samples.\n",
      "  'precision', 'predicted', average, warn_for)\n",
      "/home/amir/anaconda3/lib/python3.6/site-packages/sklearn/metrics/classification.py:1143: UndefinedMetricWarning: Precision and F-score are ill-defined and being set to 0.0 in labels with no predicted samples.\n",
      "  'precision', 'predicted', average, warn_for)\n"
     ]
    },
    {
     "data": {
      "text/html": [
       "<div>\n",
       "<style scoped>\n",
       "    .dataframe tbody tr th:only-of-type {\n",
       "        vertical-align: middle;\n",
       "    }\n",
       "\n",
       "    .dataframe tbody tr th {\n",
       "        vertical-align: top;\n",
       "    }\n",
       "\n",
       "    .dataframe thead th {\n",
       "        text-align: right;\n",
       "    }\n",
       "</style>\n",
       "<table border=\"1\" class=\"dataframe\">\n",
       "  <thead>\n",
       "    <tr style=\"text-align: right;\">\n",
       "      <th></th>\n",
       "      <th>f1-score</th>\n",
       "      <th>precision</th>\n",
       "      <th>recall</th>\n",
       "      <th>support</th>\n",
       "    </tr>\n",
       "  </thead>\n",
       "  <tbody>\n",
       "    <tr>\n",
       "      <th>path-like</th>\n",
       "      <td>0.000000</td>\n",
       "      <td>0.000000</td>\n",
       "      <td>0.000</td>\n",
       "      <td>95.0</td>\n",
       "    </tr>\n",
       "    <tr>\n",
       "      <th>star-like</th>\n",
       "      <td>0.688525</td>\n",
       "      <td>0.525000</td>\n",
       "      <td>1.000</td>\n",
       "      <td>105.0</td>\n",
       "    </tr>\n",
       "    <tr>\n",
       "      <th>micro avg</th>\n",
       "      <td>0.525000</td>\n",
       "      <td>0.525000</td>\n",
       "      <td>0.525</td>\n",
       "      <td>200.0</td>\n",
       "    </tr>\n",
       "    <tr>\n",
       "      <th>macro avg</th>\n",
       "      <td>0.344262</td>\n",
       "      <td>0.262500</td>\n",
       "      <td>0.500</td>\n",
       "      <td>200.0</td>\n",
       "    </tr>\n",
       "    <tr>\n",
       "      <th>weighted avg</th>\n",
       "      <td>0.361475</td>\n",
       "      <td>0.275625</td>\n",
       "      <td>0.525</td>\n",
       "      <td>200.0</td>\n",
       "    </tr>\n",
       "  </tbody>\n",
       "</table>\n",
       "</div>"
      ],
      "text/plain": [
       "              f1-score  precision  recall  support\n",
       "path-like     0.000000   0.000000   0.000     95.0\n",
       "star-like     0.688525   0.525000   1.000    105.0\n",
       "micro avg     0.525000   0.525000   0.525    200.0\n",
       "macro avg     0.344262   0.262500   0.500    200.0\n",
       "weighted avg  0.361475   0.275625   0.525    200.0"
      ]
     },
     "execution_count": 26,
     "metadata": {},
     "output_type": "execute_result"
    }
   ],
   "source": [
    "# Stochastic Gradient Descent\n",
    "sgdc = SGDClassifier(loss='squared_hinge', penalty='l2', alpha=0.00001, l1_ratio=0.15, \n",
    "                     random_state=random_state, learning_rate='optimal')\n",
    "\n",
    "# sgdc = SGDClassifier(loss='hinge', penalty='l2', alpha=0.0001, l1_ratio=0.15, fit_intercept=True, \n",
    "#              max_iter=1000, tol=0.001, shuffle=True, verbose=0, epsilon=0.1, n_jobs=None, \n",
    "#              random_state=None, learning_rate='optimal', eta0=0.0, power_t=0.5, \n",
    "#              early_stopping=False, validation_fraction=0.1, n_iter_no_change=5, \n",
    "#              class_weight=None, warm_start=False, average=False)\n",
    "\n",
    "sgdc.fit(X_train,y_train)\n",
    "y_train_sgdc_pred = sgdc.predict(X_train)\n",
    "y_test_sgdc_pred = sgdc.predict(X_test)\n",
    "print('Train Score:', sgdc.score(X_train,y_train))\n",
    "print('Test Score:', sgdc.score(X_test,y_test))\n",
    "print('Train Matthews Corr:', matthews_corrcoef(y_train,y_train_sgdc_pred))\n",
    "print('Test Matthews Corr:', matthews_corrcoef(y_test,y_test_sgdc_pred))\n",
    "print('Train Hamming Loss:',hamming_loss(y_train,y_train_sgdc_pred))\n",
    "print('Test Hamming Loss:',hamming_loss(y_test,y_test_sgdc_pred))\n",
    "\n",
    "print('Train Confusion Matrix:')\n",
    "cm_train_sgdc = confusion_matrix(y_train,y_train_sgdc_pred, labels=classes)\n",
    "fig = sns.heatmap(cm_train_sgdc,annot=True, fmt=\"d\")\n",
    "plt.xlabel('Pedicted')\n",
    "plt.ylabel('True')\n",
    "plt.show()\n",
    "if savefig == True:\n",
    "    fig.figure.savefig('SGDC-Train-Class-2-Diam.png')\n",
    "\n",
    "print('Test Confusion Matrix:')\n",
    "cm_test_sgdc = confusion_matrix(y_test,y_test_sgdc_pred, labels=classes)\n",
    "fig = sns.heatmap(cm_test_sgdc,annot=True, fmt=\"d\")\n",
    "plt.xlabel('Pedicted')\n",
    "plt.ylabel('True')\n",
    "plt.show()\n",
    "if savefig == True:\n",
    "    fig.figure.savefig('SGDC-Test-Class-2-Diam.png')\n",
    "\n",
    "print('Test Classification Report:')\n",
    "print(classification_report(y_test,y_test_sgdc_pred))\n",
    "report = classification_report(y_test,y_test_sgdc_pred, output_dict = True)\n",
    "df = pd.DataFrame(report).transpose()\n",
    "df"
   ]
  }
 ],
 "metadata": {
  "kernelspec": {
   "display_name": "Python 3",
   "language": "python",
   "name": "python3"
  },
  "language_info": {
   "codemirror_mode": {
    "name": "ipython",
    "version": 3
   },
   "file_extension": ".py",
   "mimetype": "text/x-python",
   "name": "python",
   "nbconvert_exporter": "python",
   "pygments_lexer": "ipython3",
   "version": "3.6.8"
  }
 },
 "nbformat": 4,
 "nbformat_minor": 2
}
